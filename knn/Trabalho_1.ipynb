{
 "cells": [
  {
   "cell_type": "markdown",
   "metadata": {},
   "source": [
    "## Trabalho 1 - Fundamentos de Análise de Dados\n",
    "### Implementação do algoritmo k-Nearest Neighbours (KNN) para k=1, utilizando a distância euclidiana e a distância de Mahalanobis \n",
    "#### Dataset: 'Mnist Sign Lang'"
   ]
  },
  {
   "cell_type": "code",
   "execution_count": 10,
   "metadata": {},
   "outputs": [],
   "source": [
    "import numpy as np\n",
    "import pandas as pd\n",
    "import matplotlib.pyplot as plt \n",
    "import math\n",
    "import time"
   ]
  },
  {
   "cell_type": "markdown",
   "metadata": {},
   "source": [
    "### Funções "
   ]
  },
  {
   "cell_type": "markdown",
   "metadata": {},
   "source": [
    "### Manipulação de Dados"
   ]
  },
  {
   "cell_type": "code",
   "execution_count": 5,
   "metadata": {},
   "outputs": [],
   "source": [
    "arq_train = 'sign_mnist_train.csv'\n",
    "arq_test = 'sign_mnist_test.csv'"
   ]
  },
  {
   "cell_type": "code",
   "execution_count": 133,
   "metadata": {},
   "outputs": [],
   "source": [
    "def get_all_df():\n",
    "    df_train = pd.read_csv(arq_train)\n",
    "    df_test = pd.read_csv(arq_test)\n",
    "    df_test.drop(df_test.index[0], inplace=True)\n",
    "    return df_train, df_test\n",
    "\n",
    "def get_total_df():\n",
    "    df_train, df_test = get_all_df()\n",
    "    concatenated_df = pd.concat([df_train, df_test], axis=0) \n",
    "    return concatenated_df\n",
    "\n",
    "def get_all_data():\n",
    "    df_train = pd.read_csv(arq_train)\n",
    "    df_test = pd.read_csv(arq_test)\n",
    "\n",
    "    df_train.drop(df_train.index[0], inplace=True)\n",
    "    y_train = df_train['label']\n",
    "    df_train.drop(columns=['label'], inplace=True)\n",
    "    X_train = np.asarray(df_train)\n",
    "\n",
    "    df_test.drop(df_test.index[0], inplace=True)\n",
    "    y_test = df_test['label']\n",
    "    df_test.drop(columns=['label'], inplace=True)\n",
    "    X_test = np.asarray(df_test) \n",
    "\n",
    "    return X_train, X_test, y_train, y_test\n",
    "\n",
    "def get_x(tam, arq):\n",
    "    df = pd.read_csv(arq)\n",
    "    df.drop(df.index[tam+1:], inplace=True)\n",
    "    df.drop(df.index[0], inplace=True)\n",
    "    df.drop(columns=['label'], inplace=True)\n",
    "    \n",
    "    X = np.asarray(df)\n",
    "    return X\n",
    "\n",
    "def get_y(tam, arq):\n",
    "    df = pd.read_csv(arq)\n",
    "    df.drop(df.index[tam:], inplace=True)\n",
    "    label = df['label']\n",
    "    y = np.asarray(label)\n",
    "    return y\n",
    "\n",
    "def get_x_y(tam_total):\n",
    "    tam_train = int(0.7 * tam_total)\n",
    "    tam_test = int(tam_total - tam_train)\n",
    "\n",
    "    X_train = get_x(tam_train, arq_train)\n",
    "    y_train = get_y(tam_train, arq_train)\n",
    "\n",
    "    X_test = get_x(tam_test, arq_test)\n",
    "    y_test = get_y(tam_test, arq_test)\n",
    "\n",
    "    return X_train, X_test, y_train, y_test"
   ]
  },
  {
   "cell_type": "code",
   "execution_count": 3,
   "metadata": {},
   "outputs": [],
   "source": [
    "def get_img(index = 0):\n",
    "    df,_ = get_all_df() \n",
    "    print(f\"Classe dessa imagem: {df['label'].iloc[index]}\")\n",
    "\n",
    "    df.drop(columns=['label'], inplace=True)\n",
    "    img = np.asarray(df.iloc[index])\n",
    "\n",
    "    img = img.reshape((28, 28))\n",
    "    plt.imshow(img, cmap=\"gray\")\n",
    "    plt.show()\n",
    "\n",
    "def print_img(img):\n",
    "    img.drop(columns=['label'], inplace=True)\n",
    "    img = np.asarray(img)\n",
    "    \n",
    "    img = img.reshape((28, 28))\n",
    "    plt.imshow(img, cmap=\"gray\")\n",
    "    plt.show()\n",
    "\n",
    "def converting_img(img):\n",
    "    final_img = img/255\n",
    "    return final_img\n",
    "\n",
    "def convert_dataset(dataset, isDf = True):\n",
    "    if (isDf):\n",
    "        dataset.drop(columns=['label'], inplace=True)\n",
    "        dataset = np.asarray(dataset)\n",
    "    arr1 = dataset[0]\n",
    "    img_example = arr1\n",
    "    pixels = img_example.reshape((28, 28))\n",
    "    pixels = pixels/255\n",
    "    pixels = pixels.flatten() \n",
    "\n",
    "    processed_images = np.array([pixels])\n",
    "    for index, arr in enumerate(dataset):\n",
    "        if index == 0:\n",
    "            continue\n",
    "        img_example = arr\n",
    "        pixels = img_example.reshape((28, 28))\n",
    "        \n",
    "        pixels = pixels/255\n",
    "        \n",
    "        pixels = pixels.flatten() \n",
    "        processed_images = np.append(processed_images, [pixels], axis=0)\n",
    "\n",
    "    return processed_images"
   ]
  },
  {
   "cell_type": "markdown",
   "metadata": {},
   "source": [
    "### Operações "
   ]
  },
  {
   "cell_type": "code",
   "execution_count": 7,
   "metadata": {},
   "outputs": [],
   "source": [
    "def verificacao_identidade(matrix, tol=1e-10):\n",
    "    if len(matrix) != len(matrix[0]):\n",
    "        print(\"Não é possível verificar\")\n",
    "        return\n",
    "    \n",
    "    n = len(matrix)\n",
    "    \n",
    "    for i in range(n):\n",
    "        for j in range(n):\n",
    "            if ((i == j and not math.isclose(matrix[i][j], 1, abs_tol=tol)) or  (i != j and not math.isclose(matrix[i][j], 0, abs_tol=tol))):\n",
    "                print(\"A matriz não é identidade\")\n",
    "                return\n",
    "    \n",
    "    print(\"A matriz é identidade\")\n",
    "    return"
   ]
  },
  {
   "cell_type": "code",
   "execution_count": 162,
   "metadata": {},
   "outputs": [],
   "source": [
    "def euclidian_distance(x, y):\n",
    "    len_x = len(x)\n",
    "    len_y = len(y)\n",
    "    if (len_x < len_y):\n",
    "        x.resize(len_y, refcheck=False)\n",
    "        x[len_x:(len_y-1)] = 0\n",
    "    elif (len_y < len_x):\n",
    "        y.resize(len_x, refcheck=False)\n",
    "        y[len_y:(len_x-1)] = 0\n",
    "    if (len(x) == len(y)):\n",
    "        diff = 0\n",
    "        for index, value_x in enumerate(x):\n",
    "            diff+=(value_x-y[index])*(value_x-y[index])\n",
    "        return np.sqrt(diff)\n",
    "    else:\n",
    "        print(\"Não foi possível calcular a distância euclidiana\")\n",
    "        return\n",
    "\n",
    "\n",
    "def mahalanobis_distance(x, y, S):\n",
    "    diff = x - y\n",
    "\n",
    "    dist = np.sqrt(np.dot(np.dot(diff.T, S), diff))\n",
    "    \n",
    "    return dist\n",
    "\n",
    "\n",
    "def knn (x_train, x_test, y_train, S, type):\n",
    "    classes_prediction = []\n",
    "    for test_vector in x_test:\n",
    "        distances_classes = []\n",
    "        for index, train_vector in enumerate(x_train):\n",
    "            if (type == \"mahalanobis\"):\n",
    "                dist = mahalanobis_distance(train_vector, test_vector, S)\n",
    "            elif (type == \"euclidiana\"):\n",
    "                # essa distância euclidiana foi comparada com a do scipy\n",
    "                dist = euclidian_distance(train_vector, test_vector)\n",
    "            else:\n",
    "                raise TypeError(\"O argumento deve ser uma string de valor 'mahalanobis' ou 'euclidiana'\")\n",
    "            distances_classes.append((dist, y_train[index]))\n",
    "        distances_classes.sort()\n",
    "        classes_prediction.append(distances_classes[0][1])\n",
    "    print(classes_prediction)\n",
    "    return classes_prediction\n",
    "\n",
    "# Funcao para calcular a matriz S necessaria para o cálculo da distancia de mahalanobis\n",
    "def calculo_matriz_S (train, test):\n",
    "\n",
    "    # A matriz S é calculada a partir do banco de dados todo\n",
    "    dataset = np.concatenate((train, test), axis=0)\n",
    "    cov_X = np.cov(dataset, rowvar=False)\n",
    "    rank = np.linalg.matrix_rank(cov_X)\n",
    "    \n",
    "    # todas os vetores de imagens possuem 784 colunas, se o posto não for máximo não é possível inverter a matriz\n",
    "    if (rank != 784):\n",
    "        raise ValueError(\"Não é possível calcular a inversa desta matriz\")\n",
    "\n",
    "    else:\n",
    "        print(\"Foi possível calcular a matriz S\")\n",
    "        inv_X = np.linalg.inv(cov_X)\n",
    "        return inv_X"
   ]
  },
  {
   "cell_type": "markdown",
   "metadata": {},
   "source": [
    "### Visualização dos Dados\n",
    "#### Banco de Dados:  [Sign Language - Mnist](https://www.kaggle.com/datasets/datamunge/sign-language-mnist)\n",
    "Esse banco de dados consiste em vetores que representam imagens de 784 pixels cada que estão na escala RGB (ou seja, casa pixel possui um valor inteiro entre 0 e 255, onde 0 é um pixel branco e 255, um pixel preto), que formam uma imagem de formato 28 x 28\n",
    "\n",
    "Essas imagens foram retiradas de um banco de dados mais completo, cortadas para aparecerem apenas as mãos, reduzidas a escala de cinza e reformatadas. \n"
   ]
  },
  {
   "cell_type": "code",
   "execution_count": null,
   "metadata": {},
   "outputs": [],
   "source": [
    "df = get_total_df()\n",
    "\n",
    "df.head(15)"
   ]
  },
  {
   "cell_type": "code",
   "execution_count": null,
   "metadata": {},
   "outputs": [],
   "source": [
    "df.shape"
   ]
  },
  {
   "cell_type": "markdown",
   "metadata": {},
   "source": [
    "O conjunto de dados possui uma coluna de label que é a classificação da imagem. A classificação consiste em um número de 0 a 25 (sem '9': J e sem '25': Z, pois os gestos dessas letras requerem movimentação das mãos e não podem ser representados nas imagens), que idenfica aquela imagem como uma letra do alfabeto, sendo 1, a letra 'a', 2, a letra 'b', e assim sucessivamente."
   ]
  },
  {
   "cell_type": "code",
   "execution_count": null,
   "metadata": {},
   "outputs": [],
   "source": [
    "df['label'].head(20)"
   ]
  },
  {
   "cell_type": "markdown",
   "metadata": {},
   "source": [
    "Como a imagem é representada no dataset"
   ]
  },
  {
   "cell_type": "code",
   "execution_count": null,
   "metadata": {},
   "outputs": [],
   "source": [
    "df.head(1)"
   ]
  },
  {
   "cell_type": "markdown",
   "metadata": {},
   "source": [
    "Exemplo de imagem (no caso, um G)"
   ]
  },
  {
   "cell_type": "code",
   "execution_count": null,
   "metadata": {},
   "outputs": [],
   "source": [
    "get_img(1)"
   ]
  },
  {
   "cell_type": "markdown",
   "metadata": {},
   "source": [
    "### KNN"
   ]
  },
  {
   "cell_type": "markdown",
   "metadata": {},
   "source": [
    "### Distância de Mahalanobis"
   ]
  },
  {
   "cell_type": "markdown",
   "metadata": {},
   "source": [
    "##### Cálculo da matriz S\n",
    "Para o cálculo da Distância de Mahalanobis, é necessário calcular a inversa da matriz S de covariância do banco de dados. O processo é descrito a seguir, com o dataset completo:"
   ]
  },
  {
   "cell_type": "markdown",
   "metadata": {},
   "source": [
    "Primeiramente o dataset tem suas imagens preprocessadas:"
   ]
  },
  {
   "cell_type": "code",
   "execution_count": 38,
   "metadata": {},
   "outputs": [
    {
     "ename": "KeyboardInterrupt",
     "evalue": "",
     "output_type": "error",
     "traceback": [
      "\u001b[1;31m---------------------------------------------------------------------------\u001b[0m",
      "\u001b[1;31mKeyboardInterrupt\u001b[0m                         Traceback (most recent call last)",
      "Cell \u001b[1;32mIn[38], line 2\u001b[0m\n\u001b[0;32m      1\u001b[0m df \u001b[38;5;241m=\u001b[39m get_total_df()\n\u001b[1;32m----> 2\u001b[0m converted_dataset \u001b[38;5;241m=\u001b[39m \u001b[43mconvert_dataset\u001b[49m\u001b[43m(\u001b[49m\u001b[43mdf\u001b[49m\u001b[43m)\u001b[49m\n\u001b[0;32m      3\u001b[0m \u001b[38;5;28mprint\u001b[39m(converted_dataset)\n",
      "Cell \u001b[1;32mIn[3], line 44\u001b[0m, in \u001b[0;36mconvert_dataset\u001b[1;34m(dataset, isDf)\u001b[0m\n\u001b[0;32m     41\u001b[0m     pixels \u001b[38;5;241m=\u001b[39m pixels\u001b[38;5;241m/\u001b[39m\u001b[38;5;241m255\u001b[39m\n\u001b[0;32m     43\u001b[0m     pixels \u001b[38;5;241m=\u001b[39m pixels\u001b[38;5;241m.\u001b[39mflatten() \n\u001b[1;32m---> 44\u001b[0m     processed_images \u001b[38;5;241m=\u001b[39m \u001b[43mnp\u001b[49m\u001b[38;5;241;43m.\u001b[39;49m\u001b[43mappend\u001b[49m\u001b[43m(\u001b[49m\u001b[43mprocessed_images\u001b[49m\u001b[43m,\u001b[49m\u001b[43m \u001b[49m\u001b[43m[\u001b[49m\u001b[43mpixels\u001b[49m\u001b[43m]\u001b[49m\u001b[43m,\u001b[49m\u001b[43m \u001b[49m\u001b[43maxis\u001b[49m\u001b[38;5;241;43m=\u001b[39;49m\u001b[38;5;241;43m0\u001b[39;49m\u001b[43m)\u001b[49m\n\u001b[0;32m     46\u001b[0m \u001b[38;5;28;01mreturn\u001b[39;00m processed_images\n",
      "File \u001b[1;32m~\\AppData\\Local\\Packages\\PythonSoftwareFoundation.Python.3.12_qbz5n2kfra8p0\\LocalCache\\local-packages\\Python312\\site-packages\\numpy\\lib\\function_base.py:5617\u001b[0m, in \u001b[0;36mappend\u001b[1;34m(arr, values, axis)\u001b[0m\n\u001b[0;32m   5615\u001b[0m     values \u001b[38;5;241m=\u001b[39m ravel(values)\n\u001b[0;32m   5616\u001b[0m     axis \u001b[38;5;241m=\u001b[39m arr\u001b[38;5;241m.\u001b[39mndim\u001b[38;5;241m-\u001b[39m\u001b[38;5;241m1\u001b[39m\n\u001b[1;32m-> 5617\u001b[0m \u001b[38;5;28;01mreturn\u001b[39;00m \u001b[43mconcatenate\u001b[49m\u001b[43m(\u001b[49m\u001b[43m(\u001b[49m\u001b[43marr\u001b[49m\u001b[43m,\u001b[49m\u001b[43m \u001b[49m\u001b[43mvalues\u001b[49m\u001b[43m)\u001b[49m\u001b[43m,\u001b[49m\u001b[43m \u001b[49m\u001b[43maxis\u001b[49m\u001b[38;5;241;43m=\u001b[39;49m\u001b[43maxis\u001b[49m\u001b[43m)\u001b[49m\n",
      "\u001b[1;31mKeyboardInterrupt\u001b[0m: "
     ]
    }
   ],
   "source": [
    "df = get_total_df()\n",
    "converted_dataset = convert_dataset(df)\n",
    "print(converted_dataset)\n"
   ]
  },
  {
   "cell_type": "markdown",
   "metadata": {},
   "source": [
    "Segundamente a matriz de covariância é calculada "
   ]
  },
  {
   "cell_type": "code",
   "execution_count": null,
   "metadata": {},
   "outputs": [],
   "source": [
    "# Calculando a matriz de covariância do dataset \n",
    "\n",
    "cov_X = np.cov(converted_dataset, rowvar=False)\n",
    "print(cov_X.shape)\n"
   ]
  },
  {
   "cell_type": "markdown",
   "metadata": {},
   "source": [
    "Depois disso é feito um processo de verificação da matriz de covariância (esse processo é feito também na função de cálculo de covariância dos testes):\n",
    "Verificando o posto da matriz. Ela precisa ser posto máximo (784, quantidade de colunas), para que possa ter determinante 0 e ser invertível para o cálculo da distância de Mahalanobis"
   ]
  },
  {
   "cell_type": "code",
   "execution_count": null,
   "metadata": {},
   "outputs": [],
   "source": [
    "rank = np.linalg.matrix_rank(cov_X)\n",
    "print(rank)"
   ]
  },
  {
   "cell_type": "markdown",
   "metadata": {},
   "source": [
    "Verificando o determinante da matriz de covariância com slogdet, indicada para matrizes de tamanho grande, pois utilizando a função det o resultado não era satisfatório (era sempre 0)"
   ]
  },
  {
   "cell_type": "code",
   "execution_count": null,
   "metadata": {},
   "outputs": [],
   "source": [
    "print(cov_X.shape)\n",
    "det_X = np.linalg.slogdet(cov_X)\n",
    "print(det_X)"
   ]
  },
  {
   "cell_type": "markdown",
   "metadata": {},
   "source": [
    "Aqui a inversa é calculada e também verificada com a função identidade que tem como objetivo retornar se p (o produto das matrizes de covariância com a sua respectiva inversa) é identidade"
   ]
  },
  {
   "cell_type": "code",
   "execution_count": null,
   "metadata": {},
   "outputs": [],
   "source": [
    "inv_X = np.linalg.inv(cov_X)\n",
    "\n",
    "p = np.dot(cov_X, inv_X)\n",
    "\n",
    "verificacao_identidade(p)"
   ]
  },
  {
   "cell_type": "markdown",
   "metadata": {},
   "source": [
    "#### Cálculo da Distância de Mahalanobis\n",
    "Nesta sessão serão feitos alguns testes com o KNN com a Distância de Mahalanobis, uma vez que não foi possível calcular o KNN do dataset total para essa distância em tempo hábil, por conta do tamanho do dataset e dos cálculos custosos entre matrizes "
   ]
  },
  {
   "cell_type": "markdown",
   "metadata": {},
   "source": [
    "Uma observação interessante foi possível de ser observada: foram feitos testes com amostras de quantidades 10, 30, 100 e 300, porém, não foi possível utilizar a distância de Mahalanobis em nenhum desses testes. Isso ocorreu porque as matrizes de covariâncias dessas matrizes de amostras não possuiam posto máximo, logo, possuiam colunas LD e não poderiam ser invertidas. "
   ]
  },
  {
   "cell_type": "code",
   "execution_count": 96,
   "metadata": {},
   "outputs": [
    {
     "name": "stdout",
     "output_type": "stream",
     "text": [
      "[[1603.77777778 1918.11111111 1757.22222222 ...   96.77777778\n",
      "   235.55555556 -123.66666667]\n",
      " [1918.11111111 2787.28888889 2405.04444444 ... -123.15555556\n",
      "    69.         -305.77777778]\n",
      " [1757.22222222 2405.04444444 2116.23333333 ...   15.15555556\n",
      "   181.27777778 -176.94444444]\n",
      " ...\n",
      " [  96.77777778 -123.15555556   15.15555556 ... 1805.95555556\n",
      "  1624.33333333 1251.22222222]\n",
      " [ 235.55555556   69.          181.27777778 ... 1624.33333333\n",
      "  1563.83333333 1224.05555556]\n",
      " [-123.66666667 -305.77777778 -176.94444444 ... 1251.22222222\n",
      "  1224.05555556 1399.16666667]]\n"
     ]
    },
    {
     "ename": "ValueError",
     "evalue": "Não é possível calcular a inversa desta matriz",
     "output_type": "error",
     "traceback": [
      "\u001b[1;31m---------------------------------------------------------------------------\u001b[0m",
      "\u001b[1;31mValueError\u001b[0m                                Traceback (most recent call last)",
      "Cell \u001b[1;32mIn[96], line 21\u001b[0m\n\u001b[0;32m     18\u001b[0m     \u001b[38;5;28mprint\u001b[39m(\u001b[38;5;124mf\u001b[39m\u001b[38;5;124m\"\u001b[39m\u001b[38;5;124mO valor do RMSE é: \u001b[39m\u001b[38;5;132;01m{\u001b[39;00mrmse\u001b[38;5;132;01m}\u001b[39;00m\u001b[38;5;124m.\u001b[39m\u001b[38;5;124m\"\u001b[39m)\n\u001b[0;32m     19\u001b[0m     \u001b[38;5;28;01mreturn\u001b[39;00m result, rmse\n\u001b[1;32m---> 21\u001b[0m result_10, rmse_10 \u001b[38;5;241m=\u001b[39m \u001b[43mknn_mahalanobis\u001b[49m\u001b[43m(\u001b[49m\u001b[38;5;241;43m10\u001b[39;49m\u001b[43m)\u001b[49m\n",
      "Cell \u001b[1;32mIn[96], line 13\u001b[0m, in \u001b[0;36mknn_mahalanobis\u001b[1;34m(tam_amostra)\u001b[0m\n\u001b[0;32m     11\u001b[0m start_time \u001b[38;5;241m=\u001b[39m time\u001b[38;5;241m.\u001b[39mtime()\n\u001b[0;32m     12\u001b[0m X_train, X_test, y_train, y_test \u001b[38;5;241m=\u001b[39m get_x_y(tam_amostra)\n\u001b[1;32m---> 13\u001b[0m S \u001b[38;5;241m=\u001b[39m \u001b[43mcalculo_matriz_S\u001b[49m\u001b[43m(\u001b[49m\u001b[43mX_train\u001b[49m\u001b[43m,\u001b[49m\u001b[43m \u001b[49m\u001b[43mX_test\u001b[49m\u001b[43m)\u001b[49m\n\u001b[0;32m     14\u001b[0m result \u001b[38;5;241m=\u001b[39m knn(X_train, X_test, y_train, S, \u001b[38;5;28mtype\u001b[39m\u001b[38;5;241m=\u001b[39m\u001b[38;5;124m\"\u001b[39m\u001b[38;5;124mmahalanobis\u001b[39m\u001b[38;5;124m\"\u001b[39m)\n\u001b[0;32m     15\u001b[0m end_time \u001b[38;5;241m=\u001b[39m time\u001b[38;5;241m.\u001b[39mtime()\n",
      "Cell \u001b[1;32mIn[88], line 56\u001b[0m, in \u001b[0;36mcalculo_matriz_S\u001b[1;34m(train, test)\u001b[0m\n\u001b[0;32m     54\u001b[0m \u001b[38;5;66;03m# todas os vetores de imagens possuem 784 colunas, se o posto não for máximo não é possível inverter a matriz\u001b[39;00m\n\u001b[0;32m     55\u001b[0m \u001b[38;5;28;01mif\u001b[39;00m (rank \u001b[38;5;241m!=\u001b[39m \u001b[38;5;241m784\u001b[39m):\n\u001b[1;32m---> 56\u001b[0m     \u001b[38;5;28;01mraise\u001b[39;00m \u001b[38;5;167;01mValueError\u001b[39;00m(\u001b[38;5;124m\"\u001b[39m\u001b[38;5;124mNão é possível calcular a inversa desta matriz\u001b[39m\u001b[38;5;124m\"\u001b[39m)\n\u001b[0;32m     58\u001b[0m \u001b[38;5;28;01melse\u001b[39;00m:\n\u001b[0;32m     59\u001b[0m     inv_X \u001b[38;5;241m=\u001b[39m np\u001b[38;5;241m.\u001b[39mlinalg\u001b[38;5;241m.\u001b[39minv(cov_X)\n",
      "\u001b[1;31mValueError\u001b[0m: Não é possível calcular a inversa desta matriz"
     ]
    }
   ],
   "source": [
    "def calculo_rmse(result, y_test):\n",
    "    diff = (np.array(result) - np.array(y_test)) ** 2\n",
    "\n",
    "    mean_diff = np.mean(diff)\n",
    "\n",
    "    rmse = np.sqrt(mean_diff)\n",
    "\n",
    "    return rmse\n",
    "\n",
    "def knn_mahalanobis(tam_amostra):\n",
    "    start_time = time.time()\n",
    "    X_train, X_test, y_train, y_test = get_x_y(tam_amostra)\n",
    "    S = calculo_matriz_S(X_train, X_test)\n",
    "    result = knn(X_train, X_test, y_train, S, type=\"mahalanobis\")\n",
    "    end_time = time.time()\n",
    "    print(f\"Tempo de execução: {end_time - start_time:.6f} segundos\")\n",
    "    rmse = calculo_rmse(result, y_test)\n",
    "    print(f\"O valor do RMSE é: {rmse}.\")\n",
    "    return result, rmse\n",
    "\n",
    "result_10, rmse_10 = knn_mahalanobis(10)"
   ]
  },
  {
   "cell_type": "code",
   "execution_count": 104,
   "metadata": {},
   "outputs": [
    {
     "name": "stdout",
     "output_type": "stream",
     "text": [
      "Foi possível calcular a matriz S\n",
      "[0, 0, 0, 0, 0, 0, 0, 16, 0, 0, 16, 0, 0, 0, 0, 0, 0, 0, 16, 0, 0, 0, 0, 0, 0, 0, 0, 0, 0, 0, 0, 0, 0, 0, 21, 0, 0, 0, 0, 0, 0, 0, 0, 21, 0, 21, 0, 0, 0, 0, 0, 0, 0, 0, 0, 0, 0, 0, 0, 0, 16, 0, 0, 0, 0, 0, 0, 0, 0, 0, 16, 0, 0, 0, 0, 0, 0, 0, 0, 0, 0, 0, 0, 0, 0, 0, 0, 0, 0, 0, 0, 0, 0, 0, 19, 20, 16, 0, 0, 0, 0, 0, 0, 0, 0, 0, 0, 0, 0, 0, 0, 0, 0, 0, 0, 0, 0, 0, 0, 16, 21, 0, 0, 0, 0, 0, 0, 16, 0, 0, 0, 0, 0, 0, 0, 0, 0, 0, 0, 21, 21, 0, 0, 0, 0, 16, 0, 0, 0, 0, 0, 16, 0, 0, 0, 0, 0, 0, 0, 0, 0, 0, 0, 21, 21, 0, 0, 0, 0, 0, 0, 0, 0, 0, 0, 0, 0, 0, 0, 16, 0, 0, 0, 0, 0, 0, 0, 0, 0, 16, 0, 0, 0, 0, 16, 0, 0, 0, 0, 0, 0, 0, 0, 0, 0, 0, 0, 0, 0, 0, 0, 0, 0, 0, 0, 0, 0, 0, 16, 0, 21, 0, 0, 0, 0, 0, 0, 0, 0, 0, 0, 0, 0, 0, 0, 0, 0, 0, 0, 16, 0, 0, 0, 0, 0, 0, 0, 0, 0, 0, 0, 0, 16, 16, 0, 0, 0, 0, 16, 16, 0, 0, 0, 0, 0, 21, 21, 0, 21, 0, 0, 0, 0, 0, 0, 0, 0, 0, 21, 0, 16, 0, 0, 0, 0, 16, 0, 0, 0, 13, 0, 0, 0, 0, 0, 0, 0, 0, 0, 0]\n",
      "Tempo de execução: 41.224112 segundos\n",
      "O valor do RMSE é: 13.214133847261172.\n"
     ]
    }
   ],
   "source": [
    "result_1000, rmse_1000 = knn_mahalanobis(1000)"
   ]
  },
  {
   "cell_type": "code",
   "execution_count": 105,
   "metadata": {},
   "outputs": [
    {
     "name": "stdout",
     "output_type": "stream",
     "text": [
      "Foi possível calcular a matriz S\n",
      "[21, 16, 6, 21, 16, 16, 23, 21, 21, 23, 21, 21, 16, 21, 23, 2, 20, 21, 21, 21, 21, 23, 21, 16, 23, 16, 23, 21, 21, 21, 21, 23, 21, 23, 21, 21, 3, 21, 20, 20, 21, 16, 21, 16, 21, 21, 21, 21, 23, 21, 23, 21, 21, 16, 21, 21, 21, 21, 23, 21, 23, 21, 23, 24, 21, 20, 23, 21, 10, 16, 23, 21, 21, 23, 21, 21, 21, 23, 21, 23, 20, 16, 16, 14, 23, 21, 21, 21, 21, 23, 14, 21, 24, 21, 21, 20, 20, 8, 23, 23, 21, 21, 21, 21, 19, 23, 23, 21, 23, 21, 23, 23, 16, 21, 21, 21, 21, 21, 21, 21, 16, 16, 21, 20, 21, 23, 16, 21, 23, 21, 23, 21, 21, 20, 21, 16, 16, 21, 16, 23, 21, 23, 21, 15, 21, 19, 21, 21, 16, 23, 21, 22, 21, 21, 21, 20, 16, 21, 24, 20, 21, 23, 21, 21, 21, 20, 16, 23, 21, 16, 21, 23, 21, 21, 23, 21, 23, 21, 14, 23, 21, 16, 16, 21, 21, 21, 21, 23, 21, 21, 16, 13, 21, 21, 23, 21, 21, 21, 21, 21, 21, 23, 21, 2, 21, 21, 23, 17, 20, 21, 23, 21, 23, 2, 21, 21, 23, 21, 21, 21, 23, 21, 21, 21, 23, 21, 16, 21, 23, 21, 20, 10, 23, 16, 21, 21, 21, 23, 21, 16, 21, 16, 21, 21, 20, 21, 23, 21, 21, 21, 21, 23, 21, 21, 14, 23, 21, 23, 21, 23, 21, 22, 23, 21, 21, 23, 21, 20, 21, 2, 16, 16, 21, 16, 10, 21, 21, 21, 21, 21, 21, 21, 21, 21, 23, 21, 21, 16, 17, 21, 14, 21, 21, 23, 21, 23, 21, 23, 21, 16, 21, 16, 23, 14, 23, 21, 20, 21, 20, 20, 23, 23, 21, 23, 16, 16, 21, 20, 20, 21, 16, 20, 16, 23, 21, 16, 20, 21, 21, 21, 21, 14, 21, 23, 21, 21, 21, 16, 21, 3, 16, 23, 21, 23, 21, 21, 21, 23, 23, 20, 21, 23, 16, 21, 16, 21, 21, 23, 21, 21, 16, 21, 21, 21, 20, 21, 21, 21, 21, 23, 21, 21, 16, 20, 20, 21, 21, 20, 23, 21, 23, 16, 21, 23, 20, 21, 23, 21, 21, 16, 22, 21, 21, 23, 20, 23, 16, 20, 21, 23, 21, 21, 3, 14, 23, 23, 16, 21, 16, 21, 23, 21, 21, 21, 21, 23, 19, 23, 23, 21, 14, 21, 16, 21, 21, 13, 21, 21, 23, 23, 16, 21, 21, 21, 23, 21, 21, 16, 21, 2, 23, 23, 20, 21, 21, 21, 5, 23, 21, 21, 12, 21, 16, 21, 21, 23, 16, 20, 16, 21, 23, 16, 21, 16, 16, 19, 23, 21, 21, 21, 21, 13, 21, 20, 21, 16, 21, 3, 23, 16, 21, 21, 3, 21, 13, 21, 16, 21, 21, 14, 21, 6, 16, 23, 21, 16, 23, 23, 17, 21, 21, 21, 21, 21, 21, 21, 14, 21, 23, 16, 21, 16, 23, 23, 21, 23, 21, 21, 23, 21, 23, 21, 21, 21, 16, 21, 21, 23, 23, 21, 21, 21, 23, 21, 21, 21, 21, 21, 22, 21, 16, 21, 21, 16, 21, 21, 21, 21, 20, 21, 3, 20, 16, 21, 21, 21, 15, 23, 20, 21, 20, 21, 21, 21, 21, 21, 21, 16, 21, 23, 21, 21, 23, 16, 16, 16, 16, 21, 21, 19, 21, 23, 21, 16, 21, 2, 21, 21, 21, 21, 20, 16, 21, 21, 21, 21, 19, 23, 13, 5, 21, 21, 21, 23, 21, 21, 21, 23, 14, 23, 15, 21, 16, 21, 21, 21, 21, 21, 16, 21, 23, 20, 23, 21, 21, 21, 21, 21, 23, 23, 19, 23, 23, 21, 21, 21, 23, 17, 23, 23, 23, 20, 23, 21, 21, 21, 21, 23, 21, 21, 15, 23, 21, 16, 23, 16, 20, 22, 21, 21, 16, 21, 23, 23, 21, 23, 21, 23, 16, 21, 16, 23, 23, 21, 21, 16, 21, 23, 23, 21, 21, 20, 21, 16, 21, 23, 20, 21, 21, 21, 20, 21, 21, 21, 21, 21, 21, 21, 23, 14, 21, 21, 21, 20, 21, 21, 21, 21, 21, 21, 21, 16, 21, 21, 21, 2, 21, 21, 5, 23, 23, 24, 21, 23, 21, 21, 23, 16, 21, 23, 21, 21, 23, 13, 21, 20, 24, 21, 21, 21, 23, 23, 16, 21, 16, 23, 23, 21, 21, 21, 20, 23, 21, 23, 16, 23, 23, 21, 21, 20, 21, 23, 21, 23, 21, 21, 24, 21, 23, 16, 23, 20, 21, 23, 21, 21, 23, 20, 21, 21, 23, 16, 0, 16, 21, 21, 23, 20, 23, 21, 16, 20, 21, 16, 21, 16, 17, 21, 21, 21, 23, 21, 21, 23, 21, 16, 21, 21, 14, 23, 20, 11, 23, 21, 21, 7, 21, 23, 20, 21, 16, 19, 16, 23, 23, 23, 21, 23, 14, 21, 6, 20, 21, 21, 20, 23, 23, 16, 16, 16, 21, 23, 21, 21, 21, 21, 5, 21, 21, 21, 21, 21, 21, 21, 21, 21, 23, 20, 20, 23, 21, 21, 21, 21, 16, 16, 2, 21, 23, 21, 21, 21, 21, 21, 21, 21, 21, 16, 16, 21, 21, 21, 21, 21, 21, 21, 21, 23, 15, 21, 21, 21, 21, 24, 16, 23, 23, 21, 21, 21]\n",
      "Tempo de execução: 350.701254 segundos\n",
      "O valor do RMSE é: 11.973814021531412.\n"
     ]
    }
   ],
   "source": [
    "result_3000, rmse_3000 = knn_mahalanobis(3000)"
   ]
  },
  {
   "cell_type": "code",
   "execution_count": 124,
   "metadata": {},
   "outputs": [
    {
     "name": "stdout",
     "output_type": "stream",
     "text": [
      "Foi possível calcular a matriz S\n",
      "[21, 2, 7, 14, 23, 20, 23, 14, 21, 16, 21, 23, 16, 23, 23, 5, 20, 21, 21, 21, 12, 16, 21, 20, 23, 16, 23, 21, 20, 21, 21, 23, 21, 16, 21, 2, 22, 21, 16, 23, 21, 16, 21, 16, 24, 21, 21, 21, 23, 14, 23, 21, 21, 23, 21, 23, 21, 21, 23, 21, 23, 23, 23, 23, 1, 2, 23, 21, 10, 16, 23, 21, 2, 14, 21, 21, 21, 23, 21, 23, 20, 23, 17, 14, 23, 21, 21, 21, 20, 23, 14, 21, 24, 21, 23, 20, 20, 21, 23, 23, 21, 21, 21, 21, 15, 16, 23, 21, 23, 21, 23, 23, 21, 21, 21, 21, 21, 21, 21, 23, 16, 16, 21, 20, 21, 23, 17, 23, 23, 21, 23, 23, 21, 20, 21, 16, 23, 23, 16, 21, 21, 23, 21, 23, 21, 19, 21, 21, 21, 23, 21, 22, 21, 23, 20, 20, 20, 21, 24, 20, 23, 23, 21, 21, 23, 20, 14, 23, 21, 2, 21, 23, 21, 23, 21, 21, 23, 21, 14, 23, 21, 16, 20, 21, 21, 21, 21, 23, 21, 21, 16, 13, 21, 2, 23, 21, 21, 23, 21, 21, 21, 23, 20, 2, 23, 21, 23, 2, 20, 21, 23, 21, 23, 2, 21, 21, 23, 21, 23, 21, 23, 23, 21, 21, 23, 23, 23, 21, 22, 21, 21, 19, 23, 24, 0, 21, 21, 23, 21, 16, 21, 16, 21, 21, 2, 21, 23, 2, 21, 21, 15, 23, 21, 21, 14, 23, 14, 23, 21, 23, 21, 22, 23, 23, 21, 23, 21, 20, 23, 2, 16, 16, 21, 16, 10, 2, 21, 21, 21, 21, 21, 21, 21, 21, 21, 21, 23, 16, 23, 21, 14, 21, 0, 23, 21, 23, 21, 23, 21, 16, 23, 20, 23, 14, 23, 21, 20, 23, 20, 20, 23, 23, 21, 23, 21, 20, 21, 23, 16, 23, 23, 20, 23, 23, 17, 16, 20, 21, 21, 21, 21, 14, 23, 23, 21, 21, 21, 20, 21, 3, 21, 23, 21, 23, 21, 21, 21, 23, 2, 20, 21, 23, 16, 23, 16, 21, 2, 13, 21, 21, 16, 15, 21, 21, 20, 23, 21, 21, 21, 23, 21, 14, 20, 23, 20, 6, 21, 20, 2, 21, 21, 16, 21, 23, 20, 23, 23, 24, 21, 16, 22, 21, 23, 23, 20, 23, 16, 23, 21, 23, 12, 21, 21, 1, 23, 21, 16, 21, 16, 21, 23, 14, 21, 21, 21, 23, 2, 23, 23, 23, 14, 21, 23, 21, 21, 13, 21, 21, 23, 23, 23, 21, 23, 2, 23, 21, 21, 19, 21, 2, 23, 16, 20, 21, 23, 24, 5, 23, 20, 21, 12, 23, 21, 21, 20, 23, 16, 23, 16, 23, 23, 16, 21, 23, 16, 19, 23, 21, 1, 21, 21, 21, 21, 20, 21, 16, 21, 3, 23, 16, 21, 21, 3, 21, 21, 21, 21, 21, 21, 19, 21, 7, 16, 23, 23, 21, 23, 16, 17, 21, 23, 21, 21, 21, 21, 2, 14, 21, 23, 21, 21, 16, 23, 23, 21, 23, 21, 21, 23, 23, 23, 14, 2, 21, 16, 21, 21, 23, 23, 21, 20, 21, 23, 21, 21, 14, 21, 21, 22, 16, 16, 21, 21, 16, 21, 21, 21, 21, 20, 24, 3, 20, 16, 21, 21, 21, 15, 23, 16, 21, 20, 2, 4, 21, 21, 21, 21, 21, 21, 23, 2, 21, 23, 16, 16, 15, 2, 21, 23, 19, 21, 23, 21, 16, 21, 2, 21, 23, 21, 21, 20, 23, 21, 22, 2, 21, 19, 23, 13, 21, 21, 21, 16, 23, 21, 2, 21, 23, 14, 23, 15, 21, 16, 21, 21, 21, 21, 21, 11, 16, 23, 20, 23, 23, 21, 21, 21, 23, 23, 23, 21, 23, 23, 23, 21, 21, 23, 3, 23, 23, 23, 20, 23, 21, 21, 21, 21, 23, 21, 21, 15, 2, 23, 16, 23, 16, 20, 22, 21, 21, 21, 21, 23, 23, 21, 23, 23, 23, 3, 21, 20, 23, 23, 21, 23, 16, 21, 23, 21, 21, 21, 20, 21, 23, 21, 23, 20, 21, 21, 21, 20, 21, 2, 21, 21, 21, 21, 21, 22, 23, 21, 21, 21, 21, 21, 21, 10, 21, 21, 23, 21, 6, 21, 21, 21, 2, 21, 21, 5, 23, 23, 23, 21, 23, 21, 21, 23, 21, 21, 23, 21, 21, 23, 17, 21, 20, 16, 21, 21, 23, 23, 23, 20, 21, 21, 2, 23, 21, 21, 21, 20, 21, 21, 23, 21, 23, 23, 21, 23, 23, 23, 23, 21, 23, 21, 21, 24, 21, 21, 16, 23, 20, 21, 23, 6, 21, 23, 20, 21, 21, 16, 23, 0, 16, 21, 14, 23, 2, 23, 21, 20, 20, 21, 16, 21, 16, 23, 21, 21, 21, 23, 21, 23, 21, 2, 23, 21, 21, 14, 23, 20, 1, 23, 21, 23, 7, 21, 23, 23, 21, 16, 21, 23, 23, 23, 23, 21, 21, 14, 21, 7, 21, 21, 21, 20, 23, 23, 16, 16, 16, 23, 23, 21, 21, 21, 21, 21, 2, 21, 21, 21, 21, 21, 21, 21, 21, 23, 23, 20, 23, 21, 19, 21, 21, 16, 16, 2, 21, 23, 21, 21, 21, 21, 21, 21, 21, 21, 17, 16, 21, 21, 2, 23, 21, 21, 21, 2, 16, 21, 21, 0, 21, 21, 2, 16, 23, 23, 21, 21, 17, 21, 5, 14, 21, 23, 21, 21, 21, 21, 16, 21, 0, 23, 21, 14, 16, 21, 20, 2, 21, 23, 21, 16, 2, 23, 23, 21, 21, 23, 21, 21, 6, 23, 21, 16, 21, 23, 16, 23, 20, 21, 23, 21, 21, 16, 20, 16, 21, 16, 23, 16, 16, 21, 23, 21, 19, 21, 21, 20, 23, 20, 21, 23, 23, 21, 12, 21, 21, 21, 21, 7, 21, 23, 16, 21, 19, 21, 21, 23, 21, 23, 21, 2, 16, 21, 2, 20, 23, 21, 16, 23, 21, 5, 23, 21, 21, 19, 23, 23, 22, 21, 21, 21, 23, 23, 23, 21, 23, 2, 16, 20, 21, 21, 21, 20, 23, 24, 2, 21, 23, 21, 23, 21, 21, 2, 23, 24, 16, 20, 2, 21, 16, 16, 21, 23, 20, 21, 21, 2, 21, 1, 21, 21, 20, 23, 21, 14, 3, 21, 16, 21, 21, 23, 23, 21, 14, 16, 21, 23, 21, 21, 21, 20, 23, 23, 2, 21, 21, 21, 20, 21, 23, 21, 23, 17, 10, 23, 23, 21, 2, 22, 23, 21, 21, 23, 21, 21, 21, 21, 23, 16, 21, 21, 16, 23, 21, 21, 21, 23, 23, 23, 21, 21, 21, 21, 23, 21, 16, 21, 21, 21, 21, 23, 2, 16, 23, 16, 21, 2, 14, 21, 16, 16, 21, 20, 23, 22, 21, 21, 21, 23, 2, 20, 21, 2, 21, 21, 23, 23, 23, 5, 23, 21, 16, 22, 20, 21, 20, 21, 21, 21, 16, 24, 23, 20, 20, 23, 21, 23, 23, 20, 21, 16, 16, 2, 21, 21, 21, 21, 21, 21, 23, 5, 16, 21, 21, 23, 23, 23, 21, 23, 23, 21, 16, 21, 21, 23, 21, 23, 11, 23, 21, 23, 21, 2, 21, 23, 16, 20, 23, 21, 23, 21, 21, 21, 21, 20, 23, 21, 16, 21, 21, 22, 21, 21, 16, 23, 23, 21, 21, 21, 14, 21, 23, 23, 23, 16, 12, 21, 21, 21, 21, 23, 21, 21, 13, 22, 23, 2, 7, 14, 2, 23, 23, 21, 20, 16, 21, 3, 23, 24, 20, 21, 2, 21, 21, 23, 21, 21, 23, 21, 22, 23, 20, 21, 21, 21, 23, 20, 3, 23, 21, 21, 21, 21, 21, 21, 23, 22, 16, 23, 16, 21, 21, 23, 21, 1, 23, 23, 23, 21, 21, 16, 2, 21, 21, 16, 21, 21, 16, 12, 23, 21, 4, 21, 21, 21, 22, 21, 16, 2, 21, 23, 21, 23, 21, 21, 23, 14, 21, 23, 23, 21, 21, 14, 24, 21, 23, 21, 23, 23, 6, 21, 20, 24, 21, 21, 23, 20, 16, 23, 19, 23, 20, 3, 21, 21, 21, 16, 21, 16, 21, 23, 23, 23, 20, 21, 21, 16, 21, 21, 23, 21, 21, 21, 23, 1, 21, 16, 11, 23, 23, 20, 24, 20, 16, 21, 24, 21, 21, 21, 21, 10, 2, 21, 23, 16, 21, 21, 13, 21, 21, 21, 21, 23, 21, 23, 21, 23, 23, 23, 21, 21, 2, 5, 21, 21, 16, 24, 21, 23, 21, 21, 21, 2, 21, 23, 21, 21, 16, 21, 16, 21, 1, 23, 23, 21, 23, 21, 2, 16, 21, 21, 21, 23, 23, 20, 21, 21, 23, 21, 16, 23, 2, 20, 21, 21, 21, 21, 11, 2, 21, 21, 22, 23, 21, 2, 21, 23, 23, 22, 23, 23, 21, 21, 2, 20, 20, 24, 21, 21, 21, 16, 20, 23, 1, 21, 16, 21, 23, 23, 23, 21, 20, 23, 21, 20, 23, 21, 24, 2, 2, 21, 21, 11, 21, 16, 21, 21, 23]\n",
      "Tempo de execução: 871.966974 segundos\n",
      "O valor do RMSE é: 12.289507720002458.\n"
     ]
    }
   ],
   "source": [
    "result_5000, rmse_5000 = knn_mahalanobis(5000)"
   ]
  },
  {
   "cell_type": "code",
   "execution_count": 125,
   "metadata": {},
   "outputs": [
    {
     "name": "stdout",
     "output_type": "stream",
     "text": [
      "Foi possível calcular a matriz S\n",
      "[24, 4, 7, 14, 24, 24, 24, 14, 17, 24, 24, 23, 16, 21, 21, 5, 20, 21, 21, 21, 20, 24, 22, 22, 24, 21, 23, 21, 6, 21, 18, 23, 12, 7, 21, 2, 22, 21, 16, 23, 21, 24, 21, 23, 24, 21, 21, 21, 23, 24, 23, 24, 21, 23, 21, 24, 21, 24, 23, 2, 23, 21, 23, 24, 1, 2, 23, 2, 10, 21, 16, 21, 16, 14, 21, 24, 21, 21, 23, 23, 24, 16, 17, 14, 23, 21, 21, 21, 22, 24, 20, 17, 12, 18, 21, 20, 20, 21, 23, 21, 21, 21, 22, 21, 13, 23, 22, 21, 21, 21, 2, 23, 21, 21, 21, 21, 21, 21, 21, 23, 21, 21, 21, 20, 24, 23, 17, 24, 23, 21, 12, 24, 22, 24, 21, 22, 23, 23, 16, 21, 21, 17, 21, 23, 21, 6, 21, 21, 16, 16, 16, 22, 7, 23, 21, 20, 22, 13, 17, 21, 16, 23, 21, 21, 23, 22, 19, 24, 24, 24, 21, 16, 21, 21, 8, 21, 23, 21, 20, 23, 21, 16, 22, 24, 24, 21, 21, 23, 21, 21, 16, 13, 21, 16, 23, 21, 21, 21, 21, 17, 24, 23, 21, 24, 21, 21, 23, 24, 21, 22, 24, 21, 13, 2, 21, 0, 23, 21, 11, 21, 23, 2, 21, 24, 23, 24, 7, 21, 21, 21, 21, 6, 23, 24, 0, 21, 21, 23, 21, 23, 21, 16, 21, 21, 2, 24, 16, 11, 24, 21, 15, 21, 21, 21, 20, 21, 12, 16, 21, 23, 16, 22, 23, 21, 21, 23, 21, 7, 21, 2, 21, 14, 21, 16, 10, 2, 21, 21, 21, 16, 16, 21, 21, 21, 21, 21, 17, 16, 24, 21, 20, 21, 0, 24, 21, 23, 21, 23, 21, 16, 23, 16, 23, 14, 16, 22, 21, 24, 20, 20, 21, 12, 21, 5, 21, 24, 24, 16, 22, 21, 16, 3, 11, 23, 17, 16, 22, 21, 14, 21, 0, 14, 23, 24, 21, 21, 22, 22, 21, 22, 22, 16, 24, 8, 22, 21, 24, 23, 16, 16, 21, 23, 21, 5, 16, 21, 2, 13, 21, 21, 22, 15, 21, 6, 12, 12, 21, 21, 21, 23, 24, 14, 23, 23, 21, 21, 21, 20, 16, 21, 21, 16, 21, 23, 20, 23, 23, 24, 21, 22, 22, 21, 24, 21, 23, 21, 16, 21, 21, 23, 20, 21, 21, 1, 21, 21, 5, 21, 24, 21, 19, 14, 21, 21, 21, 23, 11, 23, 23, 21, 20, 21, 23, 21, 21, 12, 21, 21, 21, 23, 23, 0, 21, 2, 23, 21, 21, 19, 21, 21, 21, 23, 23, 21, 21, 24, 5, 23, 20, 17, 12, 22, 16, 24, 21, 24, 16, 22, 21, 23, 8, 16, 21, 20, 22, 6, 23, 0, 1, 21, 21, 12, 21, 21, 24, 16, 21, 3, 12, 16, 21, 21, 3, 21, 12, 21, 24, 21, 21, 23, 22, 7, 16, 23, 21, 21, 23, 23, 17, 22, 21, 21, 21, 21, 21, 21, 14, 11, 23, 24, 21, 24, 24, 23, 21, 23, 21, 21, 21, 21, 23, 14, 16, 21, 22, 2, 21, 24, 23, 16, 21, 21, 24, 21, 12, 14, 22, 21, 22, 21, 19, 21, 21, 12, 2, 21, 21, 21, 21, 21, 3, 19, 16, 21, 21, 24, 15, 23, 21, 2, 12, 16, 20, 21, 21, 24, 21, 22, 21, 13, 22, 21, 23, 21, 16, 15, 16, 21, 21, 19, 21, 23, 21, 16, 21, 24, 21, 23, 2, 21, 16, 24, 21, 22, 2, 21, 19, 23, 14, 21, 21, 21, 22, 16, 21, 16, 21, 23, 20, 12, 23, 21, 16, 21, 14, 24, 8, 24, 11, 21, 23, 20, 16, 21, 21, 21, 21, 21, 23, 23, 16, 23, 23, 23, 21, 12, 23, 19, 21, 23, 23, 20, 24, 21, 12, 21, 21, 23, 21, 2, 15, 24, 21, 21, 23, 21, 20, 22, 21, 21, 21, 21, 24, 23, 21, 12, 21, 23, 3, 21, 2, 21, 16, 24, 24, 16, 16, 23, 21, 21, 21, 12, 21, 22, 21, 23, 20, 22, 21, 0, 19, 21, 6, 21, 21, 21, 18, 21, 22, 23, 21, 21, 21, 21, 24, 21, 10, 21, 16, 19, 21, 11, 21, 21, 21, 2, 21, 24, 5, 21, 23, 21, 21, 16, 24, 3, 24, 21, 21, 23, 21, 24, 23, 7, 21, 21, 16, 21, 21, 21, 23, 21, 22, 21, 24, 2, 23, 21, 21, 21, 20, 21, 21, 23, 22, 23, 23, 21, 22, 16, 21, 23, 21, 23, 21, 21, 24, 21, 21, 16, 23, 19, 21, 23, 21, 21, 23, 21, 21, 21, 16, 24, 11, 16, 0, 19, 23, 2, 23, 21, 22, 20, 24, 16, 21, 16, 23, 21, 21, 21, 23, 21, 12, 21, 16, 23, 21, 21, 14, 21, 19, 21, 21, 21, 11, 7, 24, 23, 24, 24, 16, 21, 22, 23, 23, 21, 24, 16, 22, 21, 7, 21, 21, 24, 20, 17, 21, 24, 16, 16, 23, 23, 22, 21, 24, 21, 11, 21, 21, 24, 21, 14, 21, 24, 0, 0, 23, 23, 12, 23, 22, 21, 24, 21, 11, 11, 11, 21, 20, 24, 21, 21, 21, 21, 21, 21, 21, 22, 16, 21, 21, 16, 24, 21, 16, 22, 11, 21, 21, 21, 22, 21, 21, 2, 16, 21, 23, 21, 21, 17, 21, 5, 22, 21, 23, 24, 21, 21, 21, 24, 21, 11, 22, 21, 14, 5, 21, 24, 2, 21, 23, 7, 23, 21, 24, 12, 0, 22, 23, 21, 21, 20, 21, 21, 21, 16, 23, 22, 23, 20, 18, 13, 24, 21, 21, 12, 21, 21, 16, 21, 22, 22, 21, 16, 21, 19, 21, 21, 21, 23, 20, 21, 23, 23, 21, 12, 16, 21, 21, 21, 7, 21, 17, 24, 21, 17, 21, 21, 23, 21, 3, 21, 24, 16, 24, 16, 17, 21, 22, 24, 23, 21, 5, 23, 2, 21, 19, 21, 23, 22, 4, 21, 12, 16, 7, 21, 21, 21, 24, 16, 21, 22, 24, 21, 11, 23, 24, 15, 21, 21, 21, 23, 21, 21, 16, 23, 17, 3, 16, 16, 21, 21, 16, 21, 23, 12, 21, 21, 24, 21, 1, 21, 24, 20, 23, 21, 23, 3, 21, 16, 21, 22, 23, 23, 21, 14, 11, 22, 16, 16, 21, 21, 12, 21, 23, 2, 21, 21, 21, 16, 22, 23, 21, 21, 3, 10, 21, 23, 21, 16, 21, 22, 21, 21, 21, 21, 17, 21, 21, 23, 16, 21, 21, 21, 23, 10, 21, 22, 23, 24, 23, 0, 3, 21, 4, 16, 21, 21, 21, 21, 21, 21, 23, 16, 3, 24, 21, 21, 16, 22, 7, 14, 21, 21, 23, 7, 22, 21, 21, 21, 16, 21, 20, 21, 16, 21, 21, 16, 23, 22, 5, 21, 21, 16, 22, 7, 23, 24, 21, 21, 16, 16, 24, 23, 7, 22, 23, 24, 23, 23, 17, 21, 24, 11, 24, 21, 21, 21, 24, 21, 21, 24, 5, 7, 21, 2, 24, 24, 21, 0, 23, 21, 21, 22, 21, 21, 23, 21, 22, 11, 21, 21, 23, 21, 2, 21, 23, 16, 16, 23, 21, 23, 0, 21, 21, 21, 12, 16, 21, 22, 6, 21, 22, 21, 21, 16, 23, 23, 21, 21, 21, 19, 2, 24, 23, 8, 21, 21, 21, 21, 0, 21, 23, 22, 12, 12, 22, 23, 21, 7, 20, 16, 23, 23, 24, 20, 16, 21, 22, 24, 24, 16, 15, 21, 21, 21, 7, 21, 7, 23, 21, 22, 21, 21, 21, 21, 21, 21, 7, 3, 23, 22, 24, 21, 24, 0, 21, 21, 23, 21, 23, 22, 21, 21, 8, 21, 1, 12, 23, 23, 21, 21, 16, 16, 21, 24, 16, 13, 6, 21, 21, 21, 21, 4, 0, 21, 0, 22, 21, 16, 11, 21, 16, 17, 23, 21, 21, 23, 14, 21, 23, 23, 21, 17, 14, 17, 21, 23, 21, 20, 21, 6, 21, 23, 17, 16, 22, 11, 21, 7, 15, 19, 23, 12, 11, 21, 21, 21, 19, 21, 16, 16, 23, 19, 23, 16, 21, 21, 16, 21, 21, 23, 21, 21, 16, 23, 1, 21, 21, 16, 22, 23, 17, 24, 21, 16, 21, 24, 21, 22, 21, 21, 2, 16, 24, 23, 16, 21, 16, 13, 21, 22, 22, 21, 23, 21, 23, 21, 23, 23, 23, 21, 21, 16, 5, 21, 21, 22, 24, 21, 23, 24, 21, 21, 16, 16, 8, 21, 21, 16, 21, 16, 21, 1, 23, 23, 21, 23, 21, 16, 21, 16, 21, 21, 23, 16, 21, 22, 21, 23, 21, 24, 24, 16, 20, 21, 21, 21, 21, 11, 24, 21, 5, 22, 21, 21, 16, 21, 23, 21, 22, 23, 23, 21, 21, 2, 20, 20, 21, 21, 21, 21, 24, 20, 23, 1, 21, 21, 21, 24, 21, 12, 21, 24, 23, 21, 20, 23, 21, 17, 2, 16, 22, 21, 20, 21, 16, 21, 0, 23, 21, 21, 21, 23, 21, 21, 21, 21, 21, 22, 23, 21, 16, 12, 21, 16, 21, 21, 23, 22, 23, 22, 21, 16, 23, 21, 15, 21, 8, 19, 21, 16, 21, 20, 21, 16, 21, 21, 24, 16, 21, 16, 22, 16, 23, 24, 5, 21, 16, 23, 21, 23, 21, 21, 21, 14, 2, 6, 23, 21, 23, 2, 21, 24, 17, 2, 16, 21, 21, 21, 24, 2, 21, 21, 11, 6, 21, 23, 21, 21, 21, 21, 22, 23, 16, 21, 21, 24, 21, 21, 21, 16, 7, 23, 21, 21, 16, 16, 23, 24, 21, 21, 21, 16, 6, 21, 22, 24, 22, 16, 22, 21, 24, 21, 16, 24, 23, 16, 21, 16, 23, 21, 21, 23, 15, 12, 22, 23, 16, 23, 21, 15, 21, 16, 23, 16, 24, 21, 23, 23, 21, 21, 14, 7, 2, 16, 12, 16, 21, 11, 21, 16, 23, 16, 21, 2, 23, 23, 21, 23, 21, 22, 15, 21, 21, 23, 21, 23, 19, 2, 21, 21, 21, 23, 21, 24, 21, 23, 21, 2, 6, 21, 23, 22, 21, 23, 23, 24, 21, 23, 7, 16, 21, 21, 24, 23, 17, 13, 16, 23, 16, 17, 16, 21, 21, 21, 11, 21, 16, 15, 17, 24, 22, 21, 21, 21, 21, 22, 21, 21, 21, 23, 21, 21, 21, 11, 23, 12, 21, 23, 21, 21, 21, 19, 17, 21, 21, 11, 16, 14, 23, 21, 22, 11, 21, 21, 24, 19, 21, 2, 11, 21, 2, 23, 16, 21, 17, 21, 21, 20, 21, 20, 12, 13, 23, 24, 21, 23, 21, 24, 16, 21, 22, 21, 21, 21, 24, 22, 21, 21, 21, 23, 21, 17, 17, 22, 2, 21, 2, 11, 23, 6, 23, 23, 21, 17, 16, 23, 24, 17, 21, 2, 23, 21, 23, 21, 21, 23, 24, 21, 16, 21, 16, 21, 19, 21, 21, 24, 21, 21, 21, 22, 16, 21, 20, 21, 11, 16, 21, 21, 14, 21, 23, 23, 22, 21, 24, 24, 16, 23, 20, 16, 21, 21, 21, 23, 21, 21, 24, 21, 14, 12, 12, 24, 21, 21, 21, 21, 22, 22, 23, 19, 23, 19, 21, 21, 21, 22, 7, 23, 21, 7, 21, 16, 3, 23, 23, 13, 21, 24, 19, 16, 24, 22, 21, 10, 24, 21, 21, 21, 22, 21, 24, 21, 21, 21, 2, 16, 21, 23, 11, 21, 21, 16, 23, 16, 22, 23, 21, 23, 23, 21, 24, 24, 19, 21, 21, 24, 21, 16, 21, 21, 21, 23, 22, 16, 23, 21, 3, 23, 21, 7, 10, 20, 22, 11, 16, 16, 21, 23, 21, 2, 8, 13, 14, 21, 21, 16, 21, 21, 12, 21, 16, 21, 21, 21, 21, 24, 23, 2, 16, 3, 12, 21, 21, 16, 21, 22, 16, 20, 21, 16, 11, 14, 12, 22, 21, 23, 16, 23, 21, 21, 23, 7, 22, 23, 21, 22, 22, 22, 18, 21, 21, 2, 21, 21, 22, 21, 2, 2, 3, 23, 23, 21, 16, 21, 21, 21, 21, 22, 23, 23, 24, 21, 24, 12, 1, 21, 21, 21, 21, 21, 21, 14, 14, 16, 21, 21, 24, 21, 16, 21, 17, 5, 7, 23, 16, 21, 23, 21, 21, 24, 21, 16, 20, 21, 2, 16, 23, 21, 21, 16, 24, 14, 22, 21, 21, 21, 17, 23, 23, 2, 21, 21, 16, 22, 23, 22, 21, 20, 11, 2, 16, 21, 16, 2, 16, 21, 21, 16, 24, 22, 22, 12, 21, 22, 21, 21, 23, 21, 21, 16, 21, 21, 12, 23, 22, 21, 21, 22, 22, 21, 17, 23, 23, 7, 20, 21, 16, 1, 21, 21, 21, 19, 5, 19, 23, 21, 24, 21, 21, 23, 21, 21, 21, 16, 21, 21, 20, 21, 21, 16, 21, 11, 24, 21, 21, 23, 21, 21, 21, 24, 10, 21, 21, 22, 17, 13, 23, 21, 4, 21, 22, 21, 23, 21, 23, 24, 21, 21, 23, 16, 16, 21, 11, 1, 21, 23, 21, 24, 24, 23, 3, 11, 22, 21, 24, 23, 0, 21, 20, 22, 21, 23, 22, 21, 23, 24, 21, 23, 21, 23, 21, 17, 22, 16, 16, 19, 22, 23, 21, 23, 23, 21, 21, 6, 7, 22, 21, 21, 20, 21, 21, 21, 21, 21, 24, 21, 23, 21, 21, 21, 21, 21, 21, 21, 21, 11, 21, 17, 21, 16, 21, 21, 19, 21, 14, 23, 24, 24, 22, 23, 21, 7, 21, 16, 7, 24, 21, 21, 23, 21, 24, 21, 24, 21, 21, 22, 16, 23, 21, 21, 16, 21, 23, 21, 16, 8, 16, 21, 24, 24, 16, 21, 22, 16, 23, 24, 21, 21, 2, 24, 16, 24, 21, 8, 16, 16, 21, 23, 21, 24, 21, 17, 24, 21, 24, 21, 16, 22, 24, 2, 16, 23, 24, 21, 23, 21, 24, 7, 7, 24, 21, 22, 21, 21, 22, 21, 21, 21, 24, 20, 20, 24, 21, 14, 21, 23, 21, 24, 23, 18, 21, 24, 21, 21, 5, 22, 21, 3, 21, 23, 23, 21, 21, 21, 16, 16, 21, 5, 21, 21, 22, 21, 24, 22, 16, 21, 21, 21, 21, 21, 21, 5, 22, 16, 23, 16, 21, 21, 23, 7, 16, 21, 16, 21, 23, 22, 21, 22, 22, 21, 21, 22, 21, 21, 24, 21, 22, 23, 20, 21, 22, 24, 21, 16, 21, 21, 24, 1, 11, 21, 21, 4, 23, 24, 23, 22, 21, 11, 21, 1, 1, 21, 24, 16, 21, 17, 12, 23, 16, 21, 21, 16, 21, 12, 6, 21, 24, 21, 21, 21, 16, 23, 21, 21, 21, 13, 16, 24, 6, 24, 20, 23, 16, 24, 16, 16, 23, 21, 20, 23, 21, 21, 23, 21, 21, 21, 24, 16, 21, 16, 21, 3, 22, 11, 21, 21, 22, 16, 21, 21, 23, 21, 21, 10, 21, 21, 23, 21, 16, 20, 16, 21, 22, 10, 21, 12, 21, 21, 23, 21, 12, 21, 21, 21, 21, 21, 14, 21, 19, 23, 16, 21, 20, 16, 21, 17, 21, 24, 21, 21, 22, 16, 15, 21, 21, 16, 21, 21, 16, 21, 21, 6, 23, 21, 16, 20, 12, 21, 19, 2, 21, 21, 16, 21, 23, 21, 21, 1, 24, 6, 23, 21, 22, 23, 16, 21, 22, 24, 21, 21, 21, 24, 1, 16, 24, 21, 24, 21, 22, 21, 22, 16, 7, 21, 20, 23, 21, 21, 14, 21, 23, 12, 21, 21, 24, 22, 22, 22, 21, 21, 14, 21, 24, 21, 21, 16, 19, 23, 17, 22, 23, 21, 18, 21, 21, 20, 21, 22, 21, 23, 23, 24, 0, 21, 11, 12, 21, 1, 21, 21, 21, 22, 22, 24, 0, 21, 22, 16, 21, 21, 6, 2, 16, 21, 21, 21, 14, 24, 21, 21, 21, 23, 23, 16, 21, 20, 23, 23, 24, 16, 23, 2, 23, 21, 12, 21, 21, 21, 21, 21, 5, 21, 0, 21, 20, 21, 21, 23, 21, 20, 23, 11, 21, 23, 24, 23, 16, 21, 21, 21, 23, 22, 23, 21, 10, 21, 8, 21, 12, 16, 21, 23, 23, 21, 16, 21, 21, 16, 23, 16, 22, 21, 21, 21, 23, 20, 14, 21, 21, 24, 10, 21, 6, 17, 21, 23, 13, 21, 21, 21, 1, 5, 24, 5, 12, 23, 23, 11, 24, 22, 5, 21, 24, 16, 17, 16, 21, 24, 16, 16, 16, 19, 16, 21, 21, 15, 22, 22, 23, 23, 21, 23, 2, 21, 21, 23, 21, 21, 11, 14, 16, 22, 22, 21, 21, 21, 7, 21, 24, 21, 22, 21, 21, 14, 21, 21, 16, 16, 6, 21, 21, 21, 22, 22, 21, 16, 21, 17, 14, 21, 23, 24, 21, 21, 10, 21, 22, 23, 21, 12, 16, 21, 21, 21, 8, 14, 22, 23, 21, 16, 21, 24, 20, 21, 16, 24, 21, 21, 23, 24, 21, 23, 17, 12, 21, 16, 21, 21, 23, 16, 21, 22, 7, 23, 21, 16, 22, 21, 21, 21, 12, 21, 21, 23, 24, 16, 12, 19, 16, 21, 6, 14, 21, 23, 2, 23, 23, 22, 5, 21, 16, 24, 21, 24, 21, 12, 7, 19, 21, 21, 22, 21, 16, 21, 16, 24, 24, 21, 17, 21, 20, 16, 23, 21, 24, 23, 17, 23, 21, 21, 16, 21, 21, 21, 21, 24, 23, 21, 21, 21, 16, 23, 21, 21, 20, 11, 14, 24, 12, 21, 21, 21, 22, 21, 21, 21, 21, 16, 23, 24, 21, 21, 21, 21, 23, 21, 21, 23, 21, 23, 21, 21, 16, 24, 20, 2, 21, 24, 22, 23, 7, 2, 1, 5, 21, 24, 21, 21, 8, 21, 21, 21, 20, 21, 21, 11, 16, 16, 21, 11, 21, 2, 24, 21, 21, 24, 21, 23, 4, 21, 21, 20, 22, 16, 16, 23, 20, 13, 1, 4, 16, 16, 2, 21, 21, 23, 16, 22, 20, 21, 21, 23, 17, 21, 16, 21, 16, 21, 24, 24, 23, 21, 24, 21, 11, 15, 21, 24]\n",
      "Tempo de execução: 3551.354069 segundos\n",
      "O valor do RMSE é: 11.90145649349972.\n"
     ]
    }
   ],
   "source": [
    "result_10000, rmse_10000 = knn_mahalanobis(10000)"
   ]
  },
  {
   "cell_type": "code",
   "execution_count": 126,
   "metadata": {},
   "outputs": [
    {
     "name": "stdout",
     "output_type": "stream",
     "text": [
      "Foi possível calcular a matriz S\n",
      "[24, 4, 7, 14, 23, 22, 16, 14, 17, 10, 16, 5, 6, 21, 21, 5, 20, 21, 21, 21, 20, 24, 22, 12, 14, 21, 23, 16, 21, 21, 21, 24, 12, 8, 21, 2, 22, 17, 16, 23, 21, 24, 21, 23, 24, 21, 21, 21, 23, 21, 14, 21, 21, 16, 3, 16, 21, 2, 23, 21, 23, 21, 12, 8, 15, 21, 23, 22, 10, 16, 16, 16, 16, 14, 21, 14, 21, 21, 23, 18, 21, 14, 17, 14, 23, 21, 21, 23, 22, 8, 20, 17, 14, 21, 21, 20, 20, 21, 16, 21, 22, 21, 22, 21, 18, 23, 22, 21, 21, 21, 2, 22, 21, 21, 21, 23, 21, 21, 21, 23, 21, 21, 21, 16, 14, 15, 17, 24, 23, 21, 12, 16, 22, 1, 21, 22, 16, 23, 19, 21, 21, 17, 21, 23, 4, 6, 21, 21, 21, 21, 7, 22, 7, 23, 21, 2, 22, 13, 17, 21, 7, 23, 22, 21, 23, 22, 21, 23, 16, 21, 21, 16, 21, 20, 1, 17, 23, 5, 20, 24, 10, 23, 23, 10, 16, 21, 16, 23, 21, 22, 16, 14, 21, 16, 23, 15, 21, 21, 21, 17, 21, 22, 21, 23, 21, 21, 23, 24, 21, 22, 16, 21, 13, 2, 21, 0, 23, 21, 11, 22, 23, 2, 21, 18, 23, 10, 23, 21, 21, 21, 21, 6, 23, 24, 21, 21, 21, 15, 21, 16, 21, 16, 21, 16, 21, 16, 21, 11, 12, 3, 18, 16, 21, 21, 20, 14, 12, 16, 23, 23, 16, 22, 13, 21, 21, 16, 21, 21, 21, 21, 21, 14, 21, 16, 10, 14, 21, 21, 21, 11, 14, 21, 21, 10, 21, 21, 17, 12, 24, 21, 20, 21, 21, 24, 21, 23, 21, 21, 23, 16, 24, 16, 16, 22, 16, 22, 2, 16, 20, 20, 21, 12, 21, 5, 16, 21, 22, 14, 22, 21, 11, 21, 11, 23, 17, 21, 14, 21, 14, 21, 21, 14, 23, 24, 22, 21, 22, 22, 21, 22, 22, 16, 23, 8, 22, 21, 24, 23, 16, 21, 21, 23, 21, 5, 16, 10, 21, 13, 21, 21, 22, 15, 21, 21, 10, 12, 21, 21, 21, 23, 14, 14, 23, 14, 16, 1, 21, 11, 12, 22, 21, 7, 21, 13, 20, 23, 23, 24, 21, 22, 22, 21, 16, 21, 23, 21, 12, 21, 22, 23, 20, 21, 21, 15, 21, 21, 5, 21, 16, 22, 20, 14, 21, 21, 21, 23, 11, 23, 23, 16, 20, 24, 3, 21, 21, 12, 21, 21, 21, 23, 23, 21, 21, 2, 23, 21, 21, 19, 21, 21, 21, 5, 16, 21, 13, 24, 5, 23, 21, 17, 0, 22, 16, 12, 21, 23, 12, 21, 21, 23, 8, 16, 22, 21, 22, 19, 15, 0, 15, 21, 21, 15, 22, 16, 24, 7, 10, 3, 12, 12, 22, 21, 3, 10, 15, 21, 24, 21, 20, 23, 22, 7, 23, 3, 21, 21, 23, 23, 17, 22, 13, 21, 21, 21, 21, 21, 14, 21, 23, 24, 2, 24, 24, 23, 21, 23, 21, 21, 21, 21, 23, 14, 16, 21, 22, 2, 21, 23, 23, 11, 21, 21, 21, 21, 12, 14, 22, 21, 22, 22, 19, 21, 21, 10, 24, 21, 21, 21, 2, 21, 3, 21, 12, 21, 10, 21, 15, 16, 16, 2, 15, 16, 16, 3, 21, 24, 21, 22, 21, 13, 12, 21, 21, 21, 12, 15, 16, 23, 16, 19, 21, 14, 18, 22, 21, 21, 21, 23, 16, 21, 2, 10, 21, 22, 21, 3, 19, 23, 14, 21, 21, 21, 22, 22, 22, 16, 22, 16, 20, 12, 15, 3, 10, 21, 14, 16, 21, 21, 8, 22, 12, 20, 11, 5, 21, 21, 22, 21, 23, 23, 16, 23, 23, 23, 22, 12, 23, 20, 14, 23, 23, 20, 16, 21, 12, 21, 21, 2, 21, 2, 15, 21, 22, 16, 23, 21, 20, 22, 21, 21, 21, 21, 21, 23, 21, 12, 21, 21, 16, 21, 2, 21, 16, 23, 24, 16, 4, 15, 21, 16, 2, 12, 21, 22, 14, 23, 20, 22, 21, 0, 21, 22, 12, 21, 21, 23, 3, 21, 22, 23, 16, 21, 21, 21, 16, 21, 21, 21, 21, 19, 21, 11, 21, 21, 21, 12, 21, 12, 3, 21, 16, 21, 21, 16, 24, 3, 23, 16, 21, 23, 21, 21, 23, 19, 21, 16, 16, 21, 21, 14, 23, 23, 22, 21, 24, 21, 23, 21, 22, 21, 20, 21, 21, 21, 22, 23, 23, 10, 22, 14, 21, 23, 21, 16, 21, 2, 10, 21, 21, 16, 23, 16, 21, 23, 16, 21, 23, 21, 21, 21, 23, 16, 11, 23, 0, 21, 23, 2, 16, 21, 22, 20, 24, 16, 22, 23, 23, 21, 21, 21, 23, 21, 12, 21, 16, 23, 21, 21, 14, 16, 18, 1, 21, 21, 2, 0, 24, 16, 24, 21, 16, 21, 22, 23, 23, 21, 21, 16, 22, 21, 2, 21, 21, 21, 2, 14, 21, 24, 24, 16, 23, 24, 22, 21, 3, 21, 5, 21, 21, 21, 20, 14, 21, 24, 0, 21, 21, 20, 12, 15, 22, 1, 21, 15, 21, 8, 21, 24, 23, 21, 16, 21, 21, 21, 1, 21, 21, 22, 14, 21, 21, 16, 21, 21, 16, 22, 11, 20, 0, 21, 14, 3, 21, 8, 16, 21, 23, 21, 21, 17, 20, 5, 22, 21, 23, 16, 3, 2, 21, 21, 21, 11, 22, 21, 14, 24, 21, 10, 4, 21, 5, 10, 5, 22, 21, 12, 0, 22, 23, 4, 21, 12, 21, 21, 21, 4, 23, 22, 23, 22, 21, 13, 21, 21, 21, 21, 21, 23, 6, 21, 16, 22, 17, 4, 21, 19, 1, 21, 21, 23, 21, 21, 23, 24, 16, 0, 16, 21, 21, 21, 7, 21, 14, 16, 21, 19, 21, 21, 23, 20, 16, 21, 21, 8, 21, 12, 17, 21, 22, 21, 21, 21, 5, 23, 2, 21, 6, 22, 23, 22, 4, 4, 15, 16, 7, 21, 16, 21, 22, 22, 21, 22, 18, 22, 21, 23, 24, 12, 6, 0, 21, 23, 14, 21, 16, 23, 17, 12, 16, 16, 4, 16, 6, 16, 15, 10, 21, 21, 24, 18, 15, 21, 24, 20, 23, 21, 23, 14, 2, 16, 10, 22, 23, 23, 21, 14, 8, 22, 14, 18, 21, 24, 12, 16, 8, 2, 21, 21, 21, 20, 22, 16, 21, 8, 3, 10, 22, 22, 21, 16, 21, 22, 23, 21, 16, 21, 17, 21, 21, 23, 16, 21, 2, 2, 16, 21, 15, 22, 23, 16, 23, 0, 21, 16, 4, 4, 16, 20, 21, 22, 21, 21, 23, 16, 12, 16, 21, 3, 16, 22, 7, 14, 16, 21, 8, 16, 22, 2, 21, 3, 22, 21, 16, 21, 16, 21, 21, 16, 23, 22, 5, 21, 21, 21, 22, 7, 23, 21, 21, 21, 21, 16, 2, 23, 7, 22, 21, 16, 21, 23, 17, 21, 24, 16, 21, 23, 21, 21, 16, 21, 21, 16, 3, 7, 21, 2, 23, 2, 10, 0, 23, 21, 21, 22, 21, 22, 23, 21, 22, 4, 22, 22, 23, 21, 21, 21, 23, 14, 22, 20, 17, 24, 0, 3, 21, 21, 10, 16, 21, 22, 21, 21, 22, 21, 21, 21, 23, 23, 20, 21, 21, 19, 2, 0, 23, 8, 21, 0, 21, 21, 0, 21, 3, 22, 12, 15, 22, 23, 21, 2, 20, 2, 23, 23, 16, 16, 16, 21, 22, 21, 16, 2, 18, 21, 21, 21, 23, 21, 7, 23, 16, 22, 21, 21, 21, 22, 21, 8, 7, 3, 23, 22, 24, 16, 24, 0, 21, 21, 23, 21, 23, 22, 21, 22, 8, 21, 20, 12, 16, 23, 22, 3, 23, 12, 21, 21, 12, 13, 21, 21, 21, 21, 21, 21, 0, 21, 0, 22, 21, 5, 21, 21, 16, 17, 23, 21, 21, 23, 14, 21, 23, 24, 21, 17, 14, 17, 21, 23, 16, 12, 21, 2, 21, 8, 21, 16, 14, 16, 21, 10, 23, 19, 23, 10, 16, 21, 21, 21, 16, 21, 12, 21, 23, 20, 23, 23, 21, 21, 10, 21, 21, 23, 22, 21, 22, 23, 20, 21, 21, 13, 22, 23, 17, 2, 21, 16, 21, 24, 21, 22, 21, 3, 18, 16, 24, 23, 23, 21, 16, 13, 21, 22, 22, 21, 23, 21, 5, 10, 23, 23, 23, 21, 21, 21, 3, 21, 21, 22, 2, 21, 23, 16, 3, 21, 16, 21, 8, 21, 21, 24, 21, 16, 16, 20, 23, 23, 21, 23, 21, 16, 21, 18, 21, 23, 16, 14, 21, 21, 21, 23, 21, 24, 8, 16, 20, 21, 21, 10, 21, 8, 16, 22, 5, 22, 21, 21, 16, 21, 23, 21, 22, 24, 23, 2, 3, 2, 20, 20, 21, 21, 21, 21, 24, 20, 23, 15, 21, 16, 21, 8, 16, 12, 21, 21, 23, 21, 20, 23, 21, 2, 21, 16, 22, 21, 20, 21, 16, 21, 0, 1, 4, 21, 21, 16, 21, 3, 21, 21, 21, 22, 18, 21, 16, 15, 21, 4, 21, 21, 23, 22, 23, 10, 21, 23, 23, 21, 18, 16, 1, 19, 21, 16, 23, 22, 21, 16, 20, 21, 24, 21, 21, 16, 22, 16, 23, 21, 3, 21, 16, 23, 21, 21, 21, 21, 21, 14, 2, 6, 23, 21, 23, 2, 16, 1, 17, 21, 16, 21, 21, 21, 23, 8, 16, 20, 11, 6, 10, 23, 21, 21, 21, 21, 22, 23, 16, 3, 21, 24, 22, 21, 21, 16, 7, 23, 21, 21, 12, 14, 23, 21, 24, 16, 21, 16, 12, 21, 22, 16, 22, 21, 22, 21, 16, 24, 16, 21, 23, 16, 21, 21, 22, 21, 21, 23, 16, 14, 2, 23, 16, 23, 21, 15, 21, 16, 23, 16, 21, 21, 23, 23, 21, 21, 14, 7, 21, 23, 12, 16, 21, 8, 21, 16, 24, 21, 21, 12, 23, 23, 21, 23, 21, 21, 15, 21, 10, 23, 21, 14, 19, 22, 21, 21, 21, 21, 21, 16, 21, 23, 16, 2, 2, 20, 22, 22, 21, 23, 23, 24, 16, 23, 8, 15, 21, 16, 24, 21, 17, 15, 18, 23, 4, 17, 21, 21, 21, 16, 11, 14, 2, 18, 17, 16, 22, 21, 21, 16, 21, 22, 21, 23, 15, 23, 21, 21, 3, 11, 23, 12, 21, 24, 21, 14, 21, 21, 17, 21, 21, 22, 16, 14, 23, 21, 2, 11, 21, 21, 21, 18, 21, 2, 24, 21, 21, 23, 14, 10, 17, 14, 21, 20, 16, 22, 12, 3, 23, 16, 21, 23, 21, 21, 16, 21, 22, 21, 21, 21, 24, 22, 21, 21, 21, 23, 2, 17, 17, 14, 12, 21, 4, 8, 23, 21, 23, 13, 21, 14, 16, 23, 24, 17, 21, 21, 15, 16, 23, 21, 21, 23, 16, 21, 21, 21, 16, 21, 20, 21, 21, 24, 21, 21, 2, 22, 16, 21, 16, 17, 11, 12, 21, 21, 14, 21, 23, 23, 22, 21, 24, 24, 16, 16, 11, 16, 22, 21, 21, 23, 12, 21, 21, 21, 14, 0, 12, 21, 16, 21, 21, 21, 22, 22, 23, 19, 20, 19, 8, 16, 21, 22, 7, 23, 21, 21, 21, 10, 3, 23, 23, 15, 21, 16, 19, 6, 6, 22, 21, 10, 21, 21, 21, 6, 23, 16, 22, 21, 21, 21, 21, 16, 21, 23, 11, 21, 21, 21, 23, 16, 22, 23, 21, 15, 23, 21, 16, 23, 21, 14, 21, 21, 14, 21, 21, 21, 24, 23, 22, 16, 23, 21, 3, 23, 21, 7, 10, 12, 22, 11, 21, 12, 16, 23, 2, 21, 8, 10, 3, 21, 21, 16, 21, 3, 22, 21, 16, 21, 21, 5, 21, 21, 23, 18, 16, 3, 12, 21, 21, 16, 16, 21, 23, 0, 16, 16, 11, 14, 0, 22, 21, 23, 16, 23, 21, 21, 23, 2, 22, 23, 21, 22, 23, 22, 21, 21, 23, 2, 16, 21, 22, 23, 2, 2, 21, 16, 22, 21, 16, 21, 20, 21, 21, 22, 23, 23, 24, 21, 24, 12, 1, 21, 21, 21, 21, 21, 21, 14, 14, 16, 14, 21, 8, 23, 24, 21, 17, 5, 7, 23, 2, 21, 21, 21, 21, 22, 21, 16, 20, 21, 21, 10, 23, 21, 21, 23, 2, 3, 22, 21, 17, 21, 17, 23, 23, 2, 15, 16, 15, 22, 23, 22, 21, 20, 11, 8, 10, 24, 16, 18, 16, 21, 21, 16, 16, 22, 23, 12, 21, 22, 10, 17, 21, 21, 21, 16, 21, 3, 12, 23, 22, 21, 21, 22, 22, 21, 17, 23, 23, 10, 12, 21, 4, 15, 21, 21, 21, 21, 5, 20, 14, 21, 16, 21, 3, 23, 23, 21, 16, 16, 21, 3, 2, 21, 21, 10, 21, 11, 21, 21, 21, 23, 21, 16, 21, 24, 10, 21, 21, 22, 17, 15, 11, 14, 16, 21, 23, 21, 23, 21, 21, 14, 21, 21, 23, 2, 16, 21, 11, 20, 21, 23, 21, 5, 24, 23, 12, 11, 22, 14, 1, 23, 0, 21, 22, 22, 21, 23, 22, 21, 23, 24, 21, 23, 0, 16, 14, 17, 22, 16, 16, 19, 16, 23, 18, 23, 23, 16, 21, 6, 7, 22, 21, 20, 14, 21, 21, 21, 21, 21, 8, 21, 23, 21, 21, 21, 21, 21, 14, 1, 21, 11, 21, 17, 21, 11, 21, 21, 19, 21, 14, 23, 23, 16, 22, 23, 21, 2, 21, 16, 10, 24, 16, 21, 16, 21, 24, 21, 8, 6, 21, 14, 23, 23, 21, 16, 16, 2, 23, 16, 16, 1, 12, 21, 24, 10, 16, 21, 22, 23, 23, 16, 21, 21, 2, 24, 16, 8, 21, 8, 23, 16, 21, 23, 21, 16, 21, 17, 21, 16, 1, 15, 21, 2, 22, 23, 16, 23, 24, 21, 15, 21, 16, 7, 12, 1, 21, 22, 21, 21, 22, 21, 21, 21, 21, 20, 20, 24, 21, 14, 16, 3, 21, 16, 23, 24, 0, 24, 20, 21, 5, 22, 21, 12, 21, 16, 23, 16, 22, 21, 19, 16, 21, 22, 21, 21, 22, 21, 14, 22, 23, 21, 21, 21, 15, 3, 21, 5, 22, 16, 23, 16, 21, 21, 23, 12, 23, 21, 16, 21, 23, 22, 21, 22, 22, 21, 21, 22, 21, 21, 12, 21, 22, 23, 12, 21, 22, 23, 21, 3, 2, 21, 15, 15, 11, 21, 21, 4, 23, 24, 23, 22, 21, 22, 21, 20, 15, 21, 12, 16, 21, 17, 12, 8, 16, 21, 21, 16, 21, 12, 6, 21, 24, 21, 21, 21, 15, 23, 16, 22, 21, 15, 16, 24, 21, 24, 20, 21, 16, 18, 16, 10, 5, 20, 22, 23, 21, 0, 16, 21, 21, 21, 24, 20, 21, 16, 21, 12, 22, 11, 21, 23, 22, 16, 21, 21, 23, 21, 16, 10, 21, 21, 21, 21, 16, 7, 16, 2, 22, 10, 24, 14, 16, 22, 23, 21, 15, 21, 21, 20, 21, 21, 14, 21, 19, 16, 14, 22, 22, 21, 10, 17, 21, 16, 23, 21, 22, 23, 18, 21, 21, 12, 22, 21, 16, 16, 21, 6, 23, 21, 16, 20, 21, 6, 19, 21, 21, 21, 16, 21, 13, 21, 21, 15, 2, 21, 21, 21, 14, 16, 23, 21, 16, 20, 21, 21, 21, 0, 1, 16, 21, 21, 24, 16, 22, 23, 22, 23, 2, 16, 20, 23, 21, 21, 21, 16, 23, 15, 21, 21, 21, 14, 22, 22, 21, 21, 14, 22, 24, 21, 22, 10, 21, 12, 14, 23, 20, 7, 21, 21, 21, 20, 21, 23, 21, 24, 23, 2, 0, 21, 21, 12, 21, 1, 21, 21, 21, 22, 22, 21, 16, 16, 22, 16, 21, 21, 6, 2, 21, 21, 21, 22, 14, 23, 21, 21, 21, 23, 23, 16, 21, 16, 23, 23, 10, 16, 23, 2, 23, 21, 12, 20, 21, 21, 14, 21, 24, 21, 0, 21, 21, 21, 2, 23, 1, 20, 23, 16, 21, 23, 24, 15, 12, 16, 16, 21, 23, 22, 2, 23, 10, 21, 1, 21, 12, 21, 21, 18, 23, 14, 16, 21, 21, 16, 23, 16, 22, 0, 21, 21, 21, 20, 14, 21, 21, 24, 10, 21, 6, 19, 21, 23, 13, 21, 3, 16, 20, 5, 24, 3, 12, 20, 23, 16, 15, 22, 5, 21, 16, 16, 17, 16, 21, 8, 16, 5, 16, 21, 21, 21, 21, 15, 22, 22, 23, 24, 16, 16, 21, 21, 21, 23, 20, 21, 11, 14, 15, 2, 22, 21, 21, 21, 7, 21, 24, 21, 22, 16, 21, 14, 22, 2, 21, 11, 2, 21, 14, 23, 22, 22, 21, 11, 21, 18, 11, 16, 21, 8, 21, 21, 21, 21, 22, 12, 21, 0, 21, 21, 2, 21, 3, 14, 22, 23, 16, 16, 21, 24, 20, 15, 16, 21, 21, 22, 23, 2, 21, 23, 17, 14, 21, 16, 22, 21, 23, 23, 16, 22, 7, 15, 16, 16, 22, 21, 21, 21, 12, 23, 21, 23, 16, 16, 0, 21, 23, 21, 22, 3, 16, 23, 18, 16, 8, 22, 5, 21, 16, 24, 23, 2, 21, 16, 7, 20, 21, 20, 22, 21, 16, 16, 16, 16, 21, 21, 17, 11, 12, 21, 16, 21, 24, 23, 17, 23, 21, 21, 10, 21, 21, 21, 21, 24, 23, 21, 21, 21, 8, 23, 16, 3, 2, 11, 14, 23, 15, 21, 21, 15, 22, 21, 21, 2, 21, 21, 23, 24, 21, 21, 21, 23, 23, 21, 21, 23, 21, 5, 21, 22, 21, 16, 20, 21, 22, 2, 22, 14, 7, 12, 15, 5, 21, 0, 21, 21, 1, 2, 2, 21, 20, 21, 22, 8, 13, 12, 23, 11, 21, 2, 24, 21, 21, 21, 21, 22, 16, 21, 21, 20, 22, 14, 2, 23, 20, 13, 15, 4, 5, 6, 21, 21, 3, 16, 12, 22, 21, 21, 21, 23, 17, 16, 21, 16, 12, 21, 8, 18, 5, 21, 21, 21, 8, 15, 21, 24, 12, 21, 16, 21, 21, 21, 23, 23, 10, 23, 16, 3, 22, 22, 21, 21, 21, 23, 12, 0, 21, 11, 23, 21, 24, 15, 0, 20, 12, 20, 21, 16, 21, 21, 24, 24, 3, 16, 21, 21, 16, 16, 23, 13, 23, 12, 19, 21, 19, 21, 24, 24, 22, 23, 21, 16, 16, 11, 17, 16, 21, 21, 13, 23, 7, 21, 23, 21, 21, 14, 16, 23, 16, 8, 21, 21, 15, 21, 17, 23, 23, 21, 14, 12, 16, 12, 16, 22, 12, 6, 21, 5, 21, 16, 16, 18, 16, 21, 21, 23, 16, 21, 15, 21, 22, 21, 16, 23, 21, 22, 22, 18, 21, 2, 16, 16, 7, 16, 21, 21, 16, 21, 21, 23, 16, 21, 23, 21, 22, 14, 3, 21, 23, 21, 21, 20, 21, 12, 17, 21, 21, 23, 21, 21, 21, 10, 24, 21, 20, 2, 16, 22, 16, 15, 22, 21, 23, 21, 21, 17, 11, 21, 21, 21, 21, 21, 21, 21, 4, 23, 21, 21, 21, 17, 21, 21, 16, 18, 23, 23, 23, 21, 2, 23, 15, 21, 19, 23, 23, 16, 23, 23, 21, 16, 14, 22, 20, 23, 7, 14, 21, 21, 12, 4, 21, 21, 23, 21, 16, 22, 17, 8, 20, 22, 21, 21, 16, 22, 16, 10, 13, 22, 23, 21, 10, 21, 21, 21, 15, 23, 2, 24, 2, 22, 21, 4, 21, 22, 7, 22, 21, 21, 2, 24, 24, 21, 14, 21, 21, 21, 17, 16, 15, 22, 16, 23, 1, 21, 22, 21, 11, 16, 23, 21, 21, 2, 21, 2, 10, 21, 21, 16, 21, 21, 22, 23, 21, 21, 22, 22, 23, 20, 21, 17, 21, 17, 15, 21, 21, 23, 21, 16, 23, 23, 2, 21, 21, 22, 21, 16, 5, 10, 11, 21, 21, 6, 14, 16, 19, 23, 21, 16, 16, 16, 21, 2, 21, 21, 21, 21, 20, 24, 21, 21, 21, 17, 21, 21, 21, 16, 21, 18, 12, 19, 24, 16, 5, 19, 24, 21, 21, 15, 23, 2, 14, 22, 22, 21, 22, 21, 16, 23, 21, 21, 21, 21, 21, 7, 5, 18, 11, 22, 23, 22, 21, 21, 24, 21, 23, 22, 0, 21, 19, 21, 21, 22, 23, 21, 2, 11, 17, 8, 23, 22, 24, 16, 21, 21, 23, 21, 14, 22, 12, 23, 23, 21, 21, 16, 21, 22, 21, 11, 11, 23, 21, 22, 23, 16, 21, 23, 16, 21, 23, 23, 23, 2, 12, 15, 21, 22, 11, 23, 5, 2, 21, 23, 21, 18, 16, 2, 24, 21, 14, 23, 8, 21, 21, 17, 21, 21, 18, 17, 21, 16, 21, 21, 23, 21, 21, 12, 21, 0, 17, 23, 5, 10, 22, 20, 21, 8, 21, 21, 22, 16, 21, 21, 21, 20, 4, 10, 23, 6, 12, 6, 19, 17, 16, 21, 5, 21, 21, 18, 2, 22, 22, 22, 23, 22, 7, 16, 11, 20, 21, 21, 16, 23, 23, 21, 21, 0, 3, 16, 16, 21, 10, 16, 2, 23, 21, 24, 21, 23, 16, 21, 2, 11, 0, 20, 21, 18, 11, 21, 10, 22, 6, 24, 15, 21, 2, 10, 16, 24, 10, 20, 21, 21, 16, 17, 21, 16, 21, 21, 21, 22, 3, 0, 21, 2, 23, 22, 21, 11, 21, 2, 20, 23, 21, 23, 10, 21, 21, 3, 17, 23, 22, 21, 21, 21, 21, 7, 21, 16, 21, 23, 23, 15, 12, 20, 23, 14, 20, 21, 16, 16, 24, 23, 10, 0, 21, 21, 12, 21, 14, 23, 23, 21, 21, 4, 23, 21, 23, 3, 16, 21, 22, 15, 21, 21, 22, 23, 23, 16, 23, 21, 15, 16, 16, 24, 21, 2, 12, 12, 21, 11, 12, 22, 16, 21, 24, 21, 15, 21, 21, 24, 11, 1, 22, 23, 14, 16, 23, 17, 22, 21, 24, 23, 21, 15, 2, 12, 21, 22, 13, 21, 21, 23, 5, 10, 12, 23, 4, 21, 16, 21, 24, 17, 16, 21, 21, 4, 22, 21, 21, 21, 14, 21, 22, 2, 2, 10, 21, 23, 11, 16, 22, 16, 21, 16, 23, 15, 21, 17, 7, 21, 21, 22, 19, 16, 21, 21, 21, 20, 21, 24, 21, 21, 21, 22, 22, 23, 0, 21, 21, 23, 15, 21, 2, 12, 21, 22, 21, 15, 17, 23, 22, 22, 23, 22, 23, 16, 20, 23, 16, 3, 12, 21, 2, 21, 23, 21, 21, 23, 19, 18, 23, 21, 24, 14, 16, 21, 21, 24, 21, 21, 21, 21, 16, 22, 21, 20, 12, 21, 21, 23, 21, 7, 21, 4, 21, 21, 22, 11, 22, 22, 2, 21, 23, 16, 21, 21, 21, 11, 14, 21, 12, 21, 16, 0, 21, 16, 23, 21, 21, 24, 6, 16, 16, 21, 16, 18, 2, 16, 18, 21, 21, 18, 21, 22, 16, 7, 16, 22, 14, 1, 21, 5, 22, 23, 21, 21, 21, 21, 23, 23, 21, 19, 21, 16, 21, 4, 21, 23, 15, 23, 21, 2, 21, 21, 16, 21, 23, 24, 16, 10, 22, 8, 16, 12, 5, 21, 7, 22, 21, 22, 16, 21, 12, 11, 22, 6, 21, 21, 18, 21, 21, 10, 21, 21, 21, 21, 23, 21, 1, 21, 22, 16, 21, 21, 23, 16, 21, 0, 4, 21, 14, 16, 12, 19, 21, 21, 21, 12, 16, 22, 22, 21, 21, 16, 21, 23, 18, 23, 20, 21, 23, 21, 4, 21, 22, 21, 13, 21, 19, 20, 17, 16, 10, 16, 23, 21, 21, 0, 16, 16, 21, 20, 21, 21, 21, 4, 21, 16, 21, 21, 21, 21, 3, 23, 21, 21, 3, 20, 14, 21, 21, 15, 21, 16, 24, 16, 21, 7, 16, 10, 21, 10, 2, 10, 22, 16, 16, 22, 22, 21, 21, 24, 21, 18, 24, 21, 21, 21, 21, 15, 15, 21, 23, 21, 24, 21, 21, 21, 23, 21, 3, 21, 21, 21, 19, 23, 22, 16, 21, 22, 21, 21, 22, 23, 22, 12, 16, 16, 21, 20, 21, 21, 22, 23, 21, 21, 21, 16, 23, 16, 24, 2, 22, 21, 10, 21, 21, 6, 16, 21, 24, 8, 16, 24, 16, 21, 24, 21, 21, 3, 21, 21, 16, 0, 2, 21, 22, 21, 0, 23, 21, 16, 22, 24, 21, 21, 21, 21, 21, 24, 21, 16, 21, 21, 23, 20, 21, 22, 22, 17, 5, 23, 16, 22, 11, 20, 23, 21, 12, 22, 20, 23, 21, 4, 21, 16, 21, 22, 2, 22, 5, 21, 24, 11, 14, 21, 7, 14, 19, 21, 21, 21, 20, 22, 23, 23, 20, 21, 21, 21, 21, 16, 11, 15, 22, 20, 21, 23, 21, 21, 21, 2, 2, 8, 21, 10, 21, 21, 21, 23, 21, 10, 20, 16, 21, 21, 21, 23, 16, 21, 4, 22, 16, 14, 12, 23, 6, 23, 22, 21, 21, 21, 21, 21, 21, 5, 21, 21, 4, 18, 12, 22, 16, 12, 8, 21, 21, 21, 14, 21, 21, 23, 23, 10, 21, 16, 23, 21, 21, 21, 21, 10, 6, 22, 24, 2, 23, 10, 23, 21, 20, 21, 10, 21, 22, 17, 22, 23, 22, 21, 21, 23, 10, 3, 16, 21, 19, 21, 16, 7, 20, 13, 16, 23, 16, 23, 21, 21, 23, 15, 16, 2, 20, 16, 21, 21, 22, 16, 16, 16, 21, 16, 23, 21, 20, 19, 21, 22, 7, 3, 16, 21, 22, 21, 21, 22, 17, 21, 24, 23, 21, 21, 20, 21, 20, 23, 15, 21, 24, 23, 21, 17, 14, 21, 2, 2, 21, 21, 21, 21, 20, 11, 12, 22, 21, 23, 12, 16, 20, 21, 16, 14, 21, 16, 23, 23, 16, 3, 21, 21, 11, 21, 21, 16, 18, 12, 21, 2, 21, 23, 16, 16, 21, 21, 16, 21, 20, 22, 11, 24, 21, 22, 24, 23, 21, 22, 3, 21, 21, 21, 22, 21, 18, 21, 21, 10, 21, 23, 21, 21, 24, 21, 22, 16, 21, 21, 21, 6, 16, 21, 21, 24, 23, 21, 23, 14, 21, 21, 22, 16, 12, 20, 15, 14, 2, 21, 22, 21, 21, 21, 21, 16, 15, 16, 16, 18, 12, 14, 21, 22, 21, 21, 21, 2, 23, 14, 21, 15, 12, 21, 21, 15, 20, 8, 20, 14, 21, 11, 15, 12, 8, 23, 21, 23, 23, 21, 22, 15, 21, 22, 21, 21, 14, 21, 24, 2, 17, 21, 21, 22, 14, 3, 3, 3, 21, 20, 20, 21, 21, 12, 22, 3, 21, 11, 6, 23, 23, 23, 21, 21, 23, 21, 22, 8, 2, 21, 21, 2, 21, 21, 16, 2, 21, 21, 23, 21, 21, 12, 20, 21, 21, 16, 4, 22, 20, 21, 10, 22, 23, 21, 22, 21, 21, 19, 21, 1, 19, 21, 24, 16, 23, 22, 16, 16, 21, 23, 2, 12, 21, 23, 24, 14, 16, 7, 2, 21, 24, 16, 16, 23, 21, 21, 23, 15, 23, 22, 21, 20, 18, 21, 15, 10, 16, 21, 21, 16, 15, 23, 1, 21, 16, 21, 14, 10, 16, 23, 22, 15, 16, 4, 17, 23, 2, 21, 20, 23, 17, 22, 21, 16, 18, 22, 5, 19, 16, 21, 8, 21, 18, 23, 21, 16, 20, 3, 22, 21, 0, 16, 1, 18, 21, 22, 24, 8, 23, 21, 12, 23, 21, 16, 21, 21, 21, 22, 21, 21, 21, 21, 21, 18, 23, 22, 21, 21, 16, 16, 21, 16, 22, 21, 21, 23, 13, 16, 21, 21, 10, 24, 23, 22, 21, 23, 20, 18, 15, 22, 20, 20, 21, 18, 8, 17, 21, 22, 21, 18, 24, 15, 0, 12, 21, 16, 20, 4, 21, 16, 2, 21, 21, 22, 12, 23, 21, 22, 16, 20, 16, 22, 23, 22, 21, 12, 21, 16, 13, 12, 11, 21, 17, 16, 23, 21, 24, 18, 12, 14, 0, 2, 23, 15, 21, 20, 14, 21, 11, 12, 21, 21, 22, 21, 2, 21, 12, 16, 23, 23, 21, 16, 15, 24, 21, 16, 21, 21, 8, 21, 23, 21, 21, 24, 18, 3, 19, 15, 2, 21, 20, 17, 21, 12, 21, 23, 10, 23, 21, 21, 21, 21, 23, 20, 21, 21, 15, 21, 22, 17, 21, 12, 16, 2, 21, 21, 21, 21, 12, 14, 21, 7, 21, 21, 14, 21, 21, 21, 7, 10, 23, 14, 10, 21, 14, 2, 2, 15, 10, 21, 3, 14, 23, 21, 21, 23, 21, 21, 6, 24, 21, 21, 21, 22, 12, 12, 23, 21, 16, 16, 16, 21, 21, 2, 22, 23, 21, 22, 21, 23, 15, 20, 10, 0, 23, 20, 21, 21, 16, 21, 22, 21, 13, 21, 23, 21, 21, 21, 1, 21, 18, 21, 22, 2, 8, 16, 21, 12, 23, 22, 23, 21, 16, 23, 18, 11, 23, 21, 21, 21, 23, 21, 21, 2, 16, 2, 16, 21, 21, 23, 21, 23, 21, 21, 24, 21, 23, 21, 16, 1, 16, 23, 16, 21, 21, 3, 8, 21, 5, 21, 21, 21, 3, 21, 21, 23, 16, 14, 21, 10, 24, 21, 21, 3, 16, 12, 21, 19, 17, 16, 16, 14, 21, 21, 21, 23, 16, 23, 21, 17, 23, 24, 23, 21, 22, 4, 16, 21, 21, 22, 22, 16, 22, 22, 10, 23, 16, 17, 11, 16, 2, 16, 16, 21, 21, 21, 1, 24, 23, 21, 5, 16, 14, 4, 14, 22, 21, 8, 14, 18, 16, 16, 23, 21, 22, 19, 2, 21, 21, 6, 21, 21, 3, 21, 16, 21, 22, 14, 21, 21, 23, 5, 21, 12, 19, 21, 21, 21, 24, 21, 10, 2, 21, 23, 24, 21, 21, 21, 21, 21, 16, 23, 21, 21, 24, 21, 23, 21, 24, 21, 23, 23, 21, 21, 21, 21, 21, 15, 21, 23, 3, 22, 0, 21, 3, 21, 16, 14, 23, 0, 23, 24, 21, 21, 11, 22, 16, 21, 21, 21, 21, 2, 21, 21, 21, 21, 16, 21, 23, 12, 16, 23, 21, 21, 10, 8, 18, 11, 15, 16, 21, 21, 23, 23, 6, 17, 16, 21, 23, 23, 23, 20, 21, 21, 8, 21, 14, 2, 17, 7, 16, 1, 21, 15, 21, 21, 2, 14, 2, 16, 21, 22, 22, 21, 17, 1, 22, 21, 16, 21, 21, 16, 21, 21, 15, 2, 21, 21, 10, 14, 21, 21, 18, 21, 21, 20, 14, 10, 23, 16, 16, 21, 21, 10, 21, 21, 23, 21, 23, 16, 21, 16, 16, 22, 16, 21, 21, 22, 23, 11, 20, 22, 20, 1, 24, 17, 22, 21, 21, 23, 21, 21, 23, 16, 16, 23, 21, 16, 20, 21, 21, 16, 21, 19, 22, 24, 20, 17, 16, 7, 21, 16, 24, 18, 22, 22, 23, 21, 15, 21, 23, 21, 16, 22, 21, 21, 21, 24, 21, 21, 22, 21, 22, 21, 21, 21, 16, 22, 11, 11, 18, 20, 16, 21, 23, 23, 21, 21, 21, 21, 10, 23, 1, 21, 15, 14, 21, 21, 13, 18, 21, 21, 21, 23, 5, 16, 21, 14, 23, 21, 21, 21, 18, 21, 21, 16, 20, 18, 16, 19, 21, 17, 6, 21, 23, 10, 11, 23, 21, 2, 21, 3, 16, 21, 23, 22, 2, 22, 2, 21, 21, 23, 21, 21, 23, 22, 21, 2, 24, 21, 18, 21, 2, 12, 21, 22, 16, 22, 20, 21, 21, 14, 1, 12, 21, 3, 24, 21, 21, 21, 22, 21, 14, 12, 23, 22, 12, 23, 16, 23, 21, 20, 16, 16, 21, 21, 21, 21, 23, 11, 23, 20, 21, 3, 21, 23, 21, 21, 11, 14, 21, 24, 21, 21, 22, 22, 12, 21, 21, 21, 21, 21, 16, 21, 4, 16, 1, 21, 6, 21, 21, 21, 21, 14, 21, 2, 21, 20, 21, 21, 21, 14, 23, 16, 16, 21, 22, 5, 23, 10, 24, 21, 16, 23, 14, 21, 14, 3, 21, 3, 21, 14, 23, 6, 22, 21, 11, 21, 13, 21, 21, 12, 21, 21, 15, 16, 16, 21, 23, 21, 21, 16, 12, 21, 21, 16, 12, 21, 21, 21, 14, 16, 16, 16, 22, 18, 21, 21, 21, 21, 16, 21, 21, 3, 16, 11, 21, 23, 20, 24, 16, 16, 22, 21, 16, 21, 21, 14, 15, 21, 21, 21, 22, 16, 24, 21, 8, 5, 21, 21, 21, 21, 1, 21, 21, 21, 10, 1, 11, 21, 14, 16, 12, 20, 22, 23, 21, 21, 16, 14, 23, 16, 20, 21, 14, 12, 23, 12, 23, 24, 14, 23, 21, 14, 5, 22, 21, 12, 22, 21, 21, 12, 21, 21, 21, 24, 16, 14, 21, 24, 16, 16, 2, 14, 21, 12, 24, 5, 21, 12, 24, 21, 14, 1, 11, 21, 21, 17, 2, 21, 12, 2, 21, 23, 23, 21, 2, 22, 21, 19, 21, 21, 16, 21, 16, 21, 15, 21, 12, 7, 12, 21, 22, 14, 3, 11, 16, 20, 21, 23, 21, 0, 1, 16, 12, 22, 21, 17, 7, 21, 23, 21, 21, 6, 23, 18, 11, 24, 16, 16, 14, 17, 21, 23, 21, 23, 21, 21, 16, 8, 21, 21, 3, 3, 23, 3, 21, 23, 21, 19, 22, 16, 21, 21, 2, 21, 14, 21, 21, 22, 21, 12, 16, 22, 21, 14, 22, 14, 23, 16, 12, 15, 21, 11, 23, 14, 13, 14, 22, 16, 21, 14, 22, 21, 23, 21, 22, 23, 16, 16, 22, 21, 6, 21, 23, 21, 21, 14, 8, 16, 21, 12, 21, 21, 21, 2, 7, 20, 22, 21, 21, 16, 21, 21, 8, 5, 20, 23, 15, 15, 22, 21, 16, 22, 21, 21, 21, 23, 20, 3, 1, 4, 21, 16, 11, 5, 21, 21, 21, 16, 21, 21, 12, 21, 12, 8, 23, 23, 23, 21, 21, 21, 21, 16, 21, 14, 21, 21, 21, 12, 16, 10, 21, 21, 21, 21, 21, 23, 16, 21, 23, 23, 21, 21, 21, 16, 21, 22, 21, 23, 5, 16, 15, 16, 22, 21, 24, 21, 16, 21, 24, 14, 2, 23, 21, 14, 5, 16, 15, 11, 5, 16, 3, 21, 1, 21, 14, 23, 21, 22, 23, 21, 16, 24, 15, 21, 16, 22, 21, 21, 14, 14, 16, 21, 23, 21, 16, 22, 7, 14, 16, 21, 21, 22, 21, 21, 21, 21, 16, 20, 16, 24, 16, 21, 21, 22, 21, 23, 21, 16, 21, 21, 11, 16, 12, 21, 23, 17, 21, 21, 16, 21, 11, 12, 17, 20, 23, 21, 10, 21, 16, 22, 16, 23, 21, 21, 21, 16, 20, 16, 23, 22, 21, 3, 22, 0, 23, 11, 16, 21, 23, 21, 12, 21, 16, 23, 15, 21, 21, 21, 21, 23, 21, 21, 7, 23, 23, 23, 16, 21, 21, 12, 21, 8, 21, 20, 16, 4, 21, 11, 22, 21, 3, 20, 21, 21, 21, 23, 21, 18, 16, 16, 14, 14, 0, 6, 16, 22, 22, 18, 14, 21, 21, 21, 21, 22, 10, 21, 21, 20, 21, 21, 12, 17, 16, 5, 22, 17, 15, 3, 21, 0, 16, 21, 21, 16, 21, 19, 20, 8, 23, 14, 21, 1, 21, 24, 21, 24, 3, 6, 21, 21, 14, 22, 11, 23, 12, 21, 23, 6, 22, 0, 2, 12, 20, 21, 17, 16, 23, 21, 16, 3, 23, 16, 6, 22, 19, 22, 23, 8, 23, 21, 21, 23, 2, 21, 23, 17, 21, 23, 10, 21, 21, 18, 21, 16, 23, 21, 20, 2, 23, 21, 21, 16, 23, 21, 23, 21, 12, 21, 23, 20, 7, 22, 16, 21, 21, 15, 11, 17, 2, 15, 20, 14, 2, 4, 16, 21, 21, 21, 20, 16, 23, 23, 21, 24, 22, 24, 11, 0, 15, 21, 2, 18, 21, 21, 21, 22, 6, 12, 21, 22, 21, 16, 6, 21, 21, 8, 15, 20, 21, 16, 21, 14, 10, 21, 7, 5, 22, 21, 12, 21, 16, 22, 21, 21, 21, 18, 11, 21, 21, 16, 2, 16, 3, 24, 2, 21, 21, 17, 23, 21, 21, 21, 14, 21, 21, 21, 21, 21]\n",
      "Tempo de execução: 14007.823538 segundos\n",
      "O valor do RMSE é: 11.673809718054056.\n"
     ]
    }
   ],
   "source": [
    "result_20000, rmse_20000 = knn_mahalanobis(20000)"
   ]
  },
  {
   "cell_type": "code",
   "execution_count": null,
   "metadata": {},
   "outputs": [],
   "source": [
    "def knn_euclidian(tam_amostra):\n",
    "    start_time = time.time()\n",
    "    X_train, X_test, y_train, y_test = get_x_y(tam_amostra)\n",
    "    result = knn(X_train, X_test, y_train, S = 0, type=\"euclidiana\")\n",
    "    end_time = time.time()\n",
    "    print(f\"Tempo de execução: {end_time - start_time:.6f} segundos\")\n",
    "    rmse = calculo_rmse(result, y_test)\n",
    "    print(f\"O valor do RMSE é: {rmse}.\")\n",
    "    return result, rmse"
   ]
  },
  {
   "cell_type": "code",
   "execution_count": null,
   "metadata": {},
   "outputs": [
    {
     "name": "stdout",
     "output_type": "stream",
     "text": [
      "[11, 19, 6, 14, 22, 22, 19, 14, 8, 6, 11, 6, 11, 20, 15, 2, 2, 0, 19, 18, 7, 23, 21, 16, 5, 23, 20, 2, 20, 8, 11, 16, 21, 11, 14, 16, 3, 4, 19, 13, 7, 11, 1, 0, 6, 21, 15, 19, 4, 16, 8, 14, 21, 3, 11, 22, 14, 0, 0, 2, 4, 12, 23, 10, 11, 12, 3, 19, 15, 21, 10, 5, 24, 20, 21, 5, 12, 13, 3, 21, 5, 21, 16, 11, 19, 20, 19, 0, 11, 10, 20, 8, 20, 11, 14, 20, 20, 12, 23, 15, 15, 0, 23, 23, 10, 18, 20, 23, 10, 3, 22, 3, 20, 0, 19, 19, 4, 23, 10, 24, 17, 16, 13, 15, 11, 16, 16, 19, 8, 11, 15, 4, 4, 4, 23, 8, 22, 5, 23, 18, 19, 16, 10, 15, 15, 6, 15, 20, 24, 24, 20, 18, 0, 11, 14, 0, 16, 15, 11, 21, 14, 23, 16, 14, 4, 22, 7, 3, 6, 0, 18, 6, 24, 18, 0, 24, 15, 6, 18, 3, 7, 21, 7, 4, 0, 1, 21, 22, 21, 3, 20, 20, 8, 20, 1, 14, 13, 20, 1, 8, 0, 13, 15, 13, 6, 3, 21, 6, 21, 22, 7, 0, 12, 4, 10, 19, 1, 4, 14, 3, 20, 22, 0, 2, 14, 4, 18, 11, 14, 16, 11, 19, 4, 6, 14, 23, 21, 3, 8, 2, 13, 4, 16, 17, 15, 5, 15, 2, 23, 14, 14, 7, 18, 11, 18, 8, 12, 8, 2, 5, 20, 18, 14, 15, 6, 4, 21, 21, 10, 6, 16, 21, 22, 12, 4, 14, 2, 3, 18, 2, 18, 16, 3, 20, 5, 3, 16, 20, 10, 2, 18, 0, 6, 10, 23, 23, 18, 8, 10, 21]\n",
      "Tempo de execução: 43.460651 segundos\n",
      "O valor do RMSE é: 9.938980497683518.\n"
     ]
    }
   ],
   "source": [
    "result_1000_euclidian, rmse_1000_euclidian = knn_euclidian(1000)"
   ]
  },
  {
   "cell_type": "code",
   "execution_count": null,
   "metadata": {},
   "outputs": [
    {
     "name": "stdout",
     "output_type": "stream",
     "text": [
      "[3, 7, 6, 18, 17, 17, 21, 18, 22, 5, 5, 10, 0, 12, 4, 5, 2, 0, 19, 24, 16, 12, 11, 16, 17, 23, 5, 20, 20, 8, 2, 16, 21, 11, 18, 16, 3, 15, 19, 13, 10, 5, 5, 21, 20, 21, 20, 0, 4, 16, 8, 7, 11, 11, 22, 17, 10, 15, 0, 19, 1, 12, 23, 22, 14, 13, 22, 22, 10, 21, 17, 7, 24, 14, 21, 5, 19, 2, 3, 21, 5, 14, 2, 14, 24, 15, 16, 18, 0, 22, 2, 17, 20, 15, 23, 20, 20, 6, 6, 11, 2, 0, 5, 10, 15, 16, 0, 12, 17, 21, 19, 4, 19, 0, 17, 6, 22, 8, 8, 2, 12, 22, 17, 15, 5, 16, 2, 24, 8, 11, 24, 10, 4, 15, 3, 11, 17, 15, 23, 16, 19, 19, 10, 15, 7, 6, 4, 11, 21, 24, 10, 18, 8, 1, 14, 0, 16, 10, 10, 21, 21, 23, 21, 14, 22, 18, 18, 12, 22, 19, 11, 6, 24, 18, 5, 24, 15, 10, 2, 18, 10, 23, 21, 15, 0, 23, 21, 17, 0, 3, 16, 20, 14, 20, 5, 1, 19, 23, 17, 22, 21, 12, 5, 19, 6, 18, 5, 18, 21, 0, 7, 0, 11, 14, 10, 5, 5, 4, 23, 2, 18, 2, 0, 1, 14, 23, 13, 13, 22, 3, 22, 10, 22, 20, 0, 5, 1, 11, 0, 6, 24, 4, 16, 8, 22, 17, 10, 5, 23, 22, 15, 15, 18, 20, 18, 8, 8, 11, 16, 5, 2, 22, 13, 3, 23, 8, 21, 21, 17, 21, 3, 7, 16, 23, 10, 23, 2, 4, 22, 12, 14, 1, 10, 20, 22, 21, 16, 16, 10, 2, 18, 23, 15, 10, 23, 1, 18, 8, 17, 21, 11, 2, 22, 14, 11, 2, 22, 17, 8, 20, 6, 0, 10, 16, 3, 18, 0, 8, 21, 8, 5, 5, 0, 19, 2, 16, 22, 13, 23, 16, 5, 4, 2, 23, 1, 21, 21, 20, 17, 19, 15, 13, 10, 23, 14, 15, 14, 2, 24, 6, 8, 3, 12, 7, 18, 7, 20, 6, 14, 20, 10, 15, 11, 17, 20, 13, 11, 22, 0, 20, 17, 18, 2, 6, 16, 22, 22, 12, 10, 14, 20, 23, 1, 11, 20, 2, 11, 20, 11, 2, 22, 21, 11, 17, 1, 16, 3, 10, 16, 15, 16, 16, 11, 14, 10, 18, 17, 22, 21, 19, 6, 14, 10, 0, 18, 21, 5, 16, 11, 1, 18, 17, 14, 0, 22, 13, 2, 11, 16, 19, 6, 0, 5, 17, 11, 16, 14, 24, 5, 2, 3, 7, 17, 20, 13, 20, 10, 22, 4, 16, 12, 2, 22, 11, 0, 20, 16, 24, 11, 14, 11, 14, 22, 3, 11, 11, 16, 17, 14, 24, 16, 13, 17, 17, 18, 15, 15, 3, 2, 5, 0, 19, 3, 20, 13, 8, 10, 13, 6, 22, 15, 6, 14, 22, 10, 20, 19, 17, 17, 0, 13, 20, 3, 20, 12, 19, 2, 16, 17, 20, 18, 17, 23, 17, 6, 5, 14, 18, 1, 15, 24, 14, 24, 14, 21, 0, 22, 20, 23, 0, 14, 18, 23, 21, 1, 14, 2, 23, 3, 0, 1, 18, 15, 13, 22, 4, 0, 18, 18, 22, 19, 7, 23, 8, 21, 24, 15, 5, 8, 2, 5, 14, 4, 3, 0, 7, 15, 24, 10, 13, 10, 5, 6, 4, 16, 15, 24, 2, 19, 6, 17, 8, 1, 17, 0, 14, 20, 23, 20, 20, 15, 10, 22, 8, 14, 22, 19, 20, 13, 22, 15, 3, 11, 17, 14, 24, 16, 7, 18, 18, 15, 20, 12, 18, 1, 23, 12, 18, 22, 0, 19, 8, 7, 7, 8, 16, 5, 23, 1, 15, 10, 8, 1, 5, 10, 2, 5, 6, 16, 11, 18, 2, 24, 18, 13, 23, 10, 23, 6, 0, 10, 19, 2, 16, 22, 5, 15, 3, 13, 15, 20, 4, 16, 14, 14, 18, 1, 24, 13, 2, 2, 1, 6, 17, 20, 18, 15, 4, 18, 11, 8, 2, 2, 22, 18, 8, 20, 24, 16, 6, 7, 8, 23, 6, 14, 10, 14, 19, 8, 16, 3, 11, 5, 5, 7, 1, 4, 5, 21, 8, 19, 16, 21, 1, 16, 8, 18, 11, 5, 22, 17, 4, 16, 11, 20, 11, 15, 20, 17, 22, 0, 22, 17, 21, 8, 2, 6, 13, 4, 19, 12, 23, 17, 2, 22, 19, 12, 10, 10, 11, 15, 12, 1, 11, 24, 2, 6, 13, 22, 15, 16, 5, 5, 0, 15, 22, 21, 24, 24, 4, 13, 18, 12, 23, 0, 17, 2, 6, 6, 19, 19, 7, 2, 17, 6, 14, 15, 10, 6, 12, 17, 8, 22, 5, 4, 23, 17, 10, 21, 21, 23, 7, 2, 13, 24, 13, 10, 3, 14, 1, 17, 11, 1, 10, 2, 7, 0, 7, 20, 24, 18, 21, 7, 15, 24, 24, 5, 20, 15, 22, 6, 14, 20, 19, 15, 8, 17, 16, 19, 11, 13, 15, 0, 19, 8, 14, 5, 2, 24, 22, 18, 1, 17, 22, 5, 0, 14, 2, 1, 16, 24, 23, 20, 1, 13, 21, 10, 16, 15, 20, 16, 19, 6, 22, 11, 1, 8, 16, 21, 20, 10, 24, 5, 0, 4, 16, 5, 15, 3, 8, 10, 7, 19, 24, 10, 4, 22, 5, 6, 2]\n",
      "Tempo de execução: 361.831469 segundos\n",
      "O valor do RMSE é: 10.384015493910715.\n"
     ]
    }
   ],
   "source": [
    "result_3000_euclidian, rmse_3000_euclidian = knn_euclidian(3000)"
   ]
  },
  {
   "cell_type": "code",
   "execution_count": null,
   "metadata": {},
   "outputs": [
    {
     "name": "stdout",
     "output_type": "stream",
     "text": [
      "[3, 2, 6, 18, 17, 17, 21, 18, 22, 5, 20, 10, 8, 24, 4, 5, 2, 0, 12, 24, 16, 12, 3, 16, 17, 23, 10, 20, 3, 8, 2, 20, 1, 11, 18, 16, 3, 15, 19, 13, 10, 5, 10, 21, 20, 21, 10, 0, 2, 17, 6, 0, 17, 11, 22, 17, 21, 17, 3, 19, 2, 12, 3, 12, 14, 3, 22, 0, 10, 21, 7, 7, 24, 14, 12, 17, 0, 2, 3, 16, 5, 14, 11, 14, 24, 12, 16, 24, 0, 12, 2, 17, 3, 19, 8, 23, 23, 8, 6, 11, 1, 11, 1, 10, 15, 16, 0, 17, 7, 11, 19, 23, 16, 11, 17, 14, 3, 8, 18, 2, 13, 22, 3, 15, 5, 21, 11, 24, 8, 11, 24, 10, 4, 15, 3, 3, 17, 15, 18, 16, 19, 19, 19, 15, 7, 7, 24, 11, 21, 3, 1, 0, 8, 16, 14, 11, 16, 24, 10, 21, 8, 2, 20, 14, 22, 18, 18, 12, 11, 19, 11, 6, 24, 11, 18, 17, 15, 10, 2, 23, 10, 3, 21, 15, 0, 19, 21, 17, 0, 3, 16, 23, 10, 21, 5, 1, 17, 23, 17, 22, 19, 12, 5, 3, 4, 3, 5, 18, 21, 0, 7, 0, 11, 14, 10, 5, 5, 2, 23, 1, 11, 2, 0, 1, 12, 23, 13, 13, 22, 3, 22, 10, 22, 24, 0, 5, 1, 11, 0, 6, 3, 1, 16, 8, 13, 17, 10, 5, 3, 22, 13, 24, 18, 20, 18, 1, 16, 11, 18, 7, 2, 6, 13, 3, 23, 1, 21, 21, 7, 21, 3, 7, 16, 24, 10, 17, 18, 4, 11, 12, 2, 1, 10, 20, 22, 11, 16, 3, 10, 18, 18, 23, 15, 23, 23, 10, 18, 1, 17, 4, 11, 16, 22, 19, 19, 3, 22, 17, 8, 20, 4, 0, 10, 11, 3, 18, 17, 14, 20, 1, 14, 5, 0, 19, 11, 3, 22, 13, 23, 22, 5, 4, 2, 23, 19, 21, 21, 18, 13, 24, 4, 6, 18, 5, 11, 15, 14, 12, 24, 6, 8, 3, 12, 11, 0, 7, 3, 6, 14, 20, 18, 15, 11, 17, 20, 13, 11, 22, 0, 20, 17, 18, 12, 14, 16, 22, 22, 12, 10, 14, 20, 2, 1, 11, 20, 8, 16, 20, 11, 3, 22, 21, 17, 7, 1, 24, 3, 10, 18, 21, 16, 12, 5, 1, 10, 18, 17, 22, 21, 19, 6, 5, 10, 8, 18, 21, 16, 21, 18, 1, 18, 17, 14, 8, 1, 13, 2, 11, 16, 19, 22, 0, 5, 17, 16, 16, 21, 24, 18, 2, 12, 3, 2, 20, 13, 20, 10, 22, 1, 16, 12, 2, 22, 3, 12, 20, 3, 10, 11, 24, 11, 14, 7, 5, 11, 7, 21, 13, 1, 24, 18, 21, 17, 14, 18, 2, 15, 10, 2, 5, 0, 17, 17, 20, 21, 8, 3, 13, 1, 22, 23, 6, 17, 22, 10, 20, 19, 17, 17, 0, 13, 20, 24, 12, 12, 19, 8, 3, 17, 7, 21, 17, 23, 17, 6, 5, 14, 18, 1, 23, 24, 6, 24, 14, 21, 0, 22, 20, 10, 0, 14, 10, 7, 17, 1, 13, 3, 24, 7, 0, 1, 18, 23, 13, 22, 15, 0, 18, 12, 22, 19, 7, 23, 3, 21, 11, 15, 5, 8, 2, 15, 14, 4, 10, 0, 7, 2, 24, 10, 13, 10, 18, 4, 4, 3, 15, 2, 2, 11, 7, 7, 6, 1, 17, 20, 14, 20, 8, 11, 11, 15, 10, 0, 19, 14, 22, 19, 20, 21, 22, 23, 3, 3, 17, 14, 24, 16, 7, 18, 14, 15, 18, 8, 18, 0, 16, 16, 2, 0, 0, 1, 8, 7, 3, 8, 22, 5, 15, 1, 6, 3, 8, 1, 5, 10, 2, 5, 1, 16, 16, 18, 18, 24, 18, 1, 23, 10, 14, 15, 0, 15, 19, 11, 7, 12, 5, 20, 3, 13, 15, 6, 4, 16, 14, 14, 18, 1, 24, 5, 11, 2, 1, 6, 18, 20, 18, 15, 4, 18, 11, 8, 2, 2, 22, 18, 8, 20, 6, 16, 20, 7, 8, 17, 6, 21, 18, 14, 12, 22, 6, 3, 5, 5, 21, 7, 1, 4, 5, 21, 8, 19, 16, 23, 0, 16, 8, 18, 11, 5, 14, 17, 4, 16, 19, 11, 12, 14, 20, 17, 12, 0, 11, 17, 21, 18, 2, 7, 13, 4, 19, 12, 23, 17, 2, 16, 19, 12, 10, 10, 11, 15, 12, 11, 17, 24, 3, 6, 8, 2, 23, 16, 5, 3, 0, 2, 22, 21, 24, 24, 1, 13, 3, 12, 23, 20, 13, 2, 4, 15, 19, 19, 7, 16, 17, 20, 14, 15, 10, 6, 5, 17, 8, 22, 5, 4, 23, 17, 13, 17, 21, 23, 4, 2, 11, 7, 13, 10, 3, 14, 1, 22, 11, 1, 10, 2, 7, 23, 24, 23, 24, 23, 21, 12, 12, 24, 24, 2, 20, 15, 3, 6, 14, 16, 12, 15, 6, 17, 3, 19, 7, 13, 17, 0, 19, 8, 14, 5, 20, 24, 16, 11, 0, 17, 22, 5, 0, 14, 23, 17, 16, 6, 6, 6, 1, 13, 17, 10, 18, 20, 6, 16, 19, 6, 2, 11, 4, 8, 11, 21, 24, 10, 2, 16, 0, 2, 16, 5, 15, 3, 8, 6, 7, 11, 2, 10, 4, 22, 21, 22, 11, 1, 12, 19, 16, 12, 17, 22, 17, 6, 23, 24, 16, 18, 16, 8, 10, 23, 16, 2, 1, 7, 1, 1, 21, 7, 0, 0, 3, 2, 8, 2, 6, 11, 23, 12, 15, 2, 18, 12, 20, 18, 11, 24, 17, 6, 8, 0, 24, 12, 1, 18, 8, 13, 12, 22, 7, 19, 0, 15, 20, 20, 10, 8, 23, 1, 17, 2, 5, 8, 13, 7, 3, 1, 1, 6, 19, 21, 8, 17, 6, 6, 0, 1, 18, 0, 11, 8, 14, 21, 23, 15, 11, 23, 12, 0, 20, 19, 14, 15, 22, 14, 7, 21, 2, 8, 14, 8, 24, 24, 11, 17, 11, 1, 10, 13, 19, 3, 20, 21, 10, 11, 14, 8, 5, 7, 12, 24, 3, 23, 14, 7, 0, 8, 12, 6, 20, 23, 15, 24, 1, 1, 5, 8, 20, 6, 24, 11, 16, 16, 16, 8, 21, 16, 7, 16, 21, 17, 4, 23, 13, 24, 20, 2, 11, 3, 24, 16, 5, 5, 6, 24, 12, 3, 0, 10, 10, 8, 11, 23, 14, 1, 0, 1, 14, 4, 23, 18, 16, 14, 11, 22, 15, 21, 17, 15, 21, 1, 3, 24, 5, 24, 20, 2, 12, 14, 23, 8, 24, 8, 5, 7, 14, 23, 2, 17, 5, 5, 14, 23, 2, 18, 10, 3, 0, 11, 20, 6, 7, 15, 22, 11, 2, 1, 13, 14, 2, 13, 19, 22, 24, 17, 19, 21, 20, 13, 16, 8, 2, 6, 5, 15, 14, 23, 2, 4, 17, 15, 17, 21, 14, 12, 18, 4, 18, 23, 2, 10, 13, 15, 24, 24, 7, 17, 22, 3, 2, 21, 14, 10, 20, 14, 17, 20, 16, 0, 14, 13, 2, 5, 14, 14, 12, 23, 15, 6, 12, 20, 4, 0, 22, 17, 20, 13, 8, 7, 20, 1, 11, 13, 17, 14, 2, 22, 12, 16, 22, 15, 12, 24, 13, 17, 14, 17, 15, 21, 6, 12, 17, 5, 18, 11, 5, 21, 3, 1, 13, 13, 10, 14, 6, 6, 19, 20, 17, 17, 22, 7, 3, 22, 16, 21, 17, 13, 2, 18, 21, 14, 3, 4, 23, 3, 0, 8, 1, 5, 0, 5, 10, 5, 21, 1, 0, 10, 21, 23, 20, 20, 11, 16, 14, 24, 17, 11, 2, 11, 5, 1, 2, 18, 14, 5, 14, 12, 23, 1, 22, 15, 22, 5, 13, 2, 14, 22, 14, 5, 11, 3, 22, 1, 5, 7, 11, 23, 18, 21, 0, 23, 19, 4, 22, 4, 16, 5, 22, 14, 24, 20, 1, 0, 6, 8, 11, 11, 11, 24, 6, 6, 11, 1, 16, 14, 21, 3, 20, 7, 16, 14, 15, 11, 16, 16, 0, 2, 17, 5, 12, 11, 4, 7, 3, 18, 14, 10, 20, 10, 20, 1, 5, 18, 4, 6, 23, 8, 24, 7, 1, 0, 24, 18, 3, 23, 8, 21, 2, 16, 12, 6, 6, 20, 16, 2, 12, 24, 0, 2, 6, 3, 19, 12, 7, 19, 19, 14, 14, 5, 5, 13, 18, 23, 14, 24, 17, 14, 12, 3, 3, 11, 5, 3, 22, 8, 16, 5, 17, 8, 6, 21, 23, 7, 16, 15, 13, 18, 5, 5, 14, 3, 3, 17, 1, 0, 3, 12, 4, 24, 21, 12, 1, 5, 19, 7, 15, 18, 22, 10, 14, 3, 13, 17, 3, 3, 16, 15, 8, 1, 17, 23, 23, 24, 3, 13, 18, 16, 20, 23, 0, 11, 13, 4, 17, 18, 0, 17, 14, 10, 3, 8, 23, 18, 23, 21, 0, 3, 4, 21, 24, 20, 12, 17, 10]\n",
      "Tempo de execução: 957.715764 segundos\n",
      "O valor do RMSE é: 10.384700284553233.\n"
     ]
    }
   ],
   "source": [
    "result_5000_euclidian, rmse_5000_euclidian = knn_euclidian(5000)"
   ]
  },
  {
   "cell_type": "code",
   "execution_count": 171,
   "metadata": {},
   "outputs": [],
   "source": [
    "def knn_all(X_train, X_test, y_train, y_test):\n",
    "    start_time = time.time()\n",
    "    S = calculo_matriz_S(X_train, X_test)\n",
    "    result = knn(X_train, X_test, y_train, S, type=\"mahalanobis\")\n",
    "    end_time = time.time()\n",
    "    print(f\"Tempo de execução: {end_time - start_time:.6f} segundos\")\n",
    "    rmse = calculo_rmse(result, y_test)\n",
    "    print(f\"O valor do RMSE é: {rmse}.\")\n",
    "    return result, rmse"
   ]
  },
  {
   "cell_type": "code",
   "execution_count": 158,
   "metadata": {},
   "outputs": [],
   "source": [
    "X_train_all, X_test_all, y_train_all, y_test_all = get_all_data()"
   ]
  },
  {
   "cell_type": "code",
   "execution_count": 173,
   "metadata": {},
   "outputs": [
    {
     "name": "stdout",
     "output_type": "stream",
     "text": [
      "[3, 18, 12, 2, 12, 7, 23, 18, 18, 20, 15, 13, 20, 24, 5, 5, 14, 0, 8, 2, 11, 13, 22, 2, 4, 10, 12, 17, 19, 16, 2, 17, 5, 8, 4, 16, 3, 24, 3, 8, 4, 15, 20, 3, 19, 21, 10, 16, 2, 14, 12, 18, 18, 20, 19, 5, 21, 5, 5, 15, 2, 18, 3, 8, 14, 19, 21, 17, 10, 24, 20, 3, 0, 13, 13, 12, 4, 5, 6, 18, 21, 14, 20, 11, 17, 18, 19, 8, 18, 8, 17, 16, 5, 2, 17, 14, 14, 19, 17, 7, 12, 14, 8, 15, 1, 17, 18, 20, 20, 15, 19, 13, 21, 16, 16, 5, 4, 8, 1, 16, 23, 22, 3, 6, 5, 2, 20, 14, 8, 18, 19, 20, 4, 22, 19, 3, 23, 21, 21, 17, 0, 19, 4, 15, 23, 0, 5, 20, 21, 13, 13, 17, 15, 10, 23, 24, 2, 13, 17, 4, 4, 19, 18, 3, 11, 23, 18, 5, 20, 16, 18, 4, 21, 24, 1, 17, 15, 22, 5, 0, 15, 24, 23, 7, 0, 14, 4, 14, 8, 17, 16, 3, 12, 21, 12, 24, 14, 4, 17, 5, 0, 13, 20, 22, 11, 7, 18, 4, 4, 0, 7, 0, 21, 7, 22, 0, 12, 2, 10, 14, 10, 23, 8, 18, 1, 22, 1, 11, 21, 21, 19, 6, 10, 16, 19, 12, 2, 1, 24, 24, 15, 10, 23, 5, 20, 13, 5, 23, 3, 22, 22, 3, 16, 19, 20, 1, 4, 7, 23, 1, 0, 6, 13, 19, 0, 13, 21, 4, 20, 15, 3, 10, 18, 22, 5, 11, 23, 19, 21, 12, 16, 4, 14, 20, 21, 14, 1, 8, 19, 23, 20, 4, 3, 14, 10, 10, 16, 12, 1, 12, 8, 7, 22, 21, 20, 22, 22, 12, 15, 6, 11, 17, 1, 18, 24, 22, 7, 20, 3, 12, 14, 21, 22, 19, 5, 16, 5, 10, 21, 13, 0, 4, 10, 15, 24, 8, 13, 2, 10, 1, 4, 21, 18, 23, 10, 16, 16, 20, 1, 24, 12, 13, 14, 16, 22, 7, 19, 19, 14, 19, 1, 2, 15, 19, 1, 4, 1, 7, 24, 13, 13, 12, 5, 3, 3, 16, 0, 12, 12, 6, 14, 21, 1, 21, 20, 4, 23, 2, 4, 3, 8, 21, 21, 20, 18, 8, 10, 24, 5, 2, 10, 13, 11, 24, 18, 24, 1, 7, 3, 0, 16, 15, 18, 13, 16, 21, 10, 22, 0, 19, 20, 2, 3, 4, 1, 14, 13, 23, 7, 24, 11, 19, 24, 16, 23, 16, 1, 2, 23, 2, 12, 6, 10, 21, 13, 2, 24, 10, 15, 17, 12, 20, 17, 3, 21, 14, 16, 16, 24, 2, 4, 4, 24, 2, 8, 10, 2, 17, 1, 21, 20, 12, 5, 22, 4, 17, 7, 15, 7, 19, 0, 15, 8, 20, 15, 13, 24, 5, 16, 11, 2, 12, 17, 5, 14, 13, 13, 15, 16, 19, 13, 18, 24, 18, 12, 16, 3, 3, 2, 8, 2, 12, 15, 4, 16, 0, 2, 5, 22, 22, 19, 3, 23, 16, 18, 0, 1, 20, 24, 14, 23, 8, 7, 7, 21, 8, 22, 24, 18, 7, 11, 24, 22, 0, 22, 23, 16, 16, 2, 21, 11, 17, 24, 17, 3, 1, 2, 23, 16, 22, 15, 18, 4, 12, 18, 21, 10, 16, 15, 5, 15, 1, 11, 4, 8, 18, 2, 2, 15, 0, 20, 12, 18, 18, 6, 2, 3, 2, 0, 0, 3, 18, 4, 14, 16, 22, 13, 2, 10, 18, 22, 3, 3, 23, 16, 23, 13, 7, 20, 14, 15, 11, 0, 13, 14, 21, 19, 8, 17, 7, 2, 8, 13, 6, 2, 13, 21, 15, 0, 10, 8, 8, 5, 12, 10, 16, 0, 16, 14, 23, 23, 18, 24, 16, 12, 21, 11, 11, 6, 13, 3, 16, 16, 7, 8, 24, 6, 2, 14, 17, 6, 4, 20, 8, 7, 16, 19, 14, 23, 22, 2, 16, 14, 1, 17, 18, 7, 11, 18, 11, 7, 12, 24, 6, 16, 8, 20, 16, 17, 0, 17, 2, 11, 12, 1, 8, 14, 8, 11, 6, 3, 2, 5, 21, 3, 1, 8, 5, 16, 21, 19, 16, 24, 14, 16, 5, 13, 0, 11, 23, 23, 4, 15, 20, 12, 18, 5, 21, 16, 8, 16, 3, 14, 14, 18, 0, 15, 6, 16, 10, 23, 10, 7, 22, 21, 15, 12, 22, 14, 11, 15, 22, 15, 12, 16, 12, 14, 17, 1, 14, 11, 17, 4, 12, 10, 22, 2, 10, 8, 10, 13, 15, 18, 23, 8, 10, 20, 19, 6, 22, 23, 7, 16, 15, 18, 21, 2, 24, 16, 6, 7, 8, 21, 22, 2, 10, 23, 0, 13, 17, 23, 19, 10, 20, 21, 6, 13, 8, 13, 11, 10, 8, 10, 18, 8, 16, 23, 4, 15, 2, 2, 21, 23, 12, 14, 22, 1, 10, 6, 4, 20, 19, 16, 23, 3, 12, 16, 3, 23, 21, 1, 20, 13, 21, 3, 8, 5, 20, 4, 21, 24, 14, 8, 21, 16, 16, 14, 7, 8, 1, 20, 3, 6, 24, 3, 23, 20, 1, 6, 6, 1, 5, 16, 5, 20, 19, 15, 7, 21, 13, 23, 5, 16, 3, 3, 6, 23, 2, 16, 4, 14, 17, 15, 21, 13, 8, 2, 21, 4, 20, 1, 2, 23, 0, 4, 21, 23, 16, 12, 12, 15, 1, 2, 5, 17, 22, 3, 24, 2, 21, 24, 12, 10, 12, 7, 16, 2, 12, 16, 19, 2, 19, 18, 22, 10, 7, 16, 2, 8, 22, 18, 21, 18, 15, 11, 8, 13, 1, 13, 22, 22, 8, 17, 22, 12, 0, 1, 18, 17, 13, 17, 10, 16, 0, 10, 17, 8, 19, 17, 6, 7, 0, 7, 1, 4, 7, 16, 16, 15, 18, 8, 18, 11, 12, 20, 20, 16, 14, 16, 12, 18, 24, 10, 17, 2, 19, 13, 4, 15, 22, 5, 4, 21, 3, 8, 3, 16, 24, 0, 18, 2, 21, 18, 14, 1, 12, 22, 6, 6, 10, 16, 8, 10, 13, 20, 17, 21, 1, 12, 16, 4, 17, 20, 16, 4, 20, 10, 12, 20, 1, 1, 5, 22, 20, 14, 5, 7, 14, 23, 21, 17, 10, 4, 1, 8, 24, 23, 6, 14, 22, 17, 19, 12, 11, 8, 1, 19, 13, 24, 24, 16, 17, 11, 22, 10, 10, 16, 16, 4, 16, 14, 18, 1, 5, 8, 22, 18, 3, 16, 15, 22, 12, 2, 14, 16, 15, 24, 12, 23, 8, 11, 18, 17, 18, 5, 8, 16, 20, 16, 6, 11, 20, 2, 3, 1, 22, 0, 13, 13, 21, 19, 22, 7, 0, 10, 18, 5, 7, 6, 22, 18, 2, 1, 14, 3, 24, 6, 20, 2, 23, 0, 19, 21, 13, 23, 11, 16, 18, 4, 2, 16, 6, 17, 13, 2, 6, 7, 13, 11, 8, 8, 24, 13, 12, 4, 2, 15, 14, 13, 19, 24, 22, 7, 21, 15, 23, 3, 5, 10, 19, 4, 11, 19, 12, 0, 16, 14, 2, 5, 12, 16, 18, 20, 4, 13, 6, 13, 4, 18, 5, 20, 6, 3, 3, 7, 20, 12, 7, 0, 18, 0, 2, 22, 2, 24, 15, 16, 8, 20, 14, 16, 21, 2, 15, 7, 4, 12, 1, 12, 24, 8, 12, 1, 22, 5, 12, 10, 15, 2, 13, 6, 22, 16, 19, 13, 0, 24, 4, 21, 16, 5, 1, 11, 18, 10, 16, 14, 3, 17, 14, 15, 16, 22, 16, 12, 0, 23, 1, 5, 2, 19, 3, 13, 7, 15, 10, 6, 18, 13, 6, 4, 22, 11, 5, 8, 23, 17, 10, 17, 3, 5, 14, 5, 13, 12, 21, 17, 13, 3, 1, 2, 14, 20, 15, 1, 24, 4, 22, 1, 13, 13, 21, 6, 16, 21, 5, 10, 21, 6, 7, 0, 24, 12, 24, 12, 15, 24, 1, 10, 19, 19, 20, 18, 10, 15, 6, 14, 6, 2, 10, 19, 14, 16, 20, 13, 17, 5, 11, 3, 12, 2, 21, 2, 24, 12, 5, 20, 10, 7, 8, 23, 2, 14, 5, 15, 23, 17, 2, 1, 12, 6, 23, 16, 24, 5, 10, 14, 17, 6, 3, 0, 3, 17, 1, 3, 4, 18, 20, 8, 21, 2, 20, 13, 4, 20, 20, 6, 12, 8, 11, 18, 5, 1, 16, 24, 2, 20, 20, 20, 14, 17, 1, 15, 12, 4, 4, 8, 4, 8, 4, 8, 6, 21, 12, 8, 18, 21, 20, 13, 2, 6, 11, 24, 14, 8, 16, 19, 13, 16, 10, 7, 21, 8, 11, 13, 11, 18, 12, 12, 23, 21, 8, 24, 22, 16, 20, 22, 14, 17, 3, 16, 17, 16, 18, 12, 10, 14, 15, 16, 24, 14, 5, 21, 20, 7, 0, 21, 13, 6, 21, 24, 17, 22, 10, 15, 16, 7, 23, 3, 17, 15, 16, 22, 10, 18, 24, 22, 12, 14, 16, 12, 23, 14, 24, 10, 17, 2, 6, 7, 7, 18, 14, 3, 3, 23, 4, 1, 11, 21, 13, 20, 18, 2, 17, 19, 24, 11, 7, 5, 10, 16, 22, 11, 18, 18, 18, 24, 2, 13, 14, 4, 4, 22, 19, 16, 0, 24, 24, 17, 2, 17, 19, 5, 17, 1, 3, 23, 23, 14, 19, 13, 14, 7, 8, 11, 7, 3, 7, 7, 8, 21, 21, 18, 22, 23, 14, 15, 16, 1, 17, 17, 12, 11, 13, 16, 8, 12, 21, 7, 5, 24, 8, 7, 2, 20, 3, 14, 3, 2, 6, 13, 3, 16, 24, 15, 20, 16, 1, 1, 3, 10, 14, 16, 8, 21, 10, 8, 12, 5, 2, 22, 23, 16, 13, 4, 4, 16, 14, 4, 12, 20, 16, 3, 7, 24, 10, 21, 17, 11, 23, 17, 6, 14, 7, 19, 19, 21, 15, 2, 19, 8, 10, 8, 12, 14, 13, 19, 23, 2, 17, 16, 12, 22, 20, 6, 22, 11, 16, 24, 16, 19, 22, 13, 13, 19, 3, 5, 2, 15, 2, 8, 14, 7, 22, 10, 6, 17, 3, 6, 24, 8, 20, 19, 5, 3, 10, 1, 8, 22, 8, 7, 7, 8, 7, 13, 15, 24, 7, 16, 21, 19, 0, 6, 21, 18, 1, 15, 5, 8, 1, 2, 13, 10, 20, 20, 22, 8, 10, 18, 20, 10, 10, 1, 17, 18, 10, 5, 14, 21, 21, 23, 16, 2, 23, 2, 3, 14, 7, 6, 2, 6, 17, 18, 24, 7, 10, 17, 10, 21, 14, 1, 15, 15, 21, 19, 3, 22, 24, 19, 4, 14, 12, 2, 16, 11, 20, 3, 18, 24, 12, 1, 17, 2, 7, 0, 3, 11, 13, 2, 21, 20, 17, 16, 23, 14, 12, 0, 15, 3, 20, 3, 16, 10, 8, 8, 13, 20, 1, 3, 0, 17, 19, 12, 18, 24, 18, 21, 15, 19, 0, 2, 7, 1, 16, 1, 13, 16, 16, 16, 6, 12, 15, 23, 14, 13, 16, 5, 0, 3, 19, 7, 5, 1, 21, 11, 10, 13, 21, 20, 4, 15, 12, 21, 4, 22, 13, 21, 16, 22, 23, 24, 6, 17, 21, 8, 15, 20, 6, 4, 6, 5, 17, 17, 22, 3, 18, 13, 8, 13, 7, 2, 8, 18, 1, 11, 16, 11, 24, 19, 6, 22, 24, 2, 3, 5, 1, 15, 20, 21, 5, 23, 15, 4, 20, 18, 21, 15, 17, 1, 1, 24, 24, 24, 1, 7, 10, 24, 21, 8, 14, 10, 14, 18, 11, 13, 24, 8, 16, 8, 6, 23, 4, 8, 19, 0, 22, 0, 13, 4, 2, 22, 24, 5, 8, 10, 0, 13, 6, 13, 19, 20, 10, 0, 3, 23, 3, 22, 8, 17, 17, 15, 1, 10, 23, 14, 0, 7, 20, 17, 16, 24, 6, 18, 22, 20, 7, 3, 5, 20, 10, 1, 19, 17, 11, 14, 24, 0, 16, 24, 17, 2, 15, 1, 2, 7, 14, 0, 19, 10, 16, 21, 22, 22, 12, 8, 24, 6, 1, 4, 22, 2, 15, 22, 17, 24, 19, 3, 18, 6, 2, 8, 23, 1, 8, 16, 8, 3, 12, 20, 7, 23, 2, 21, 24, 7, 24, 12, 20, 23, 21, 14, 2, 7, 21, 16, 20, 17, 0, 4, 23, 1, 15, 13, 12, 18, 2, 24, 21, 22, 7, 10, 13, 3, 15, 17, 22, 13, 22, 12, 2, 1, 8, 16, 23, 7, 18, 12, 8, 5, 16, 12, 4, 10, 18, 7, 16, 7, 13, 8, 19, 2, 24, 24, 3, 15, 12, 18, 16, 16, 2, 3, 6, 15, 23, 17, 7, 12, 22, 3, 1, 16, 2, 8, 8, 20, 24, 12, 5, 6, 4, 0, 2, 10, 13, 22, 24, 14, 15, 2, 6, 4, 10, 22, 19, 21, 4, 21, 6, 6, 13, 3, 24, 5, 7, 20, 16, 20, 8, 22, 18, 4, 22, 13, 21, 15, 18, 14, 4, 22, 17, 19, 15, 4, 6, 11, 10, 5, 4, 2, 24, 3, 7, 1, 11, 3, 19, 17, 5, 0, 23, 19, 16, 15, 20, 13, 14, 15, 3, 0, 20, 10, 2, 7, 16, 13, 24, 4, 2, 21, 24, 11, 20, 11, 15, 22, 11, 4, 5, 12, 20, 10, 3, 8, 20, 1, 24, 21, 7, 24, 21, 14, 24, 23, 13, 10, 11, 23, 8, 22, 17, 23, 15, 5, 22, 18, 23, 16, 11, 1, 12, 19, 17, 3, 12, 23, 5, 3, 16, 0, 17, 18, 5, 21, 15, 15, 21, 18, 14, 15, 0, 1, 4, 23, 7, 20, 23, 16, 14, 13, 18, 3, 23, 13, 16, 21, 18, 10, 20, 19, 19, 0, 17, 0, 15, 16, 12, 3, 23, 20, 7, 19, 19, 1, 16, 24, 4, 0, 14, 21, 20, 5, 8, 15, 11, 17, 0, 2, 0, 20, 14, 13, 21, 12, 6, 17, 18, 22, 17, 24, 19, 13, 19, 17, 18, 0, 21, 0, 23, 22, 7, 16, 21, 8, 5, 20, 18, 5, 23, 1, 1, 8, 5, 23, 7, 12, 16, 21, 18, 13, 11, 12, 13, 2, 16, 11, 2, 10, 2, 10, 22, 15, 13, 4, 5, 11, 20, 14, 6, 6, 16, 22, 17, 18, 10, 3, 19, 4, 2, 0, 22, 14, 20, 23, 16, 18, 8, 2, 6, 22, 21, 6, 4, 21, 21, 2, 12, 2, 20, 12, 6, 10, 16, 13, 4, 12, 0, 7, 18, 14, 14, 19, 20, 0, 16, 3, 18, 14, 20, 10, 8, 24, 4, 10, 12, 17, 12, 14, 4, 23, 14, 6, 10, 20, 12, 14, 22, 1, 11, 13, 5, 19, 4, 24, 16, 14, 11, 3, 12, 24, 22, 22, 19, 3, 3, 5, 15, 22, 0, 14, 24, 16, 0, 14, 1, 12, 22, 16, 2, 24, 19, 20, 24, 0, 18, 1, 15, 17, 18, 18, 0, 4, 14, 21, 7, 13, 16, 8, 5, 7, 5, 2, 5, 7, 4, 14, 2, 21, 18, 4, 7, 5, 0, 16, 15, 8, 21, 21, 24, 2, 14, 23, 1, 8, 18, 13, 13, 4, 13, 17, 24, 3, 18, 4, 19, 8, 4, 7, 12, 5, 6, 16, 15, 16, 17, 6, 12, 6, 22, 15, 0, 17, 0, 19, 18, 0, 18, 12, 19, 21, 22, 18, 3, 10, 4, 1, 20, 13, 23, 8, 8, 4, 18, 22, 18, 11, 8, 20, 5, 10, 22, 12, 1, 2, 12, 3, 10, 4, 8, 12, 22, 19, 16, 1, 20, 19, 4, 24, 15, 11, 18, 12, 5, 18, 22, 2, 10, 16, 8, 2, 16, 17, 23, 8, 22, 0, 2, 6, 5, 13, 1, 8, 3, 3, 1, 8, 7, 12, 23, 22, 24, 6, 2, 15, 24, 24, 10, 14, 14, 13, 0, 21, 8, 17, 5, 4, 14, 20, 17, 22, 17, 18, 11, 6, 16, 2, 18, 13, 12, 20, 21, 1, 0, 1, 11, 0, 1, 6, 24, 22, 14, 15, 20, 5, 13, 17, 12, 20, 1, 13, 8, 23, 15, 8, 2, 22, 20, 17, 22, 8, 2, 5, 12, 18, 18, 7, 5, 7, 3, 17, 4, 14, 18, 14, 3, 13, 21, 8, 15, 13, 2, 7, 16, 3, 11, 6, 13, 24, 7, 14, 7, 13, 6, 17, 5, 4, 22, 5, 17, 21, 13, 17, 22, 10, 15, 16, 18, 16, 17, 15, 15, 17, 5, 0, 3, 21, 16, 2, 18, 2, 6, 24, 24, 2, 23, 15, 21, 18, 7, 6, 23, 12, 10, 18, 6, 16, 13, 20, 7, 14, 11, 2, 15, 24, 0, 6, 12, 2, 7, 4, 24, 13, 18, 1, 22, 18, 12, 12, 15, 0, 8, 11, 6, 3, 21, 20, 16, 5, 7, 4, 3, 13, 19, 12, 10, 2, 17, 7, 15, 14, 14, 12, 3, 3, 24, 15, 11, 1, 3, 14, 22, 5, 17, 13, 4, 17, 5, 16, 2, 17, 8, 5, 18, 4, 3, 2, 4, 17, 22, 13, 14, 14, 10, 24, 0, 6, 10, 3, 4, 19, 23, 17, 4, 21, 8, 24, 6, 18, 14, 22, 19, 22, 24, 18, 15, 21, 17, 11, 17, 7, 1, 4, 20, 12, 24, 16, 4, 8, 3, 21, 20, 8, 10, 0, 24, 4, 12, 3, 24, 16, 13, 17, 16, 13, 8, 2, 21, 15, 7, 5, 8, 21, 1, 23, 13, 18, 0, 8, 10, 4, 24, 3, 20, 1, 2, 16, 2, 14, 8, 22, 4, 2, 24, 0, 0, 17, 23, 24, 7, 22, 19, 5, 23, 4, 2, 20, 17, 20, 14, 10, 2, 11, 12, 13, 24, 22, 5, 16, 16, 6, 14, 16, 2, 18, 10, 20, 22, 6, 17, 12, 1, 5, 10, 21, 6, 4, 23, 17, 3, 19, 22, 11, 11, 12, 1, 23, 11, 23, 24, 7, 23, 24, 4, 22, 14, 17, 14, 3, 12, 16, 2, 15, 22, 10, 17, 14, 12, 12, 8, 14, 2, 8, 4, 17, 15, 13, 17, 17, 16, 20, 21, 6, 6, 0, 2, 19, 10, 14, 10, 7, 8, 7, 19, 6, 8, 6, 19, 3, 17, 21, 11, 1, 11, 22, 14, 8, 2, 0, 24, 13, 18, 15, 4, 0, 1, 13, 16, 14, 11, 17, 20, 12, 6, 19, 6, 13, 6, 14, 14, 11, 5, 17, 15, 23, 17, 0, 12, 15, 11, 5, 12, 14, 17, 13, 22, 4, 3, 2, 19, 15, 16, 21, 7, 7, 14, 2, 16, 22, 14, 11, 11, 22, 2, 0, 6, 24, 15, 7, 5, 11, 17, 11, 5, 15, 13, 17, 7, 1, 23, 8, 19, 16, 8, 24, 2, 24, 8, 24, 11, 11, 0, 19, 8, 17, 8, 21, 21, 6, 16, 24, 8, 15, 21, 4, 15, 12, 16, 4, 3, 12, 8, 24, 6, 2, 1, 3, 8, 21, 3, 22, 16, 5, 10, 0, 18, 15, 15, 21, 22, 24, 2, 13, 7, 13, 3, 22, 13, 7, 4, 23, 16, 1, 11, 14, 8, 20, 11, 16, 3, 6, 1, 16, 15, 6, 17, 17, 21, 0, 10, 2, 19, 21, 2, 17, 8, 3, 15, 7, 0, 15, 4, 22, 19, 18, 5, 14, 16, 23, 6, 22, 6, 20, 0, 6, 1, 21, 1, 12, 12, 4, 19, 23, 5, 20, 17, 13, 20, 14, 22, 4, 20, 13, 22, 11, 19, 10, 2, 1, 2, 20, 2, 2, 20, 13, 12, 7, 4, 8, 22, 11, 6, 3, 11, 13, 17, 7, 1, 3, 22, 16, 13, 22, 16, 24, 4, 4, 8, 6, 20, 14, 21, 14, 19, 22, 14, 18, 2, 0, 11, 8, 2, 19, 17, 10, 19, 14, 1, 16, 4, 12, 17, 3, 22, 2, 17, 1, 5, 22, 23, 16, 17, 1, 7, 20, 11, 20, 22, 19, 12, 0, 24, 20, 24, 14, 5, 8, 4, 14, 16, 24, 14, 12, 11, 6, 12, 1, 22, 17, 16, 18, 17, 12, 20, 5, 19, 2, 3, 10, 8, 8, 16, 14, 0, 21, 6, 21, 14, 23, 3, 19, 16, 2, 12, 8, 7, 21, 22, 18, 20, 13, 22, 17, 20, 17, 12, 7, 16, 1, 7, 20, 22, 11, 22, 2, 22, 16, 16, 2, 19, 1, 22, 0, 19, 24, 14, 2, 24, 0, 15, 13, 20, 6, 2, 17, 16, 17, 11, 6, 11, 17, 22, 12, 11, 6, 19, 12, 19, 2, 24, 16, 5, 8, 0, 7, 8, 5, 20, 15, 21, 24, 3, 17, 1, 11, 3, 11, 1, 8, 22, 16, 6, 6, 1, 16, 24, 24, 11, 13, 8, 3, 13, 7, 23, 3, 2, 3, 23, 0, 18, 24, 6, 13, 7, 5, 5, 8, 8, 23, 24, 22, 24, 19, 0, 11, 11, 24, 18, 0, 8, 8, 23, 0, 13, 2, 13, 16, 16, 15, 14, 5, 1, 24, 13, 3, 16, 21, 20, 3, 7, 16, 2, 5, 3, 2, 16, 13, 23, 4, 21, 13, 3, 8, 7, 4, 19, 17, 19, 20, 15, 4, 3, 3, 16, 17, 18, 3, 3, 2, 23, 3, 13, 19, 17, 7, 0, 24, 21, 23, 20, 24, 1, 7, 21, 12, 4, 17, 21, 16, 15, 22, 3, 7, 3, 10, 20, 21, 20, 23, 24, 3, 11, 12, 12, 21, 22, 13, 0, 4, 16, 3, 15, 0, 11, 14, 10, 2, 2, 11, 2, 10, 16, 2, 23, 24, 24, 22, 5, 8, 15, 6, 4, 21, 18, 7, 19, 3, 1, 1, 20, 4, 19, 3, 11, 15, 2, 8, 12, 23, 18, 1, 11, 3, 14, 2, 22, 21, 11, 3, 21, 10, 3, 5, 12, 1, 18, 13, 24, 20, 2, 10, 22, 1, 2, 22, 1, 21, 7, 5, 11, 19, 11, 8, 10, 5, 12, 5, 23, 10, 22, 15, 16, 0, 21, 15, 24, 5, 0, 14, 14, 3, 22, 2, 20, 8, 2, 15, 21, 4, 16, 22, 3, 3, 23, 18, 11, 11, 21, 16, 24, 13, 19, 0, 2, 4, 17, 18, 17, 5, 19, 2, 6, 19, 3, 7, 0, 17, 12, 3, 10, 22, 0, 5, 17, 12, 2, 2, 0, 17, 2, 5, 1, 17, 11, 11, 0, 4, 22, 24, 18, 13, 20, 15, 17, 21, 4, 2, 17, 8, 19, 17, 22, 0, 14, 7, 8, 18, 13, 4, 15, 17, 0, 24, 14, 11, 11, 20, 13, 15, 23, 17, 11, 4, 20, 12, 8, 2, 23, 2, 19, 19, 15, 22, 11, 21, 18, 13, 21, 7, 12, 20, 0, 4, 2, 6, 20, 11, 5, 3, 23, 4, 14, 10, 20, 16, 24, 15, 1, 20, 17, 4, 21, 18, 11, 22, 14, 0, 14, 8, 0, 4, 14, 14, 10, 12, 11, 19, 6, 16, 8, 1, 4, 19, 18, 7, 15, 14, 12, 19, 2, 3, 8, 2, 12, 18, 16, 20, 15, 13, 14, 4, 1, 17, 0, 3, 21, 19, 5, 19, 15, 15, 13, 13, 16, 1, 8, 16, 20, 7, 18, 22, 19, 2, 3, 5, 11, 19, 14, 1, 12, 8, 4, 22, 24, 13, 5, 12, 21, 1, 6, 15, 17, 11, 14, 3, 24, 2, 8, 12, 12, 6, 6, 19, 21, 5, 2, 2, 17, 16, 16, 21, 10, 2, 18, 17, 16, 2, 7, 10, 21, 1, 8, 4, 8, 4, 15, 7, 7, 24, 6, 17, 16, 20, 3, 17, 20, 8, 19, 24, 4, 19, 18, 10, 13, 24, 2, 5, 5, 4, 0, 16, 12, 23, 10, 16, 20, 2, 24, 12, 10, 2, 24, 15, 13, 12, 22, 20, 0, 4, 8, 23, 8, 19, 5, 23, 19, 2, 10, 2, 7, 24, 24, 21, 21, 7, 4, 12, 2, 21, 11, 2, 21, 1, 6, 1, 16, 10, 10, 2, 18, 14, 16, 14, 22, 7, 16, 2, 7, 11, 11, 12, 16, 6, 14, 1, 20, 20, 1, 13, 23, 21, 11, 14, 6, 7, 14, 2, 4, 4, 14, 7, 22, 24, 4, 10, 7, 19, 5, 6, 11, 2, 3, 15, 1, 7, 11, 2, 20, 18, 18, 10, 5, 21, 11, 1, 11, 7, 24, 19, 19, 16, 23, 19, 21, 4, 16, 8, 5, 4, 23, 16, 24, 24, 17, 17, 1, 7, 15, 15, 8, 11, 22, 10, 4, 12, 19, 8, 6, 2, 4, 14, 10, 24, 12, 2, 15, 0, 24, 24, 4, 11, 15, 14, 22, 22, 17, 16, 7, 6, 11, 16, 8, 3, 24, 1, 2, 5, 4, 16, 4, 1, 10, 23, 10, 15, 17, 14, 1, 11, 11, 8, 1, 24, 12, 10, 2, 24, 4, 13, 8, 2, 17, 19, 14, 20, 18, 7, 8, 11, 18, 0, 22, 4, 24, 3, 14, 22, 15, 17, 23, 1, 17, 19, 8, 7, 23, 24, 22, 24, 4, 14, 4, 12, 10, 1, 7, 16, 18, 24, 4, 8, 2, 19, 20, 6, 1, 19, 4, 21, 23, 14, 19, 24, 20, 11, 4, 12, 22, 16, 15, 8, 19, 14, 19, 24, 22, 0, 13, 0, 20, 17, 15, 10, 7, 8, 8, 21, 10, 6, 0, 4, 22, 4, 8, 13, 21, 6, 5, 1, 15, 8, 20, 8, 23, 17, 16, 19, 21, 2, 21, 16, 20, 21, 24, 17, 20, 24, 13, 8, 24, 12, 6, 14, 18, 22, 18, 16, 8, 16, 2, 8, 8, 2, 23, 11, 7, 14, 12, 23, 10, 10, 2, 20, 6, 16, 7, 16, 19, 1, 17, 0, 8, 16, 16, 23, 15, 18, 14, 6, 22, 21, 19, 3, 22, 6, 11, 22, 22, 5, 11, 12, 0, 23, 5, 11, 2, 2, 11, 16, 22, 1, 13, 0, 4, 20, 0, 12, 14, 18, 18, 12, 12, 2, 17, 22, 4, 12, 22, 19, 24, 10, 10, 24, 2, 7, 19, 15, 10, 12, 18, 15, 8, 24, 16, 17, 4, 1, 2, 4, 24, 16, 8, 17, 15, 1, 16, 14, 13, 21, 13, 21, 10, 0, 1, 17, 14, 2, 20, 24, 22, 21, 24, 17, 22, 16, 3, 13, 15, 19, 1, 8, 14, 8, 15, 16, 11, 4, 10, 2, 21, 2, 4, 14, 4, 21, 0, 2, 23, 3, 11, 6, 12, 12, 21, 10, 5, 21, 10, 16, 21, 8, 3, 7, 4, 2, 16, 19, 18, 17, 1, 20, 10, 2, 24, 11, 4, 22, 5, 11, 23, 23, 14, 6, 23, 20, 22, 13, 1, 13, 3, 0, 3, 22, 6, 4, 13, 15, 13, 2, 3, 3, 20, 15, 23, 21, 15, 21, 24, 3, 23, 13, 8, 14, 18, 21, 2, 18, 15, 5, 21, 2, 8, 2, 2, 2, 7, 20, 20, 7, 14, 15, 10, 1, 1, 17, 10, 2, 11, 4, 0, 15, 4, 17, 1, 14, 20, 11, 24, 18, 19, 0, 17, 10, 19, 20, 18, 8, 13, 10, 10, 15, 14, 16, 1, 3, 6, 20, 21, 12, 1, 24, 1, 4, 4, 16, 20, 23, 16, 12, 20, 4, 1, 13, 1, 8, 5, 21, 12, 23, 11, 21, 4, 3, 23, 8, 6, 7, 19, 6, 5, 12, 21, 16, 18, 3, 3, 6, 10, 11, 11, 4, 22, 17, 23, 23, 12, 13, 22, 10, 21, 23, 24, 18, 10, 11, 18, 7, 4, 14, 13, 22, 21, 1, 14, 1, 17, 7, 16, 24, 23, 10, 14, 13, 11, 11, 17, 22, 5, 7, 16, 17, 3, 17, 21, 8, 18, 20, 21, 20, 2, 8, 2, 19, 13, 4, 20, 17, 19, 7, 4, 24, 23, 21, 4, 12, 15, 19, 20, 20, 10, 12, 20, 20, 15, 22, 4, 0, 17, 19, 0, 4, 8, 4, 14, 0, 1, 6, 21, 17, 7, 12, 12, 15, 3, 22, 10, 1, 14, 15, 22, 16, 16, 24, 3, 10, 10, 8, 2, 10, 22, 3, 11, 11, 0, 24, 21, 23, 2, 21, 10, 21, 16, 20, 7, 21, 15, 15, 5, 3, 4, 10, 13, 5, 14, 6, 0, 10, 24, 13, 6, 22, 24, 4, 21, 4, 4, 3, 13, 5, 8, 15, 6, 23, 0, 7, 15, 18, 20, 17, 17, 23, 24, 21, 17, 6, 13, 12, 15, 1, 15, 3, 15, 2, 24, 22, 20, 21, 10, 3, 5, 7, 17, 22, 12, 8, 2, 18, 14, 19, 15, 3, 16, 1, 23, 17, 16, 6, 13, 19, 4, 8, 4, 16, 0, 5, 8, 3, 8, 1, 2, 19, 3, 3, 21, 23, 19, 1, 1, 14, 13, 17, 15, 4, 12, 12, 16, 17, 14, 5, 2, 21, 16, 24, 3, 16, 23, 21, 21, 20, 10, 4, 20, 15, 8, 24, 3, 23, 12, 18, 20, 20, 7, 8, 18, 14, 23, 17, 21, 18, 10, 21, 13, 17, 2, 11, 7, 0, 18, 0, 17, 10, 18, 21, 10, 16, 5, 13, 16, 14, 14, 10, 6, 5, 7, 6, 8, 21, 10, 1, 21, 19, 17, 19, 17, 18, 2, 15, 16, 19, 16, 13, 17, 1, 3, 24, 4, 6, 3, 11, 24, 10, 4, 16, 21, 11, 3, 8, 24, 4, 6, 17, 4, 17, 22, 4, 3, 5, 10, 15, 1, 1, 7, 1, 24, 10, 17, 14, 14, 3, 18, 16, 6, 4, 17, 17, 21, 1, 20, 16, 7, 19, 0, 16, 11, 14, 23, 21, 18, 7, 2, 12, 24, 1, 3, 22, 16, 21, 23, 3, 21, 5, 18, 18, 6, 7, 22, 14, 12, 21, 15, 3, 18, 3, 2, 11, 0, 6, 2, 11, 22, 24, 5, 19, 23, 12, 12, 13, 3, 20, 21, 24, 23, 23, 10, 13, 18, 17, 14, 22, 6, 17, 17, 0, 22, 12, 13, 2, 4, 2, 1, 18, 22, 16, 19, 7, 15, 17, 16, 11, 5, 3, 7, 7, 17, 24, 17, 23, 2, 24, 21, 19, 6, 12, 18, 16, 13, 11, 4, 12, 13, 0, 0, 2, 19, 15, 21, 11, 18, 4, 19, 24, 0, 13, 22, 10, 17, 19, 15, 7, 2, 19, 21, 13, 17, 13, 11, 17, 8, 2, 22, 24, 4, 22, 11, 6, 19, 11, 17, 1, 14, 7, 1, 10, 24, 18, 12, 6, 21, 19, 2, 1, 1, 8, 1, 7, 0, 10, 7, 15, 14, 8, 17, 21, 12, 7, 6, 10, 17, 5, 17, 12, 22, 19, 5, 5, 17, 6, 2, 18, 16, 12, 5, 14, 17, 17, 21, 17, 16, 11, 17, 2, 16, 6, 6, 10, 7, 11, 7, 13, 11, 23, 10, 8, 7, 4, 10, 14, 19, 23, 16, 17, 10, 10, 11, 5, 0, 21, 24, 13, 17, 16, 1, 4, 21, 17, 17, 3, 17, 21, 5, 4, 8, 17, 16, 6, 14, 23, 15, 20, 22, 13, 22, 3, 20, 19, 12, 5, 16, 1, 13, 2, 22, 13, 18, 14, 3, 1, 2, 16, 13, 24, 11, 2, 13, 24, 4, 14, 21, 22, 22, 3, 13, 19, 17, 2, 0, 2, 23, 19, 18, 17, 20, 13, 1, 0, 14, 19, 13, 18, 0, 13, 21, 20, 17, 4, 12, 5, 21, 16, 10, 11, 6, 1, 21, 1, 3, 11, 0, 16, 5, 8, 6, 21, 6, 17, 16, 17, 6, 11, 19, 22, 14, 15, 3, 5, 5, 23, 13, 1, 10, 21, 20, 1, 20, 23, 24, 14, 13, 1, 1, 2, 19, 15, 2, 2, 12, 16, 5, 8, 14, 15, 7, 2, 7, 1, 14, 12, 3, 21, 22, 13, 4, 12, 11, 4, 17, 2, 22, 0, 12, 16, 23, 16, 24, 2, 19, 15, 16, 4, 2, 22, 14, 16, 6, 22, 3, 5, 8, 16, 4, 3, 14, 17, 3, 1, 7, 0, 10, 12, 20, 2, 2, 24, 10, 19, 24, 7, 18, 0, 19, 6, 3, 22, 21, 24, 12, 14, 20, 10, 20, 10, 10, 7, 10, 11, 14, 19, 21, 7, 1, 17, 10, 21, 14, 5, 18, 14, 5, 14, 2, 14, 6, 8, 6, 4, 23, 17, 14, 12, 7, 21, 2, 11, 12, 24, 21, 23, 10, 4, 7, 5, 21, 23, 3, 19, 15, 7, 2, 6, 6, 14, 21, 3, 14, 24, 7, 14, 23, 1, 20, 24, 21, 0, 7, 0, 2, 4, 7, 6, 8, 22, 22, 5, 13, 6, 13, 11, 14, 15, 20, 20, 19, 24, 22, 7, 16, 3, 16, 0, 5, 1, 3, 16, 16, 17, 4, 19, 6, 12, 3, 12, 2, 8, 5, 12, 22, 0, 2, 6, 1, 7, 21, 23, 13, 20, 20, 19, 20, 1, 6, 20, 20, 1, 14, 24, 2, 2, 0, 7, 11, 7, 22, 7, 5, 24, 19, 24, 17, 16, 14, 15, 17, 11, 11, 5, 19, 22, 0, 17, 10, 8, 11, 18, 13, 14, 3, 11, 5, 19, 18, 23, 8, 5, 14, 8, 19, 12, 11, 13, 6, 7, 21, 5, 18, 12, 10, 23, 3, 18, 19, 23, 4, 13, 18, 3, 11, 22, 13, 15, 18, 7, 20, 6, 19, 1, 3, 2, 7, 14, 6, 21, 19, 8, 19, 12, 3, 20, 21, 22, 5, 6, 22, 6, 17, 21, 11, 0, 4, 24, 3, 12, 19, 17, 3, 3, 17, 5, 11, 24, 20, 3, 21, 1, 0, 0, 19, 2, 22, 18, 5, 1, 1, 20, 11, 11, 22, 17, 19, 7, 16, 17, 8, 12, 11, 13, 16, 13, 10, 5, 3, 15, 16, 17, 10, 6, 13, 15, 4, 1, 8, 12, 0, 1, 11, 11, 20, 24, 2, 16, 14, 23, 17, 2, 22, 21, 24, 15, 8, 11, 24, 13, 22, 8, 5, 12, 18, 21, 6, 5, 24, 15, 11, 8, 10, 0, 22, 22, 17, 3, 5, 18, 18, 16, 4, 1, 11, 16, 11, 15, 11, 16, 1, 17, 1, 8, 19, 13, 23, 15, 8, 14, 0, 12, 8, 20, 7, 4, 22, 13, 0, 10, 12, 4, 21, 18, 20, 20, 7, 16, 22, 21, 17, 24, 10, 7, 13, 8, 2, 19, 13, 21, 10, 11, 7, 20, 2, 17, 18, 3, 3, 12, 19, 3, 4, 11, 13, 7, 24, 20, 12, 11, 12, 5, 7, 3, 19, 1, 16, 3, 24, 17, 22, 5, 17, 12, 12, 2, 24, 6, 12, 15, 16, 17, 13, 6, 5, 19, 14, 20, 20, 23, 7, 4, 14, 16, 10, 4, 2, 2, 20, 14, 3, 23, 13, 15, 2, 22, 22, 21, 18, 0, 13, 2, 19, 11, 16, 12, 15, 13, 15, 15, 19, 7, 21, 10, 10, 10, 3, 12, 15, 15, 5, 1, 11, 12, 5, 15, 8, 1, 15, 20, 11, 24, 22, 16, 20, 21, 13, 5, 6, 12, 5, 1, 24, 11, 22, 0, 8, 11, 4, 1, 4, 6, 11, 16, 6, 13, 19, 17, 2, 5, 2, 13, 16, 10, 8, 6, 20, 7, 5, 21, 7, 7, 19, 3, 20, 1, 16, 14, 10, 6, 10, 21, 8, 12, 3, 0, 0, 24, 13, 13, 2, 20, 19, 18, 19, 10, 7, 15, 13, 2, 24, 2, 8, 21, 7, 15, 2, 1, 17, 13, 3, 2, 7, 5, 11, 17, 1, 6, 21, 6, 12, 22, 2, 0, 17, 12, 4, 16, 4, 20, 20, 6, 17, 17, 23, 11, 15, 3, 2, 11, 24, 18, 2, 22, 18, 20, 10, 5, 16, 19, 15, 16, 11, 8, 10, 6, 22, 17, 14, 2, 8, 5, 12, 15, 10, 18, 13, 8, 16, 0, 22, 21, 15, 5, 22, 23, 11, 6, 21, 22, 11, 16, 0, 11, 16, 24, 10, 22, 21, 5, 5, 8, 20, 11, 13, 4, 15, 16, 12, 12, 15, 11, 19, 24, 3, 15, 0, 5, 18, 24, 0, 13, 8, 24, 18, 16, 12, 14, 15, 11, 13, 14, 13, 21, 4, 3, 14, 2, 10, 20, 13, 4, 19, 10, 21, 24, 23, 19, 1, 24, 2, 21, 2, 19, 0, 12, 16, 14, 17, 6, 0, 12, 2, 4, 17, 20, 11, 3, 16, 23, 20, 2, 11, 7, 5, 24, 23, 6, 23, 13, 19, 23, 16, 19, 15, 8, 20, 20, 5, 19, 22, 1, 3, 0, 13, 21, 15, 24, 21, 19, 24, 15, 10, 11, 18, 14, 22, 24, 6, 14, 3, 7, 24, 2, 8, 15, 1, 14, 6, 5, 7, 24, 13, 23, 24, 15, 4, 8, 2, 6, 11, 13, 14, 10, 18, 3, 19, 11, 22, 1, 6, 24, 16, 7, 1, 18, 21, 23, 2, 3, 19, 17, 11, 24, 23, 16, 8, 15, 13, 17, 7, 4, 20, 18, 8, 7, 11, 13, 22, 5, 0, 15, 6, 6, 14, 21, 7, 19, 12, 24, 23, 7, 3, 24, 8, 22, 15, 8, 22, 1, 12, 24, 21, 21, 15, 1, 22, 22, 17, 4, 10, 19, 14, 10, 16, 22, 8, 12, 8, 4, 12, 20, 8, 14, 14, 1, 19, 22, 20, 8, 16, 21, 14, 5, 3, 22, 5, 22, 14, 12, 10, 2, 17, 14, 4, 18, 21, 18, 11, 3, 0, 0, 2, 13, 5, 13, 13, 19, 16, 12, 14, 8, 12, 18, 20, 8, 23, 18, 24, 6, 17, 21, 11, 23, 17, 16, 21, 18, 24, 19, 17, 10, 22, 16, 7, 22, 8, 14, 8, 15, 0, 18, 19, 21, 23, 11, 22, 5, 0, 16, 12, 7, 7, 7, 22, 7, 4, 6, 0, 22, 3, 21, 17, 3, 0, 17, 19, 2, 21, 24, 3, 11, 24, 16, 14, 12, 7, 19, 17, 20, 13, 4, 22, 11, 8, 7, 2, 12, 2, 14, 21, 8, 24, 5, 3, 17, 1, 16, 22, 17, 12, 11, 15, 5, 22, 13, 24, 15, 4, 17, 3, 8, 24, 3, 11, 21, 10, 7, 4, 12, 18, 4, 7, 17, 14, 23, 1, 16, 20, 17, 18, 5, 11, 2, 15, 21, 10, 11, 6, 5, 21, 24, 1, 20, 2, 0, 3, 0, 8, 22, 23, 13, 5, 6, 8, 3, 20, 5, 3, 1, 13, 23, 5, 22, 24, 1, 24, 14, 6, 18, 0, 13, 2, 8, 20, 0, 2, 19, 24, 24, 14, 0, 12, 1, 17, 7, 4, 23, 0, 3, 14, 13, 19, 24, 19, 6, 16, 21, 12, 15, 18, 13, 21, 20, 7, 4, 6, 0, 3, 14, 24, 0, 17, 18, 13, 8, 3, 17, 22, 16, 6, 16, 23, 15, 3, 4, 0, 20, 8, 4, 8, 3, 0, 20, 12, 20, 1, 16, 14, 22, 14, 15, 1, 24, 7, 23, 24, 17, 14, 21, 2, 18, 17, 20, 0, 24, 16, 13, 8, 6, 14, 24, 18, 15, 6, 6, 2, 14, 14, 12, 7, 17, 16, 24, 2, 16, 4, 8, 21, 12, 13, 12, 22, 13, 6, 16, 0, 13, 15, 17, 7, 4, 14, 23, 1, 10, 3, 20, 0, 19, 22, 1, 16, 2, 0, 15, 15, 13, 11, 8, 20, 4, 22, 14, 3, 18, 7, 20, 18, 2, 8, 16, 7, 3, 18, 5, 4, 10, 3, 19, 16, 17, 2, 10, 13, 21, 8, 20, 24, 7, 16, 7, 6, 1, 3, 17, 5, 17, 5, 20, 6, 22, 15, 16, 16, 18, 4, 2, 20, 12, 20, 3, 14, 15, 15, 14, 21, 23, 24, 3, 1, 24, 19, 0, 12, 17, 15, 24, 16, 0, 17, 24, 12, 8, 24, 24, 24, 21, 13, 21, 20, 8, 15, 16, 15, 3, 2, 22, 10, 16, 24, 18, 24, 23, 18, 19, 2, 11, 11, 11, 10, 13, 1, 21, 23, 12, 15, 4, 16, 23, 5, 24, 13, 14, 24, 4, 8, 18, 16, 24, 22, 18, 5, 13, 6, 6, 16, 14, 17, 23, 16, 24, 6, 13, 20, 8, 24, 19, 10, 1, 16, 3, 18, 10, 24, 11, 3, 15, 3, 23, 18, 15, 17, 19, 1, 21, 21, 20, 10, 17, 1, 15, 16, 24, 18, 19, 21, 5, 2, 11, 11, 19, 5, 8, 24, 18, 8, 15, 18, 6, 23, 21, 14, 7, 10, 21, 18, 13, 8, 15, 18, 18, 10, 22, 18, 7, 21, 13, 20, 20, 7, 22, 21, 10, 11, 11, 2, 6, 10, 13, 22, 3, 6, 12, 2, 18, 10, 0, 4, 22, 20, 19, 19, 3, 0, 15, 19, 24, 0, 21, 1, 3, 21, 12, 8, 16, 12, 16, 14, 18, 24, 1, 13, 22, 7, 5, 13, 8, 18, 21, 2, 0, 21, 14, 18, 6, 2, 6, 3, 4, 12, 18, 24, 18, 2, 19, 10, 19, 1, 14, 21, 18, 14, 10, 20, 23, 21, 4, 2, 17, 18, 3, 3, 5, 17, 3, 18, 10, 0, 14, 22, 11, 7, 6, 24, 16, 21, 10, 17, 12, 1, 24, 8, 14, 14, 20, 20, 2, 12, 24, 13, 2, 15, 3, 11, 24, 7, 0, 17, 4, 22, 16, 17, 7, 14, 22, 20, 1, 4, 19, 1, 3, 24, 24, 3, 10, 20, 15, 5, 15, 23, 13, 1, 20, 13, 10, 18, 7, 8, 21, 11, 0, 21, 11, 21, 21, 14, 16, 4, 21, 14, 22, 23, 10, 13, 23, 16, 7, 24, 6, 18, 17, 21, 0, 24, 17, 22, 19, 15, 2, 4, 21, 14, 14, 15, 6, 11, 21, 7, 3, 16, 13, 16, 10, 8, 12, 6, 24, 22, 5, 2, 15, 18, 3, 14, 6, 6, 16, 24, 13, 16, 18, 3, 4, 0, 21, 7, 23, 16, 19, 17, 1, 10, 5, 5, 11, 17, 17, 8, 1, 22, 8, 14, 17, 18, 11, 5, 3, 10, 22, 11, 23, 19, 2, 24, 16, 6, 22, 3, 19, 21, 5, 8, 12, 23, 8, 8, 12, 0, 21, 18, 1, 24, 7, 16, 23, 0, 10, 21, 0, 14, 15, 17, 4, 21, 17, 11, 23, 11, 6, 8, 21, 21, 11, 1, 1, 8, 18, 22, 24, 17, 19, 8, 13, 17, 7, 11, 10, 2, 0, 24, 15, 6, 12, 13, 2, 13, 8, 22, 15, 8, 0, 14, 5, 2, 15, 10, 6, 12, 17, 4, 8, 17, 2, 18, 2, 23, 3, 12, 3, 24, 20, 14, 20, 13, 11, 14, 14, 12, 15, 0, 17, 15, 8, 11, 4, 24, 18, 21, 20, 15, 23, 10, 19, 20, 20, 20, 2, 2, 13, 20, 5, 12, 22, 1, 13, 3, 22, 2, 11, 6, 12, 8, 18, 7, 6, 1, 3, 24, 23, 0, 6, 21, 21, 24, 23, 18, 3, 17, 11, 16, 10, 11, 11, 19, 18, 5, 13, 20, 3, 4, 4, 18, 4, 1, 10, 12, 17, 7, 16, 15, 5, 12, 23, 22, 19, 6, 19, 22, 11, 22, 11, 22, 15, 11, 13, 21, 15, 2, 19, 8, 22, 16, 8, 8, 20, 24, 13, 2, 18, 3, 8, 5, 20, 7, 23, 15, 10, 23, 8, 21, 4, 15, 21, 12, 6, 0, 14, 5, 22, 16, 2, 3, 6, 18, 11, 12, 5, 15, 3, 20, 6, 16, 19, 18, 8, 16, 20, 7, 14, 17, 12, 11, 22, 14, 24, 1, 16, 6, 14, 16, 17, 0, 12, 18, 2, 23, 17, 17, 21, 18, 17, 18, 11, 2, 8, 4, 20, 12, 21, 16, 7]\n",
      "Tempo de execução: 31582.445350 segundos\n"
     ]
    },
    {
     "ename": "ValueError",
     "evalue": "operands could not be broadcast together with shapes (7171,) (7172,) ",
     "output_type": "error",
     "traceback": [
      "\u001b[1;31m---------------------------------------------------------------------------\u001b[0m",
      "\u001b[1;31mValueError\u001b[0m                                Traceback (most recent call last)",
      "Cell \u001b[1;32mIn[173], line 1\u001b[0m\n\u001b[1;32m----> 1\u001b[0m result_all_euclidian, rmse_all_euclidian \u001b[38;5;241m=\u001b[39m  \u001b[43mknn_euclidian\u001b[49m\u001b[43m(\u001b[49m\u001b[38;5;241;43m34000\u001b[39;49m\u001b[43m)\u001b[49m\n",
      "Cell \u001b[1;32mIn[115], line 7\u001b[0m, in \u001b[0;36mknn_euclidian\u001b[1;34m(tam_amostra)\u001b[0m\n\u001b[0;32m      5\u001b[0m end_time \u001b[38;5;241m=\u001b[39m time\u001b[38;5;241m.\u001b[39mtime()\n\u001b[0;32m      6\u001b[0m \u001b[38;5;28mprint\u001b[39m(\u001b[38;5;124mf\u001b[39m\u001b[38;5;124m\"\u001b[39m\u001b[38;5;124mTempo de execução: \u001b[39m\u001b[38;5;132;01m{\u001b[39;00mend_time\u001b[38;5;250m \u001b[39m\u001b[38;5;241m-\u001b[39m\u001b[38;5;250m \u001b[39mstart_time\u001b[38;5;132;01m:\u001b[39;00m\u001b[38;5;124m.6f\u001b[39m\u001b[38;5;132;01m}\u001b[39;00m\u001b[38;5;124m segundos\u001b[39m\u001b[38;5;124m\"\u001b[39m)\n\u001b[1;32m----> 7\u001b[0m rmse \u001b[38;5;241m=\u001b[39m \u001b[43mcalculo_rmse\u001b[49m\u001b[43m(\u001b[49m\u001b[43mresult\u001b[49m\u001b[43m,\u001b[49m\u001b[43m \u001b[49m\u001b[43my_test\u001b[49m\u001b[43m)\u001b[49m\n\u001b[0;32m      8\u001b[0m \u001b[38;5;28mprint\u001b[39m(\u001b[38;5;124mf\u001b[39m\u001b[38;5;124m\"\u001b[39m\u001b[38;5;124mO valor do RMSE é: \u001b[39m\u001b[38;5;132;01m{\u001b[39;00mrmse\u001b[38;5;132;01m}\u001b[39;00m\u001b[38;5;124m.\u001b[39m\u001b[38;5;124m\"\u001b[39m)\n\u001b[0;32m      9\u001b[0m \u001b[38;5;28;01mreturn\u001b[39;00m result, rmse\n",
      "Cell \u001b[1;32mIn[96], line 2\u001b[0m, in \u001b[0;36mcalculo_rmse\u001b[1;34m(result, y_test)\u001b[0m\n\u001b[0;32m      1\u001b[0m \u001b[38;5;28;01mdef\u001b[39;00m \u001b[38;5;21mcalculo_rmse\u001b[39m(result, y_test):\n\u001b[1;32m----> 2\u001b[0m     diff \u001b[38;5;241m=\u001b[39m (\u001b[43mnp\u001b[49m\u001b[38;5;241;43m.\u001b[39;49m\u001b[43marray\u001b[49m\u001b[43m(\u001b[49m\u001b[43mresult\u001b[49m\u001b[43m)\u001b[49m\u001b[43m \u001b[49m\u001b[38;5;241;43m-\u001b[39;49m\u001b[43m \u001b[49m\u001b[43mnp\u001b[49m\u001b[38;5;241;43m.\u001b[39;49m\u001b[43marray\u001b[49m\u001b[43m(\u001b[49m\u001b[43my_test\u001b[49m\u001b[43m)\u001b[49m) \u001b[38;5;241m*\u001b[39m\u001b[38;5;241m*\u001b[39m \u001b[38;5;241m2\u001b[39m\n\u001b[0;32m      4\u001b[0m     mean_diff \u001b[38;5;241m=\u001b[39m np\u001b[38;5;241m.\u001b[39mmean(diff)\n\u001b[0;32m      6\u001b[0m     rmse \u001b[38;5;241m=\u001b[39m np\u001b[38;5;241m.\u001b[39msqrt(mean_diff)\n",
      "\u001b[1;31mValueError\u001b[0m: operands could not be broadcast together with shapes (7171,) (7172,) "
     ]
    }
   ],
   "source": [
    "result_all_euclidian, rmse_all_euclidian =  knn_euclidian(34000)"
   ]
  },
  {
   "cell_type": "code",
   "execution_count": null,
   "metadata": {},
   "outputs": [],
   "source": [
    "result_all, rmse_all =  knn_mahalanobis(34000)"
   ]
  }
 ],
 "metadata": {
  "kernelspec": {
   "display_name": "Python 3 (ipykernel)",
   "language": "python",
   "name": "python3"
  },
  "language_info": {
   "codemirror_mode": {
    "name": "ipython",
    "version": 3
   },
   "file_extension": ".py",
   "mimetype": "text/x-python",
   "name": "python",
   "nbconvert_exporter": "python",
   "pygments_lexer": "ipython3",
   "version": "3.12.3"
  }
 },
 "nbformat": 4,
 "nbformat_minor": 4
}
