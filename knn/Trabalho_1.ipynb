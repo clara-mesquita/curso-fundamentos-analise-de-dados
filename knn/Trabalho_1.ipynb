{
 "cells": [
  {
   "cell_type": "markdown",
   "metadata": {},
   "source": [
    "## Trabalho 1 - Fundamentos de Análise de Dados\n",
    "### Implementação do algoritmo k-NN para k=1, utilizando a distância euclidiana e a distância de Mahalanobis \n",
    "#### Dataset: 'Mnist Sign Lang'"
   ]
  },
  {
   "cell_type": "code",
   "execution_count": 1,
   "metadata": {},
   "outputs": [],
   "source": [
    "# importando as bibliotecas utilizadas no código\n",
    "\n",
    "import numpy as np\n",
    "import pandas as pd\n",
    "import matplotlib.pyplot as plt \n",
    "import cv2 \n",
    "import math"
   ]
  },
  {
   "cell_type": "markdown",
   "metadata": {},
   "source": [
    "### Funções"
   ]
  },
  {
   "cell_type": "markdown",
   "metadata": {},
   "source": [
    "#### Funções de Manipulação de Dados"
   ]
  },
  {
   "cell_type": "code",
   "execution_count": 2,
   "metadata": {},
   "outputs": [],
   "source": [
    "arq_train = 'sign_mnist_train.csv'\n",
    "arq_test = 'sign_mnist_test.csv'"
   ]
  },
  {
   "cell_type": "code",
   "execution_count": 13,
   "metadata": {},
   "outputs": [],
   "source": [
    "def get_all_df():\n",
    "    \"\"\"\n",
    "    Carrega os conjuntos de dados de treinamento e teste e retorna DataFrames correspondentes.\n",
    "\n",
    "    Retorna:\n",
    "    (pandas.DataFrame, pandas.DataFrame): Um par de DataFrames contendo os conjuntos de dados de treinamento e teste, respectivamente.\n",
    "    \"\"\"\n",
    "    df_train = pd.read_csv(arq_train)\n",
    "    df_test = pd.read_csv(arq_test)\n",
    "    return df_train, df_test\n",
    "\n",
    "def get_x(tam, arq):\n",
    "    \"\"\"\n",
    "    Seleciona um tamanho específico do dataset e retorna a matriz X de treinamento ou de teste\n",
    "\n",
    "    Parâmetros:\n",
    "    tam (int): tamanho da amostra a ser utilizada no experimento\n",
    "    arq (str): o caminho do arquivo CSV contendo os dados (pode ser o de treino ou o de teste)\n",
    "\n",
    "    Retorna:\n",
    "    numpy.ndarray: matriz X de quantidade tam de amostras do dataset.\n",
    "    \"\"\"\n",
    "    df = pd.read_csv(arq)\n",
    "    df.drop(df.index[tam:], inplace=True)\n",
    "    df.drop(columns=['label'], inplace=True)\n",
    "    X = np.asarray(df)\n",
    "    return X\n",
    "\n",
    "def get_y(tam, arq):\n",
    "    \"\"\"\n",
    "    Retorna:\n",
    "    numpy.array: vetor Y de quantidade tam de amostras do dataset.\n",
    "    \"\"\"\n",
    "    df = pd.read_csv(arq)\n",
    "    df.drop(df.index[tam:], inplace=True)\n",
    "    label = df['label']\n",
    "    y = np.asarray(label)\n",
    "    return y\n",
    "\n",
    "def get_x_y(tam_total):\n",
    "    \"\"\"\n",
    "    Divide o dataset em conjunto de treinamento e teste e retorna os conjuntos X e y \n",
    "\n",
    "    Parâmetros:\n",
    "    tam_total (int): O tamanho total do conjunto de dados.\n",
    "\n",
    "    Retorna:\n",
    "    numpy.ndarray, numpy.ndarray, numpy.ndarray, numpy.ndarray: Conjuntos X_train, X_test, y_train e y_test \n",
    "    \"\"\"\n",
    "    tam_train = int(0.7 * tam_total)\n",
    "    tam_test = (tam_total - tam_train)\n",
    "\n",
    "    X_train = get_x(tam_train, arq_train)\n",
    "    y_train = get_y(tam_train, arq_train)\n",
    "\n",
    "    X_test = get_x(tam_test, arq_test)\n",
    "    y_test = get_y(tam_test, arq_test)\n",
    "\n",
    "    return X_train, X_test, y_train, y_test"
   ]
  },
  {
   "cell_type": "code",
   "execution_count": 14,
   "metadata": {},
   "outputs": [
    {
     "name": "stdout",
     "output_type": "stream",
     "text": [
      "Tamanho do dataset: 28240\n"
     ]
    }
   ],
   "source": [
    "train, test = get_all_df()\n",
    "\n",
    "total = train.shape[0] + train.shape[1] \n",
    "print(f\"Tamanho do dataset: {total}\")"
   ]
  },
  {
   "cell_type": "markdown",
   "metadata": {},
   "source": [
    "#### Dados\n"
   ]
  },
  {
   "cell_type": "code",
   "execution_count": 3,
   "metadata": {},
   "outputs": [
    {
     "name": "stdout",
     "output_type": "stream",
     "text": [
      "O dataset de treino original tinha 27455 amostras, e foi reduzido a 700 amostras. O de teste tinha 7172, e foi reduzido a 300.\n"
     ]
    }
   ],
   "source": [
    "# Lendo o dataset e transformando em NumPy Arrays\n",
    "train = pd.read_csv('sign_mnist_train.csv')\n",
    "\n",
    "train_ini = len(train)\n",
    "\n",
    "classes_arr = train['label']\n",
    "\n",
    "train.drop(train.index[701:], inplace=True)\n",
    "train.drop(train.index[0], inplace=True)\n",
    "train.drop(columns=['label'], inplace=True)\n",
    "train_fi = len(train)\n",
    "\n",
    "train_matrix = np.asarray(train)\n",
    "\n",
    "test = pd.read_csv('sign_mnist_test.csv')\n",
    "\n",
    "test_ini = len(test)\n",
    "\n",
    "test_classes_arr = test['label']\n",
    "\n",
    "test.drop(test.index[301:], inplace=True)\n",
    "test.drop(test.index[0], inplace=True)\n",
    "test.drop(columns=['label'], inplace=True)\n",
    "test_fi = len(test)\n",
    "\n",
    "test_matrix = np.asarray(test)\n",
    "\n",
    "print(f\"O dataset de treino original tinha {train_ini} amostras, e foi reduzido a {train_fi} amostras. O de teste tinha {test_ini}, e foi reduzido a {test_fi}.\")"
   ]
  },
  {
   "cell_type": "code",
   "execution_count": 4,
   "metadata": {},
   "outputs": [],
   "source": [
    "DF = pd.DataFrame(test_matrix) \n",
    "DF.to_csv(\"test_matrix.csv\")"
   ]
  },
  {
   "cell_type": "code",
   "execution_count": 5,
   "metadata": {},
   "outputs": [
    {
     "data": {
      "image/png": "[encoded data removed]",
      "text/plain": [
       "<Figure size 640x480 with 1 Axes>"
      ]
     },
     "metadata": {},
     "output_type": "display_data"
    }
   ],
   "source": [
    "# redimensionando a matriz de uma imagem exemplo para 28 x 28 para plotar a imagem com matplotlib\n",
    "# a imagem mostrada está definida (configuração do dataset) em escala preto e branco\n",
    "img_example = train_matrix[0]\n",
    "\n",
    "pixels = img_example.reshape((28, 28))\n",
    "plt.imshow(pixels)\n",
    "plt.show()"
   ]
  },
  {
   "cell_type": "code",
   "execution_count": 6,
   "metadata": {},
   "outputs": [
    {
     "data": {
      "image/png": "[encoded data removed]",
      "text/plain": [
       "<Figure size 640x480 with 1 Axes>"
      ]
     },
     "metadata": {},
     "output_type": "display_data"
    }
   ],
   "source": [
    "# Normalizando os valores da matriz para facilitar cálculos computacionais \n",
    "pixels = pixels/255\n",
    "\n",
    "plt.imshow(pixels)\n",
    "plt.show()\n"
   ]
  },
  {
   "cell_type": "code",
   "execution_count": 7,
   "metadata": {},
   "outputs": [
    {
     "data": {
      "image/png": "[encoded data removed]",
      "text/plain": [
       "<Figure size 640x480 with 1 Axes>"
      ]
     },
     "metadata": {},
     "output_type": "display_data"
    }
   ],
   "source": [
    "plt.imshow(pixels, cmap=\"gray\")\n",
    "plt.show()"
   ]
  },
  {
   "cell_type": "markdown",
   "metadata": {},
   "source": [
    "### Descrição do processo de redimensionamento de imagens para diminuição do custo computacional com imagem exemplo (letra I em Sign Lang)"
   ]
  },
  {
   "cell_type": "code",
   "execution_count": 8,
   "metadata": {},
   "outputs": [],
   "source": [
    "# Definindo a imagem como redimensionada em 14 x 14 para diminuir custo computacional para fazer a predição com KNN \n",
    "\n",
    "# size_x = size_x\n",
    "# size_y = size_y\n",
    "# pixels = cv2.resize(pixels, (size_x, size_y))\n",
    "\n",
    "# print(pixels)"
   ]
  },
  {
   "cell_type": "code",
   "execution_count": 9,
   "metadata": {},
   "outputs": [
    {
     "data": {
      "image/png": "[encoded data removed]",
      "text/plain": [
       "<Figure size 640x480 with 1 Axes>"
      ]
     },
     "metadata": {},
     "output_type": "display_data"
    }
   ],
   "source": [
    "# visualizando a nova imagem em preto e branco após redimensionamento da matriz para comparação\n",
    "\n",
    "plt.imshow(pixels, cmap=\"gray\")\n",
    "plt.show()"
   ]
  },
  {
   "cell_type": "code",
   "execution_count": 10,
   "metadata": {},
   "outputs": [
    {
     "name": "stdout",
     "output_type": "stream",
     "text": [
      "[0.60784314 0.61568627 0.61176471 0.61176471 0.61176471 0.61568627\n",
      " 0.61176471 0.61960784 0.61960784 0.61568627 0.61960784 0.61176471\n",
      " 0.60392157 0.60392157 0.6        0.59607843 0.59215686 0.58431373\n",
      " 0.58431373 0.58039216 0.57647059 0.57254902 0.56470588 0.55686275\n",
      " 0.56078431 0.54117647 0.36078431 0.42352941 0.61960784 0.62352941\n",
      " 0.62352941 0.62352941 0.62745098 0.62745098 0.62745098 0.62745098\n",
      " 0.62745098 0.62745098 0.62745098 0.62352941 0.61960784 0.61568627\n",
      " 0.60784314 0.60392157 0.6        0.59607843 0.59215686 0.58823529\n",
      " 0.58431373 0.58431373 0.57647059 0.57647059 0.57254902 0.55686275\n",
      " 0.45490196 0.56078431 0.63137255 0.63137255 0.63137255 0.63137255\n",
      " 0.63529412 0.63137255 0.63529412 0.63529412 0.63529412 0.63529412\n",
      " 0.63137255 0.63137255 0.63137255 0.62745098 0.62352941 0.61960784\n",
      " 0.61176471 0.60784314 0.60392157 0.6        0.59607843 0.59607843\n",
      " 0.59215686 0.58823529 0.57647059 0.57647059 0.49019608 0.54901961\n",
      " 0.64705882 0.64313725 0.64313725 0.64705882 0.64705882 0.64705882\n",
      " 0.64705882 0.64705882 0.64313725 0.64313725 0.64313725 0.64705882\n",
      " 0.63921569 0.63921569 0.63529412 0.63137255 0.62352941 0.62352941\n",
      " 0.61960784 0.61176471 0.61176471 0.60784314 0.59607843 0.6\n",
      " 0.60392157 0.59215686 0.48627451 0.49411765 0.65098039 0.65490196\n",
      " 0.65098039 0.65490196 0.65490196 0.65098039 0.65490196 0.65490196\n",
      " 0.65490196 0.65490196 0.65098039 0.65490196 0.64705882 0.64705882\n",
      " 0.64313725 0.63921569 0.63529412 0.63529412 0.63137255 0.62745098\n",
      " 0.61176471 0.59215686 0.60392157 0.69019608 0.56862745 0.47843137\n",
      " 0.56470588 0.39215686 0.65882353 0.6627451  0.65882353 0.6627451\n",
      " 0.6627451  0.65882353 0.6627451  0.66666667 0.66666667 0.66666667\n",
      " 0.6627451  0.65882353 0.65490196 0.65098039 0.65490196 0.64705882\n",
      " 0.63529412 0.62352941 0.62352941 0.61176471 0.59215686 0.64705882\n",
      " 0.67058824 0.57254902 0.36862745 0.50980392 0.62352941 0.43529412\n",
      " 0.67058824 0.67058824 0.66666667 0.67058824 0.67058824 0.67058824\n",
      " 0.6745098  0.67058824 0.67058824 0.67058824 0.6745098  0.6627451\n",
      " 0.6627451  0.66666667 0.65098039 0.64705882 0.62745098 0.61568627\n",
      " 0.66666667 0.69411765 0.67058824 0.6        0.48627451 0.37647059\n",
      " 0.49019608 0.61568627 0.60784314 0.57254902 0.6745098  0.6745098\n",
      " 0.6745098  0.67843137 0.67843137 0.67843137 0.67843137 0.67843137\n",
      " 0.67843137 0.67843137 0.68235294 0.68235294 0.67058824 0.65490196\n",
      " 0.6627451  0.68627451 0.67058824 0.64313725 0.64705882 0.61568627\n",
      " 0.50588235 0.43921569 0.4745098  0.58039216 0.64313725 0.61960784\n",
      " 0.60784314 0.59607843 0.68627451 0.68235294 0.68235294 0.68235294\n",
      " 0.68627451 0.68235294 0.68235294 0.68235294 0.68235294 0.69411765\n",
      " 0.69803922 0.68235294 0.66666667 0.69803922 0.71372549 0.67058824\n",
      " 0.60392157 0.49803922 0.47058824 0.49411765 0.54117647 0.62352941\n",
      " 0.65882353 0.64705882 0.63529412 0.63137255 0.61960784 0.61568627\n",
      " 0.69019608 0.69019608 0.69019608 0.69019608 0.69411765 0.69019608\n",
      " 0.69019608 0.69411765 0.69411765 0.68627451 0.6627451  0.66666667\n",
      " 0.69803922 0.6627451  0.61960784 0.63921569 0.54509804 0.46666667\n",
      " 0.60784314 0.67058824 0.6745098  0.65882353 0.64705882 0.64705882\n",
      " 0.63921569 0.63529412 0.62745098 0.61960784 0.69411765 0.69411765\n",
      " 0.69411765 0.69803922 0.69411765 0.69803922 0.69803922 0.69411765\n",
      " 0.67058824 0.62352941 0.65490196 0.67843137 0.61568627 0.55686275\n",
      " 0.63921569 0.59607843 0.52156863 0.65490196 0.69411765 0.67058824\n",
      " 0.66666667 0.66666667 0.65882353 0.65490196 0.65098039 0.64313725\n",
      " 0.63137255 0.62352941 0.69803922 0.69803922 0.70196078 0.70196078\n",
      " 0.70588235 0.69803922 0.64313725 0.55294118 0.5372549  0.56862745\n",
      " 0.58823529 0.55294118 0.5254902  0.58823529 0.60392157 0.59215686\n",
      " 0.69411765 0.70980392 0.68627451 0.6745098  0.67843137 0.6745098\n",
      " 0.66666667 0.65490196 0.65490196 0.64705882 0.63921569 0.63137255\n",
      " 0.70588235 0.70196078 0.70588235 0.71372549 0.70588235 0.70588235\n",
      " 0.66666667 0.61176471 0.59215686 0.58039216 0.59215686 0.60392157\n",
      " 0.6        0.6        0.58039216 0.6        0.57647059 0.54901961\n",
      " 0.67058824 0.69019608 0.67843137 0.67843137 0.67058824 0.66666667\n",
      " 0.65882353 0.65490196 0.64705882 0.63921569 0.71372549 0.70980392\n",
      " 0.70980392 0.71372549 0.70196078 0.64313725 0.58431373 0.61176471\n",
      " 0.62352941 0.6        0.6        0.65098039 0.67843137 0.6627451\n",
      " 0.6627451  0.63921569 0.59215686 0.41176471 0.55294118 0.71372549\n",
      " 0.68235294 0.68627451 0.67843137 0.67058824 0.67058824 0.65882353\n",
      " 0.65098039 0.64705882 0.71764706 0.71764706 0.71764706 0.71372549\n",
      " 0.67058824 0.62352941 0.50980392 0.49019608 0.52941176 0.5254902\n",
      " 0.50980392 0.5372549  0.57254902 0.57647059 0.64313725 0.64705882\n",
      " 0.57647059 0.40392157 0.59215686 0.71372549 0.69019608 0.69019608\n",
      " 0.68627451 0.67843137 0.6745098  0.66666667 0.65490196 0.65098039\n",
      " 0.72156863 0.7254902  0.7254902  0.69019608 0.68235294 0.63921569\n",
      " 0.57647059 0.56862745 0.55686275 0.55294118 0.55294118 0.52156863\n",
      " 0.49019608 0.49019608 0.52941176 0.52941176 0.43921569 0.41176471\n",
      " 0.70980392 0.70196078 0.69019608 0.69411765 0.68627451 0.68235294\n",
      " 0.67843137 0.67058824 0.6627451  0.65098039 0.7254902  0.72941176\n",
      " 0.71372549 0.66666667 0.63137255 0.51764706 0.49019608 0.5254902\n",
      " 0.50980392 0.56470588 0.61568627 0.62352941 0.59607843 0.55294118\n",
      " 0.51764706 0.4745098  0.28235294 0.55686275 0.69019608 0.68627451\n",
      " 0.71372549 0.69411765 0.69411765 0.69411765 0.68627451 0.6745098\n",
      " 0.6627451  0.65882353 0.72941176 0.72941176 0.67843137 0.65882353\n",
      " 0.62352941 0.50196078 0.45098039 0.46666667 0.42745098 0.43529412\n",
      " 0.54901961 0.60392157 0.61176471 0.6        0.54901961 0.4627451\n",
      " 0.25098039 0.2627451  0.4745098  0.58039216 0.62745098 0.70980392\n",
      " 0.69411765 0.69411765 0.69019608 0.67843137 0.6627451  0.69411765\n",
      " 0.74117647 0.69803922 0.64705882 0.67843137 0.63921569 0.54117647\n",
      " 0.50196078 0.50196078 0.48627451 0.45882353 0.43529412 0.41568627\n",
      " 0.4627451  0.54509804 0.52156863 0.36470588 0.15686275 0.20784314\n",
      " 0.42745098 0.57254902 0.46666667 0.68235294 0.70196078 0.69019608\n",
      " 0.68627451 0.68235294 0.69411765 0.65882353 0.72941176 0.65882353\n",
      " 0.6627451  0.6627451  0.60784314 0.59215686 0.56862745 0.54509804\n",
      " 0.52941176 0.50980392 0.4745098  0.43921569 0.40784314 0.37254902\n",
      " 0.39607843 0.23921569 0.15294118 0.27843137 0.38823529 0.44705882\n",
      " 0.40392157 0.69411765 0.70588235 0.69803922 0.69803922 0.69019608\n",
      " 0.50980392 0.67058824 0.65882353 0.65098039 0.63921569 0.63921569\n",
      " 0.61960784 0.58431373 0.54509804 0.5372549  0.54117647 0.51764706\n",
      " 0.47843137 0.45490196 0.41960784 0.28235294 0.25882353 0.22352941\n",
      " 0.21568627 0.24705882 0.30196078 0.37254902 0.60784314 0.74117647\n",
      " 0.72941176 0.69411765 0.61960784 0.45098039 0.3372549  0.62352941\n",
      " 0.63529412 0.63529412 0.62352941 0.65882353 0.66666667 0.52941176\n",
      " 0.41568627 0.38039216 0.32156863 0.3254902  0.40392157 0.43529412\n",
      " 0.34117647 0.26666667 0.25490196 0.21176471 0.34901961 0.56470588\n",
      " 0.60784314 0.67843137 0.71372549 0.61568627 0.64705882 0.57647059\n",
      " 0.42745098 0.5254902  0.6        0.56862745 0.64705882 0.61176471\n",
      " 0.63529412 0.6627451  0.59215686 0.39607843 0.28627451 0.21568627\n",
      " 0.21176471 0.25490196 0.36862745 0.38431373 0.27843137 0.25098039\n",
      " 0.20784314 0.44705882 0.74117647 0.71764706 0.69411765 0.62352941\n",
      " 0.57647059 0.55686275 0.58431373 0.49411765 0.62745098 0.6745098\n",
      " 0.50980392 0.36078431 0.64313725 0.6627451  0.67058824 0.60784314\n",
      " 0.44705882 0.32156863 0.27058824 0.20392157 0.24313725 0.29411765\n",
      " 0.35686275 0.32156863 0.27058824 0.24313725 0.54509804 0.74901961\n",
      " 0.60392157 0.47058824 0.4627451  0.5372549  0.57647059 0.63921569\n",
      " 0.56862745 0.62352941 0.70588235 0.49411765 0.34117647 0.34509804\n",
      " 0.63529412 0.66666667 0.63529412 0.52941176 0.38431373 0.30980392\n",
      " 0.25882353 0.22745098 0.2627451  0.26666667 0.25882353 0.25098039\n",
      " 0.30980392 0.57254902 0.74117647 0.58039216 0.51764706 0.53333333\n",
      " 0.52156863 0.56470588 0.60392157 0.72156863 0.54509804 0.50980392\n",
      " 0.4745098  0.36470588 0.4        0.39215686 0.63529412 0.62352941\n",
      " 0.56862745 0.43921569 0.33333333 0.29411765 0.26666667 0.25490196\n",
      " 0.25098039 0.24313725 0.30980392 0.48235294 0.75294118 0.77647059\n",
      " 0.71764706 0.49411765 0.31764706 0.48235294 0.5372549  0.50588235\n",
      " 0.60392157 0.85098039 0.52156863 0.34117647 0.34117647 0.35686275\n",
      " 0.39607843 0.36862745 0.6        0.54509804 0.45098039 0.34901961\n",
      " 0.30196078 0.28235294 0.25490196 0.30196078 0.41568627 0.5372549\n",
      " 0.68235294 0.7254902  0.57254902 0.4745098  0.43529412 0.43921569\n",
      " 0.39215686 0.30588235 0.47058824 0.61568627 0.65882353 0.41960784\n",
      " 0.38823529 0.4745098  0.52156863 0.38039216 0.37254902 0.47058824\n",
      " 0.52941176 0.45490196 0.37254902 0.30980392 0.27058824 0.3372549\n",
      " 0.54509804 0.67843137 0.78431373 0.7254902  0.68627451 0.77647059\n",
      " 0.48627451 0.4627451  0.36862745 0.54901961 0.52156863 0.32941176\n",
      " 0.27058824 0.58431373 0.50196078 0.34117647 0.36862745 0.63921569\n",
      " 0.68627451 0.40392157 0.52941176 0.58431373]\n"
     ]
    }
   ],
   "source": [
    "# Transformando a matriz da imagem em NumPy Array novamente\n",
    "\n",
    "pixels = pixels.flatten() \n",
    "print(pixels)"
   ]
  },
  {
   "cell_type": "markdown",
   "metadata": {},
   "source": [
    "#### Calculando a inversa da matriz de covariância"
   ]
  },
  {
   "cell_type": "code",
   "execution_count": 11,
   "metadata": {},
   "outputs": [
    {
     "name": "stdout",
     "output_type": "stream",
     "text": [
      "1000\n"
     ]
    }
   ],
   "source": [
    "# Juntando toda a amostra\n",
    "dataset = np.concatenate((train_matrix, test_matrix))\n",
    "\n",
    "print(len(dataset))"
   ]
  },
  {
   "cell_type": "code",
   "execution_count": 12,
   "metadata": {},
   "outputs": [
    {
     "name": "stdout",
     "output_type": "stream",
     "text": [
      "[[0.60784314 0.61568627 0.61176471 ... 0.40392157 0.52941176 0.58431373]\n",
      " [0.73333333 0.7372549  0.7372549  ... 0.76470588 0.76078431 0.76470588]\n",
      " [0.82745098 0.82745098 0.83137255 ... 0.87058824 0.89803922 0.63921569]\n",
      " ...\n",
      " [0.38823529 0.42745098 0.46666667 ... 0.4627451  0.5254902  0.6       ]\n",
      " [0.65098039 0.65098039 0.65882353 ... 0.61176471 0.54509804 0.38431373]\n",
      " [0.85882353 0.85882353 0.87058824 ... 0.16078431 0.16470588 0.16470588]]\n"
     ]
    }
   ],
   "source": [
    "# Realizando o procedimento de pré-processamento em todas as imagens do dataset conjugado \n",
    "\n",
    "arr1 = dataset[0]\n",
    "img_example = arr1\n",
    "pixels = img_example.reshape((28, 28))\n",
    "pixels = pixels/255\n",
    "pixels = pixels.flatten() \n",
    "\n",
    "processed_images = np.array([pixels])\n",
    "for index, arr in enumerate(dataset):\n",
    "    if index == 0:\n",
    "        continue\n",
    "    img_example = arr\n",
    "    pixels = img_example.reshape((28, 28))\n",
    "    \n",
    "    pixels = pixels/255\n",
    "    \n",
    "    pixels = pixels.flatten() \n",
    "    processed_images = np.append(processed_images, [pixels], axis=0)\n",
    "\n",
    "print(processed_images)\n",
    "\n"
   ]
  },
  {
   "cell_type": "code",
   "execution_count": 13,
   "metadata": {},
   "outputs": [
    {
     "name": "stdout",
     "output_type": "stream",
     "text": [
      "(784, 784)\n"
     ]
    }
   ],
   "source": [
    "# Calculando a matriz de covariância do dataset \n",
    "\n",
    "cov_X = np.cov(dataset, rowvar=False)\n",
    "print(cov_X.shape)\n"
   ]
  },
  {
   "cell_type": "code",
   "execution_count": 14,
   "metadata": {},
   "outputs": [
    {
     "name": "stdout",
     "output_type": "stream",
     "text": [
      "784\n"
     ]
    }
   ],
   "source": [
    "# Verificando se o posto é máximo para saber se será preciso remover colunas LD\n",
    "rank = np.linalg.matrix_rank(cov_X)\n",
    "print(rank)"
   ]
  },
  {
   "cell_type": "code",
   "execution_count": 15,
   "metadata": {},
   "outputs": [
    {
     "name": "stdout",
     "output_type": "stream",
     "text": [
      "(784, 784)\n",
      "SlogdetResult(sign=1.0, logabsdet=2610.128596689538)\n"
     ]
    }
   ],
   "source": [
    "# Verificando o determinante da matriz de covariância com slogdet, indicada para matrizes de tamanho grande, \n",
    "# pois utilizando a função det o resultado não era satisfatório (era sempre 0)\n",
    "print(cov_X.shape)\n",
    "det_X = np.linalg.slogdet(cov_X)\n",
    "print(det_X)"
   ]
  },
  {
   "cell_type": "code",
   "execution_count": 16,
   "metadata": {},
   "outputs": [
    {
     "name": "stdout",
     "output_type": "stream",
     "text": [
      "[[ 1.09195808e+01  2.92361783e-01 -1.15039412e-01 ... -2.18249453e-01\n",
      "   5.76787008e-02 -6.79482987e-02]\n",
      " [ 2.92361783e-01  1.40333810e+01 -3.35902537e+00 ...  1.55342090e-01\n",
      "  -5.08843366e-02 -3.27919316e-03]\n",
      " [-1.15039412e-01 -3.35902537e+00  1.34026929e+01 ...  1.31316902e-01\n",
      "  -2.28209314e-01  3.42670599e-01]\n",
      " ...\n",
      " [-2.18249453e-01  1.55342090e-01  1.31316902e-01 ...  6.95870122e-01\n",
      "  -4.27105960e-01  1.46332594e-01]\n",
      " [ 5.76787008e-02 -5.08843367e-02 -2.28209314e-01 ... -4.27105960e-01\n",
      "   5.94379155e-01 -3.09164476e-01]\n",
      " [-6.79482987e-02 -3.27919314e-03  3.42670599e-01 ...  1.46332594e-01\n",
      "  -3.09164476e-01  2.89470336e-01]]\n"
     ]
    }
   ],
   "source": [
    "inv_X = np.linalg.inv(cov_X)\n",
    "print(inv_X)"
   ]
  },
  {
   "cell_type": "markdown",
   "metadata": {},
   "source": [
    "#### Verificando se a matriz inversa realmente é a inversa, multiplicando a inversa pela de covariancia e verificando se o resultado é uma matriz identidade (considerando 10 casas decimais)"
   ]
  },
  {
   "cell_type": "code",
   "execution_count": 17,
   "metadata": {},
   "outputs": [
    {
     "name": "stdout",
     "output_type": "stream",
     "text": [
      "[[ 1.00000000e+00 -1.36139988e-11 -1.04733999e-11 ... -8.52651283e-14\n",
      "  -2.58282284e-12  6.11066753e-13]\n",
      " [ 1.06865627e-11  1.00000000e+00  3.89377419e-12 ...  7.10542736e-14\n",
      "  -1.76214598e-12  7.94031507e-13]\n",
      " [ 6.25277607e-13 -1.06581410e-11  1.00000000e+00 ...  1.13686838e-13\n",
      "   6.89226454e-13  1.10134124e-13]\n",
      " ...\n",
      " [-1.81898940e-12 -3.29691829e-12  2.55795385e-12 ...  1.00000000e+00\n",
      "   2.38031816e-12 -3.73034936e-13]\n",
      " [ 1.81898940e-12  1.59161573e-12  5.79802872e-12 ...  2.33058017e-12\n",
      "   1.00000000e+00  4.12114787e-13]\n",
      " [-2.38742359e-12 -5.79802872e-12  1.93267624e-12 ...  2.27373675e-13\n",
      "   1.26476607e-12  1.00000000e+00]]\n"
     ]
    }
   ],
   "source": [
    "p = np.dot(cov_X, inv_X)\n",
    "print(p)"
   ]
  },
  {
   "cell_type": "code",
   "execution_count": 18,
   "metadata": {},
   "outputs": [
    {
     "name": "stdout",
     "output_type": "stream",
     "text": [
      "True\n"
     ]
    }
   ],
   "source": [
    "def identidade(matrix, tol=1e-10):\n",
    "  \n",
    "    if len(matrix) != len(matrix[0]):\n",
    "        return False\n",
    "    \n",
    "    n = len(matrix)\n",
    "    \n",
    "    for i in range(n):\n",
    "        for j in range(n):\n",
    "            if i == j and not math.isclose(matrix[i][j], 1, abs_tol=tol):\n",
    "                return False\n",
    "            elif i != j and not math.isclose(matrix[i][j], 0, abs_tol=tol):\n",
    "                return False\n",
    "    \n",
    "    return True\n",
    "\n",
    "print(identidade(p))"
   ]
  },
  {
   "cell_type": "markdown",
   "metadata": {},
   "source": [
    "#### Cálculo da Distância de Mahalanobis"
   ]
  },
  {
   "cell_type": "code",
   "execution_count": 19,
   "metadata": {},
   "outputs": [
    {
     "name": "stdout",
     "output_type": "stream",
     "text": [
      "[[0.60784314 0.61568627 0.61176471 ... 0.40392157 0.52941176 0.58431373]\n",
      " [0.73333333 0.7372549  0.7372549  ... 0.76470588 0.76078431 0.76470588]\n",
      " [0.82745098 0.82745098 0.83137255 ... 0.87058824 0.89803922 0.63921569]\n",
      " ...\n",
      " [0.58431373 0.59607843 0.60392157 ... 0.09411765 0.09019608 0.08627451]\n",
      " [0.4627451  0.48235294 0.49803922 ... 0.78431373 0.78039216 0.78039216]\n",
      " [0.         0.10196078 0.18039216 ... 0.71372549 0.71372549 0.71764706]]\n",
      "[[0.49411765 0.50196078 0.51372549 ... 0.72156863 0.71372549 0.70588235]\n",
      " [0.33333333 0.34509804 0.36078431 ... 0.88235294 0.87843137 0.87058824]\n",
      " [0.79607843 0.80392157 0.81176471 ... 0.94117647 0.99215686 1.        ]\n",
      " ...\n",
      " [0.38823529 0.42745098 0.46666667 ... 0.4627451  0.5254902  0.6       ]\n",
      " [0.65098039 0.65098039 0.65882353 ... 0.61176471 0.54509804 0.38431373]\n",
      " [0.85882353 0.85882353 0.87058824 ... 0.16078431 0.16470588 0.16470588]]\n"
     ]
    }
   ],
   "source": [
    "arr1 = train_matrix[0]\n",
    "img_example = arr1\n",
    "pixels = img_example.reshape((28, 28))\n",
    "pixels = pixels/255\n",
    "pixels = pixels.flatten() \n",
    "\n",
    "processed_train = np.array([pixels])\n",
    "for index, arr in enumerate(train_matrix):\n",
    "    if index == 0:\n",
    "        continue\n",
    "    img_example = arr\n",
    "    pixels = img_example.reshape((28, 28))\n",
    "    \n",
    "    pixels = pixels/255\n",
    "\n",
    "    \n",
    "    pixels = pixels.flatten() \n",
    "    processed_train = np.append(processed_train, [pixels], axis=0)\n",
    "\n",
    "print(processed_train)\n",
    "\n",
    "arr1 = test_matrix[0]\n",
    "img_example = arr1\n",
    "pixels = img_example.reshape((28, 28))\n",
    "pixels = pixels/255\n",
    "pixels = pixels.flatten() \n",
    "\n",
    "processed_test = np.array([pixels])\n",
    "for index, arr in enumerate(test_matrix):\n",
    "    if index == 0:\n",
    "        continue\n",
    "    img_example = arr\n",
    "    pixels = img_example.reshape((28, 28))\n",
    "    \n",
    "    pixels = pixels/255\n",
    "\n",
    "    pixels = pixels.flatten() \n",
    "    processed_test = np.append(processed_test, [pixels], axis=0)\n",
    "\n",
    "print(processed_test)\n"
   ]
  },
  {
   "cell_type": "code",
   "execution_count": 20,
   "metadata": {},
   "outputs": [
    {
     "name": "stdout",
     "output_type": "stream",
     "text": [
      "[0, 0, 0, 0, 0, 0, 0, 16, 0, 0, 16, 0, 0, 0, 0, 0, 0, 0, 16, 0, 0, 0, 0, 0, 0, 0, 0, 0, 0, 0, 0, 0, 0, 0, 21, 0, 0, 0, 0, 0, 0, 0, 0, 21, 0, 21, 0, 0, 0, 0, 0, 0, 0, 0, 0, 0, 0, 0, 0, 0, 16, 0, 0, 0, 0, 0, 0, 0, 0, 0, 16, 0, 0, 0, 0, 0, 0, 0, 0, 0, 0, 0, 0, 0, 0, 0, 0, 0, 0, 0, 0, 0, 0, 0, 19, 20, 16, 0, 0, 0, 0, 0, 0, 0, 0, 0, 0, 0, 0, 0, 0, 0, 0, 0, 0, 0, 0, 0, 0, 16, 21, 0, 0, 0, 0, 0, 0, 16, 0, 0, 0, 0, 0, 0, 0, 0, 0, 0, 0, 21, 21, 0, 0, 0, 0, 16, 0, 0, 0, 0, 0, 16, 0, 0, 0, 0, 0, 0, 0, 0, 0, 0, 0, 21, 21, 0, 0, 0, 0, 0, 0, 0, 0, 0, 0, 0, 0, 0, 0, 16, 0, 0, 0, 0, 0, 0, 0, 0, 0, 16, 0, 0, 0, 0, 16, 0, 0, 0, 0, 0, 0, 0, 0, 0, 0, 0, 0, 0, 0, 0, 0, 0, 0, 0, 0, 0, 0, 0, 16, 0, 21, 0, 0, 0, 0, 0, 0, 0, 0, 0, 0, 0, 0, 0, 0, 0, 0, 0, 0, 16, 0, 0, 0, 0, 0, 0, 0, 0, 0, 0, 0, 0, 16, 16, 0, 0, 0, 0, 16, 16, 0, 0, 0, 0, 0, 21, 21, 0, 21, 0, 0, 0, 0, 0, 0, 0, 0, 0, 21, 0, 16, 0, 0, 0, 0, 16, 0, 0, 0, 13, 0, 0, 0, 0, 0, 0, 0, 0, 0, 0]\n",
      "CPU times: total: 59min 35s\n",
      "Wall time: 2h 54min 31s\n"
     ]
    }
   ],
   "source": [
    "%%time\n",
    "\n",
    "def mahalanobis_distance(x, y, covariance_matrix):\n",
    "    diff = x - y\n",
    "\n",
    "    cov_inv = np.linalg.inv(covariance_matrix)\n",
    "    \n",
    "    distance = np.sqrt(np.dot(np.dot(diff.T, cov_inv), diff))\n",
    "    \n",
    "    return distance\n",
    "\n",
    "\n",
    "def knn (x_train, x_test, y_train, cov):\n",
    "    classes_prediction = []\n",
    "    for test_vector in x_test:\n",
    "        distances_classes = []\n",
    "        for index, train_vector in enumerate(x_train):\n",
    "            dist = mahalanobis_distance(train_vector, test_vector, cov)\n",
    "            distances_classes.append((dist, y_train[index]))\n",
    "        distances_classes.sort()\n",
    "        classes_prediction.append(distances_classes[0][1])\n",
    "    print(classes_prediction)\n",
    "    return classes_prediction\n",
    "\n",
    "\n",
    "prediction = knn(train_matrix, test_matrix, classes_arr, cov_X)"
   ]
  },
  {
   "cell_type": "code",
   "execution_count": 7,
   "metadata": {},
   "outputs": [],
   "source": [
    "def data (tam_train, tam_test):\n",
    "    train = pd.read_csv('sign_mnist_train.csv')\n",
    "\n",
    "    classes_arr = train['label']\n",
    "\n",
    "    train.drop(train.index[tam_train:], inplace=True)\n",
    "    train.drop(train.index[0], inplace=True)\n",
    "    train.drop(columns=['label'], inplace=True)\n",
    "\n",
    "    train_matrix = np.asarray(train)\n",
    "\n",
    "    test = pd.read_csv('sign_mnist_test.csv')\n",
    "\n",
    "    test_classes_arr = test['label']\n",
    "\n",
    "    test_ini = tam_train+1\n",
    "    test_fi = tam_train+tam_test+1\n",
    "    test.drop(test.index[test_ini:test_fi], inplace=True)\n",
    "    test.drop(test.index[0], inplace=True)\n",
    "    test.drop(columns=['label'], inplace=True)\n",
    "\n",
    "    test_matrix = np.asarray(test)\n",
    "\n",
    "    return classes_arr, train_matrix, test_classes_arr, test_matrix\n",
    "\n",
    "def S_matrix (train_matrix, test_matrix):\n",
    "    dataset = np.concatenate((train_matrix, test_matrix))\n",
    "\n",
    "    arr1 = dataset[0]\n",
    "    img_example = arr1\n",
    "    pixels = img_example.reshape((28, 28))\n",
    "    pixels = pixels/255\n",
    "    pixels = pixels.flatten() \n",
    "\n",
    "    processed_images = np.array([pixels])\n",
    "    for index, arr in enumerate(dataset):\n",
    "        if index == 0:\n",
    "            continue\n",
    "        img_example = arr\n",
    "        pixels = img_example.reshape((28, 28))\n",
    "        \n",
    "        pixels = pixels/255\n",
    "        \n",
    "        pixels = pixels.flatten() \n",
    "        processed_images = np.append(processed_images, [pixels], axis=0)\n",
    "\n",
    "    cov_X = np.cov(processed_images, rowvar=False)\n",
    "\n",
    "    rank = np.linalg.matrix_rank(cov_X)\n",
    "\n",
    "    if (rank != 784):\n",
    "        return\n",
    "\n",
    "    else:\n",
    "        inv_X = np.linalg.inv(cov_X)\n",
    "        return inv_X\n",
    "\n",
    "def mahalanobis_distance(x, y, covariance_matrix):\n",
    "    diff = x - y\n",
    "\n",
    "    cov_inv = np.linalg.inv(covariance_matrix)\n",
    "    \n",
    "    distance = np.sqrt(np.dot(np.dot(diff.T, cov_inv), diff))\n",
    "    \n",
    "    return distance\n",
    "\n",
    "\n",
    "def knn (x_train, x_test, y_train, cov):\n",
    "    classes_prediction = []\n",
    "    for test_vector in x_test:\n",
    "        distances_classes = []\n",
    "        for index, train_vector in enumerate(x_train):\n",
    "            dist = mahalanobis_distance(train_vector, test_vector, cov)\n",
    "            distances_classes.append((dist, y_train[index]))\n",
    "        distances_classes.sort()\n",
    "        classes_prediction.append(distances_classes[0][1])\n",
    "    print(classes_prediction)\n",
    "    return classes_prediction\n",
    "\n",
    "def calculo_mahalanobis(train_matrix, test_matrix, classes_arr, cov_X):\n",
    "    arr1 = train_matrix[0]\n",
    "    img_example = arr1\n",
    "    pixels = img_example.reshape((28, 28))\n",
    "    pixels = pixels/255\n",
    "    pixels = pixels.flatten() \n",
    "\n",
    "    processed_train = np.array([pixels])\n",
    "    for index, arr in enumerate(train_matrix):\n",
    "        if index == 0:\n",
    "            continue\n",
    "        img_example = arr\n",
    "        pixels = img_example.reshape((28, 28))\n",
    "        \n",
    "        pixels = pixels/255\n",
    "\n",
    "        \n",
    "        pixels = pixels.flatten() \n",
    "        processed_train = np.append(processed_train, [pixels], axis=0)\n",
    "\n",
    "    arr1 = test_matrix[0]\n",
    "    img_example = arr1\n",
    "    pixels = img_example.reshape((28, 28))\n",
    "    pixels = pixels/255\n",
    "    pixels = pixels.flatten() \n",
    "\n",
    "    processed_test = np.array([pixels])\n",
    "    for index, arr in enumerate(test_matrix):\n",
    "        if index == 0:\n",
    "            continue\n",
    "        img_example = arr\n",
    "        pixels = img_example.reshape((28, 28))\n",
    "        \n",
    "        pixels = pixels/255\n",
    "\n",
    "        pixels = pixels.flatten() \n",
    "        processed_test = np.append(processed_test, [pixels], axis=0)\n",
    "\n",
    "    prediction = knn(processed_train, processed_test, classes_arr, cov_X)\n",
    "    return prediction\n",
    "\n",
    "\n",
    "def test_mahalanobis(tam_train, tam_test):\n",
    "    classes_arr, train_matrix, test_classes_arr, test_matrix = data(tam_train, tam_test)\n",
    "    S = S_matrix(train_matrix, test_matrix)\n",
    "    resultado = calculo_mahalanobis(train_matrix, test_matrix, classes_arr, S)\n",
    "    return resultado\n"
   ]
  },
  {
   "cell_type": "code",
   "execution_count": 8,
   "metadata": {},
   "outputs": [
    {
     "ename": "KeyboardInterrupt",
     "evalue": "",
     "output_type": "error",
     "traceback": [
      "\u001b[1;31m---------------------------------------------------------------------------\u001b[0m",
      "\u001b[1;31mKeyboardInterrupt\u001b[0m                         Traceback (most recent call last)",
      "File \u001b[1;32m<timed exec>:1\u001b[0m\n",
      "Cell \u001b[1;32mIn[7], line 125\u001b[0m, in \u001b[0;36mtest_mahalanobis\u001b[1;34m(tam_train, tam_test)\u001b[0m\n\u001b[0;32m    123\u001b[0m classes_arr, train_matrix, test_classes_arr, test_matrix \u001b[38;5;241m=\u001b[39m data(tam_train, tam_test)\n\u001b[0;32m    124\u001b[0m S \u001b[38;5;241m=\u001b[39m S_matrix(train_matrix, test_matrix)\n\u001b[1;32m--> 125\u001b[0m resultado \u001b[38;5;241m=\u001b[39m \u001b[43mcalculo_mahalanobis\u001b[49m\u001b[43m(\u001b[49m\u001b[43mtrain_matrix\u001b[49m\u001b[43m,\u001b[49m\u001b[43m \u001b[49m\u001b[43mtest_matrix\u001b[49m\u001b[43m,\u001b[49m\u001b[43m \u001b[49m\u001b[43mclasses_arr\u001b[49m\u001b[43m,\u001b[49m\u001b[43m \u001b[49m\u001b[43mS\u001b[49m\u001b[43m)\u001b[49m\n\u001b[0;32m    126\u001b[0m \u001b[38;5;28;01mreturn\u001b[39;00m resultado\n",
      "Cell \u001b[1;32mIn[7], line 118\u001b[0m, in \u001b[0;36mcalculo_mahalanobis\u001b[1;34m(train_matrix, test_matrix, classes_arr, cov_X)\u001b[0m\n\u001b[0;32m    115\u001b[0m     pixels \u001b[38;5;241m=\u001b[39m pixels\u001b[38;5;241m.\u001b[39mflatten() \n\u001b[0;32m    116\u001b[0m     processed_test \u001b[38;5;241m=\u001b[39m np\u001b[38;5;241m.\u001b[39mappend(processed_test, [pixels], axis\u001b[38;5;241m=\u001b[39m\u001b[38;5;241m0\u001b[39m)\n\u001b[1;32m--> 118\u001b[0m prediction \u001b[38;5;241m=\u001b[39m \u001b[43mknn\u001b[49m\u001b[43m(\u001b[49m\u001b[43mprocessed_train\u001b[49m\u001b[43m,\u001b[49m\u001b[43m \u001b[49m\u001b[43mprocessed_test\u001b[49m\u001b[43m,\u001b[49m\u001b[43m \u001b[49m\u001b[43mclasses_arr\u001b[49m\u001b[43m,\u001b[49m\u001b[43m \u001b[49m\u001b[43mcov_X\u001b[49m\u001b[43m)\u001b[49m\n\u001b[0;32m    119\u001b[0m \u001b[38;5;28;01mreturn\u001b[39;00m prediction\n",
      "Cell \u001b[1;32mIn[7], line 73\u001b[0m, in \u001b[0;36mknn\u001b[1;34m(x_train, x_test, y_train, cov)\u001b[0m\n\u001b[0;32m     71\u001b[0m distances_classes \u001b[38;5;241m=\u001b[39m []\n\u001b[0;32m     72\u001b[0m \u001b[38;5;28;01mfor\u001b[39;00m index, train_vector \u001b[38;5;129;01min\u001b[39;00m \u001b[38;5;28menumerate\u001b[39m(x_train):\n\u001b[1;32m---> 73\u001b[0m     dist \u001b[38;5;241m=\u001b[39m \u001b[43mmahalanobis_distance\u001b[49m\u001b[43m(\u001b[49m\u001b[43mtrain_vector\u001b[49m\u001b[43m,\u001b[49m\u001b[43m \u001b[49m\u001b[43mtest_vector\u001b[49m\u001b[43m,\u001b[49m\u001b[43m \u001b[49m\u001b[43mcov\u001b[49m\u001b[43m)\u001b[49m\n\u001b[0;32m     74\u001b[0m     distances_classes\u001b[38;5;241m.\u001b[39mappend((dist, y_train[index]))\n\u001b[0;32m     75\u001b[0m distances_classes\u001b[38;5;241m.\u001b[39msort()\n",
      "Cell \u001b[1;32mIn[7], line 61\u001b[0m, in \u001b[0;36mmahalanobis_distance\u001b[1;34m(x, y, covariance_matrix)\u001b[0m\n\u001b[0;32m     58\u001b[0m \u001b[38;5;28;01mdef\u001b[39;00m \u001b[38;5;21mmahalanobis_distance\u001b[39m(x, y, covariance_matrix):\n\u001b[0;32m     59\u001b[0m     diff \u001b[38;5;241m=\u001b[39m x \u001b[38;5;241m-\u001b[39m y\n\u001b[1;32m---> 61\u001b[0m     cov_inv \u001b[38;5;241m=\u001b[39m \u001b[43mnp\u001b[49m\u001b[38;5;241;43m.\u001b[39;49m\u001b[43mlinalg\u001b[49m\u001b[38;5;241;43m.\u001b[39;49m\u001b[43minv\u001b[49m\u001b[43m(\u001b[49m\u001b[43mcovariance_matrix\u001b[49m\u001b[43m)\u001b[49m\n\u001b[0;32m     63\u001b[0m     distance \u001b[38;5;241m=\u001b[39m np\u001b[38;5;241m.\u001b[39msqrt(np\u001b[38;5;241m.\u001b[39mdot(np\u001b[38;5;241m.\u001b[39mdot(diff\u001b[38;5;241m.\u001b[39mT, cov_inv), diff))\n\u001b[0;32m     65\u001b[0m     \u001b[38;5;28;01mreturn\u001b[39;00m distance\n",
      "File \u001b[1;32m~\\AppData\\Local\\Packages\\PythonSoftwareFoundation.Python.3.12_qbz5n2kfra8p0\\LocalCache\\local-packages\\Python312\\site-packages\\numpy\\linalg\\linalg.py:561\u001b[0m, in \u001b[0;36minv\u001b[1;34m(a)\u001b[0m\n\u001b[0;32m    559\u001b[0m signature \u001b[38;5;241m=\u001b[39m \u001b[38;5;124m'\u001b[39m\u001b[38;5;124mD->D\u001b[39m\u001b[38;5;124m'\u001b[39m \u001b[38;5;28;01mif\u001b[39;00m isComplexType(t) \u001b[38;5;28;01melse\u001b[39;00m \u001b[38;5;124m'\u001b[39m\u001b[38;5;124md->d\u001b[39m\u001b[38;5;124m'\u001b[39m\n\u001b[0;32m    560\u001b[0m extobj \u001b[38;5;241m=\u001b[39m get_linalg_error_extobj(_raise_linalgerror_singular)\n\u001b[1;32m--> 561\u001b[0m ainv \u001b[38;5;241m=\u001b[39m \u001b[43m_umath_linalg\u001b[49m\u001b[38;5;241;43m.\u001b[39;49m\u001b[43minv\u001b[49m\u001b[43m(\u001b[49m\u001b[43ma\u001b[49m\u001b[43m,\u001b[49m\u001b[43m \u001b[49m\u001b[43msignature\u001b[49m\u001b[38;5;241;43m=\u001b[39;49m\u001b[43msignature\u001b[49m\u001b[43m,\u001b[49m\u001b[43m \u001b[49m\u001b[43mextobj\u001b[49m\u001b[38;5;241;43m=\u001b[39;49m\u001b[43mextobj\u001b[49m\u001b[43m)\u001b[49m\n\u001b[0;32m    562\u001b[0m \u001b[38;5;28;01mreturn\u001b[39;00m wrap(ainv\u001b[38;5;241m.\u001b[39mastype(result_t, copy\u001b[38;5;241m=\u001b[39m\u001b[38;5;28;01mFalse\u001b[39;00m))\n",
      "\u001b[1;31mKeyboardInterrupt\u001b[0m: "
     ]
    }
   ],
   "source": [
    "%%time\n",
    "resultado_100 = test_mahalanobis(71, 31)\n",
    "print(resultado_100)\n"
   ]
  },
  {
   "cell_type": "code",
   "execution_count": null,
   "metadata": {},
   "outputs": [
    {
     "ename": "KeyboardInterrupt",
     "evalue": "",
     "output_type": "error",
     "traceback": [
      "\u001b[1;31m---------------------------------------------------------------------------\u001b[0m",
      "\u001b[1;31mKeyboardInterrupt\u001b[0m                         Traceback (most recent call last)",
      "File \u001b[1;32m<timed exec>:1\u001b[0m\n",
      "Cell \u001b[1;32mIn[4], line 123\u001b[0m, in \u001b[0;36mtest_mahalanobis\u001b[1;34m(tam_train, tam_test)\u001b[0m\n\u001b[0;32m    121\u001b[0m classes_arr, train_matrix, test_classes_arr, test_matrix \u001b[38;5;241m=\u001b[39m data(tam_train, tam_test)\n\u001b[0;32m    122\u001b[0m S \u001b[38;5;241m=\u001b[39m S_matrix(train_matrix, test_matrix)\n\u001b[1;32m--> 123\u001b[0m resultado \u001b[38;5;241m=\u001b[39m \u001b[43mcalculo_mahalanobis\u001b[49m\u001b[43m(\u001b[49m\u001b[43mtrain_matrix\u001b[49m\u001b[43m,\u001b[49m\u001b[43m \u001b[49m\u001b[43mtest_matrix\u001b[49m\u001b[43m,\u001b[49m\u001b[43m \u001b[49m\u001b[43mclasses_arr\u001b[49m\u001b[43m,\u001b[49m\u001b[43m \u001b[49m\u001b[43mS\u001b[49m\u001b[43m)\u001b[49m\n\u001b[0;32m    124\u001b[0m \u001b[38;5;28;01mreturn\u001b[39;00m resultado\n",
      "Cell \u001b[1;32mIn[4], line 116\u001b[0m, in \u001b[0;36mcalculo_mahalanobis\u001b[1;34m(train_matrix, test_matrix, classes_arr, cov_X)\u001b[0m\n\u001b[0;32m    113\u001b[0m     pixels \u001b[38;5;241m=\u001b[39m pixels\u001b[38;5;241m.\u001b[39mflatten() \n\u001b[0;32m    114\u001b[0m     processed_test \u001b[38;5;241m=\u001b[39m np\u001b[38;5;241m.\u001b[39mappend(processed_test, [pixels], axis\u001b[38;5;241m=\u001b[39m\u001b[38;5;241m0\u001b[39m)\n\u001b[1;32m--> 116\u001b[0m prediction \u001b[38;5;241m=\u001b[39m \u001b[43mknn\u001b[49m\u001b[43m(\u001b[49m\u001b[43mprocessed_train\u001b[49m\u001b[43m,\u001b[49m\u001b[43m \u001b[49m\u001b[43mprocessed_test\u001b[49m\u001b[43m,\u001b[49m\u001b[43m \u001b[49m\u001b[43mclasses_arr\u001b[49m\u001b[43m,\u001b[49m\u001b[43m \u001b[49m\u001b[43mcov_X\u001b[49m\u001b[43m)\u001b[49m\n\u001b[0;32m    117\u001b[0m \u001b[38;5;28;01mreturn\u001b[39;00m prediction\n",
      "Cell \u001b[1;32mIn[4], line 71\u001b[0m, in \u001b[0;36mknn\u001b[1;34m(x_train, x_test, y_train, cov)\u001b[0m\n\u001b[0;32m     69\u001b[0m distances_classes \u001b[38;5;241m=\u001b[39m []\n\u001b[0;32m     70\u001b[0m \u001b[38;5;28;01mfor\u001b[39;00m index, train_vector \u001b[38;5;129;01min\u001b[39;00m \u001b[38;5;28menumerate\u001b[39m(x_train):\n\u001b[1;32m---> 71\u001b[0m     dist \u001b[38;5;241m=\u001b[39m \u001b[43mmahalanobis_distance\u001b[49m\u001b[43m(\u001b[49m\u001b[43mtrain_vector\u001b[49m\u001b[43m,\u001b[49m\u001b[43m \u001b[49m\u001b[43mtest_vector\u001b[49m\u001b[43m,\u001b[49m\u001b[43m \u001b[49m\u001b[43mcov\u001b[49m\u001b[43m)\u001b[49m\n\u001b[0;32m     72\u001b[0m     distances_classes\u001b[38;5;241m.\u001b[39mappend((dist, y_train[index]))\n\u001b[0;32m     73\u001b[0m distances_classes\u001b[38;5;241m.\u001b[39msort()\n",
      "Cell \u001b[1;32mIn[4], line 59\u001b[0m, in \u001b[0;36mmahalanobis_distance\u001b[1;34m(x, y, covariance_matrix)\u001b[0m\n\u001b[0;32m     56\u001b[0m \u001b[38;5;28;01mdef\u001b[39;00m \u001b[38;5;21mmahalanobis_distance\u001b[39m(x, y, covariance_matrix):\n\u001b[0;32m     57\u001b[0m     diff \u001b[38;5;241m=\u001b[39m x \u001b[38;5;241m-\u001b[39m y\n\u001b[1;32m---> 59\u001b[0m     cov_inv \u001b[38;5;241m=\u001b[39m \u001b[43mnp\u001b[49m\u001b[38;5;241;43m.\u001b[39;49m\u001b[43mlinalg\u001b[49m\u001b[38;5;241;43m.\u001b[39;49m\u001b[43minv\u001b[49m\u001b[43m(\u001b[49m\u001b[43mcovariance_matrix\u001b[49m\u001b[43m)\u001b[49m\n\u001b[0;32m     61\u001b[0m     distance \u001b[38;5;241m=\u001b[39m np\u001b[38;5;241m.\u001b[39msqrt(np\u001b[38;5;241m.\u001b[39mdot(np\u001b[38;5;241m.\u001b[39mdot(diff\u001b[38;5;241m.\u001b[39mT, cov_inv), diff))\n\u001b[0;32m     63\u001b[0m     \u001b[38;5;28;01mreturn\u001b[39;00m distance\n",
      "File \u001b[1;32m~\\AppData\\Local\\Packages\\PythonSoftwareFoundation.Python.3.12_qbz5n2kfra8p0\\LocalCache\\local-packages\\Python312\\site-packages\\numpy\\linalg\\linalg.py:561\u001b[0m, in \u001b[0;36minv\u001b[1;34m(a)\u001b[0m\n\u001b[0;32m    559\u001b[0m signature \u001b[38;5;241m=\u001b[39m \u001b[38;5;124m'\u001b[39m\u001b[38;5;124mD->D\u001b[39m\u001b[38;5;124m'\u001b[39m \u001b[38;5;28;01mif\u001b[39;00m isComplexType(t) \u001b[38;5;28;01melse\u001b[39;00m \u001b[38;5;124m'\u001b[39m\u001b[38;5;124md->d\u001b[39m\u001b[38;5;124m'\u001b[39m\n\u001b[0;32m    560\u001b[0m extobj \u001b[38;5;241m=\u001b[39m get_linalg_error_extobj(_raise_linalgerror_singular)\n\u001b[1;32m--> 561\u001b[0m ainv \u001b[38;5;241m=\u001b[39m \u001b[43m_umath_linalg\u001b[49m\u001b[38;5;241;43m.\u001b[39;49m\u001b[43minv\u001b[49m\u001b[43m(\u001b[49m\u001b[43ma\u001b[49m\u001b[43m,\u001b[49m\u001b[43m \u001b[49m\u001b[43msignature\u001b[49m\u001b[38;5;241;43m=\u001b[39;49m\u001b[43msignature\u001b[49m\u001b[43m,\u001b[49m\u001b[43m \u001b[49m\u001b[43mextobj\u001b[49m\u001b[38;5;241;43m=\u001b[39;49m\u001b[43mextobj\u001b[49m\u001b[43m)\u001b[49m\n\u001b[0;32m    562\u001b[0m \u001b[38;5;28;01mreturn\u001b[39;00m wrap(ainv\u001b[38;5;241m.\u001b[39mastype(result_t, copy\u001b[38;5;241m=\u001b[39m\u001b[38;5;28;01mFalse\u001b[39;00m))\n",
      "\u001b[1;31mKeyboardInterrupt\u001b[0m: "
     ]
    }
   ],
   "source": [
    "%%time\n",
    "resultado_1000 = test_mahalanobis(701, 301)\n",
    "print(resultado_1000)\n"
   ]
  },
  {
   "cell_type": "code",
   "execution_count": null,
   "metadata": {},
   "outputs": [],
   "source": [
    "%%time\n",
    "resultado_3000 = test_mahalanobis(2101, 901)\n",
    "print(resultado_3000)"
   ]
  },
  {
   "cell_type": "code",
   "execution_count": 1,
   "metadata": {},
   "outputs": [
    {
     "ename": "NameError",
     "evalue": "name 'pd' is not defined",
     "output_type": "error",
     "traceback": [
      "\u001b[1;31m---------------------------------------------------------------------------\u001b[0m",
      "\u001b[1;31mNameError\u001b[0m                                 Traceback (most recent call last)",
      "Cell \u001b[1;32mIn[1], line 1\u001b[0m\n\u001b[1;32m----> 1\u001b[0m DF \u001b[38;5;241m=\u001b[39m \u001b[43mpd\u001b[49m\u001b[38;5;241m.\u001b[39mDataFrame(prediction) \n\u001b[0;32m      2\u001b[0m DF\u001b[38;5;241m.\u001b[39mto_csv(\u001b[38;5;124m\"\u001b[39m\u001b[38;5;124mprediction_mahalanobis.csv\u001b[39m\u001b[38;5;124m\"\u001b[39m)\n",
      "\u001b[1;31mNameError\u001b[0m: name 'pd' is not defined"
     ]
    }
   ],
   "source": [
    "DF = pd.DataFrame(prediction) \n",
    "DF.to_csv(\"prediction_mahalanobis.csv\")"
   ]
  },
  {
   "cell_type": "code",
   "execution_count": 22,
   "metadata": {},
   "outputs": [],
   "source": [
    "def euclidian_distance(x, y):\n",
    "    len_x = len(x)\n",
    "    len_y = len(y)\n",
    "    if (len_x < len_y):\n",
    "        x.resize(len_y, refcheck=False)\n",
    "        x[len_x:(len_y-1)] = 0\n",
    "    elif (len_y < len_x):\n",
    "        y.resize(len_x, refcheck=False)\n",
    "        y[len_y:(len_x-1)] = 0\n",
    "    if( len(x) == len(y)):\n",
    "        diff = 0\n",
    "        for index, value_x in enumerate(x):\n",
    "            diff+=(value_x-y[index])*(value_x-y[index])\n",
    "        return np.sqrt(diff)\n",
    "    else:\n",
    "        raise Exception(\"Seomething went wrong with euclidian distance\")\n",
    "\n",
    "def knn (x_train, x_test, y_train):\n",
    "    classes_prediction = []\n",
    "    for test_vector in x_test:\n",
    "        distances_classes = []\n",
    "        for index, train_vector in enumerate(x_train):\n",
    "            # this euclidian_distance was compared with the euclidian function from scipy\n",
    "            dist = euclidian_distance(train_vector, test_vector)\n",
    "            distances_classes.append((dist, y_train[index+1]))\n",
    "        distances_classes.sort()\n",
    "        classes_prediction.append(distances_classes[0][1])\n",
    "    return classes_prediction"
   ]
  },
  {
   "cell_type": "code",
   "execution_count": 23,
   "metadata": {},
   "outputs": [
    {
     "ename": "NameError",
     "evalue": "name 'classes_prediction' is not defined",
     "output_type": "error",
     "traceback": [
      "\u001b[1;31m---------------------------------------------------------------------------\u001b[0m",
      "\u001b[1;31mNameError\u001b[0m                                 Traceback (most recent call last)",
      "Cell \u001b[1;32mIn[23], line 1\u001b[0m\n\u001b[1;32m----> 1\u001b[0m DF \u001b[38;5;241m=\u001b[39m pd\u001b[38;5;241m.\u001b[39mDataFrame(\u001b[43mclasses_prediction\u001b[49m) \n\u001b[0;32m      2\u001b[0m DF\u001b[38;5;241m.\u001b[39mto_csv(\u001b[38;5;124m\"\u001b[39m\u001b[38;5;124mprediction_euclidian.csv\u001b[39m\u001b[38;5;124m\"\u001b[39m)\n",
      "\u001b[1;31mNameError\u001b[0m: name 'classes_prediction' is not defined"
     ]
    }
   ],
   "source": [
    "DF = pd.DataFrame(classes_prediction) \n",
    "DF.to_csv(\"prediction_euclidian.csv\")"
   ]
  }
 ],
 "metadata": {
  "kernelspec": {
   "display_name": "Python 3 (ipykernel)",
   "language": "python",
   "name": "python3"
  },
  "language_info": {
   "codemirror_mode": {
    "name": "ipython",
    "version": 3
   },
   "file_extension": ".py",
   "mimetype": "text/x-python",
   "name": "python",
   "nbconvert_exporter": "python",
   "pygments_lexer": "ipython3",
   "version": "3.10.12"
  }
 },
 "nbformat": 4,
 "nbformat_minor": 4
}
