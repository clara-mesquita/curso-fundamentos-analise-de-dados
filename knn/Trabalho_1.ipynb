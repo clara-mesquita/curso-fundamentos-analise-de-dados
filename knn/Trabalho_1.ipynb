{
 "cells": [
  {
   "cell_type": "markdown",
   "metadata": {},
   "source": [
    "## Trabalho 1 - Fundamentos de Análise de Dados\n",
    "### Implementação do algoritmo k-Nearest Neighbours (KNN) para k=1, utilizando a distância euclidiana e a distância de Mahalanobis \n",
    "#### Dataset: 'Mnist Sign Lang'"
   ]
  },
  {
   "cell_type": "code",
   "execution_count": 10,
   "metadata": {},
   "outputs": [],
   "source": [
    "import numpy as np\n",
    "import pandas as pd\n",
    "import matplotlib.pyplot as plt \n",
    "import math\n",
    "import time"
   ]
  },
  {
   "cell_type": "markdown",
   "metadata": {},
   "source": [
    "### Funções "
   ]
  },
  {
   "cell_type": "markdown",
   "metadata": {},
   "source": [
    "### Manipulação de Dados"
   ]
  },
  {
   "cell_type": "code",
   "execution_count": 5,
   "metadata": {},
   "outputs": [],
   "source": [
    "arq_train = 'sign_mnist_train.csv'\n",
    "arq_test = 'sign_mnist_test.csv'"
   ]
  },
  {
   "cell_type": "code",
   "execution_count": 47,
   "metadata": {},
   "outputs": [],
   "source": [
    "def get_all_df():\n",
    "    df_train = pd.read_csv(arq_train)\n",
    "    df_test = pd.read_csv(arq_test)\n",
    "    df_test.drop(df_test.index[0], inplace=True)\n",
    "    return df_train, df_test\n",
    "\n",
    "def get_total_df():\n",
    "    df_train, df_test = get_all_df()\n",
    "    concatenated_df = pd.concat([df_train, df_test], axis=0) \n",
    "    return concatenated_df\n",
    "\n",
    "def get_x(tam, arq):\n",
    "    df = pd.read_csv(arq)\n",
    "    df.drop(df.index[tam+1:], inplace=True)\n",
    "    df.drop(df.index[0], inplace=True)\n",
    "    df.drop(columns=['label'], inplace=True)\n",
    "    \n",
    "    X = np.asarray(df)\n",
    "    return X\n",
    "\n",
    "def get_y(tam, arq):\n",
    "    df = pd.read_csv(arq)\n",
    "    df.drop(df.index[tam:], inplace=True)\n",
    "    label = df['label']\n",
    "    y = np.asarray(label)\n",
    "    return y\n",
    "\n",
    "def get_x_y(tam_total):\n",
    "    tam_train = int(0.7 * tam_total)\n",
    "    tam_test = int(tam_total - tam_train)\n",
    "\n",
    "    X_train = get_x(tam_train, arq_train)\n",
    "    y_train = get_y(tam_train, arq_train)\n",
    "\n",
    "    X_test = get_x(tam_test, arq_test)\n",
    "    y_test = get_y(tam_test, arq_test)\n",
    "\n",
    "    return X_train, X_test, y_train, y_test"
   ]
  },
  {
   "cell_type": "code",
   "execution_count": 3,
   "metadata": {},
   "outputs": [],
   "source": [
    "def get_img(index = 0):\n",
    "    df,_ = get_all_df() \n",
    "    print(f\"Classe dessa imagem: {df['label'].iloc[index]}\")\n",
    "\n",
    "    df.drop(columns=['label'], inplace=True)\n",
    "    img = np.asarray(df.iloc[index])\n",
    "\n",
    "    img = img.reshape((28, 28))\n",
    "    plt.imshow(img, cmap=\"gray\")\n",
    "    plt.show()\n",
    "\n",
    "def print_img(img):\n",
    "    img.drop(columns=['label'], inplace=True)\n",
    "    img = np.asarray(img)\n",
    "    \n",
    "    img = img.reshape((28, 28))\n",
    "    plt.imshow(img, cmap=\"gray\")\n",
    "    plt.show()\n",
    "\n",
    "def converting_img(img):\n",
    "    final_img = img/255\n",
    "    return final_img\n",
    "\n",
    "def convert_dataset(dataset, isDf = True):\n",
    "    if (isDf):\n",
    "        dataset.drop(columns=['label'], inplace=True)\n",
    "        dataset = np.asarray(dataset)\n",
    "    arr1 = dataset[0]\n",
    "    img_example = arr1\n",
    "    pixels = img_example.reshape((28, 28))\n",
    "    pixels = pixels/255\n",
    "    pixels = pixels.flatten() \n",
    "\n",
    "    processed_images = np.array([pixels])\n",
    "    for index, arr in enumerate(dataset):\n",
    "        if index == 0:\n",
    "            continue\n",
    "        img_example = arr\n",
    "        pixels = img_example.reshape((28, 28))\n",
    "        \n",
    "        pixels = pixels/255\n",
    "        \n",
    "        pixels = pixels.flatten() \n",
    "        processed_images = np.append(processed_images, [pixels], axis=0)\n",
    "\n",
    "    return processed_images"
   ]
  },
  {
   "cell_type": "markdown",
   "metadata": {},
   "source": [
    "### Operações "
   ]
  },
  {
   "cell_type": "code",
   "execution_count": 7,
   "metadata": {},
   "outputs": [],
   "source": [
    "def verificacao_identidade(matrix, tol=1e-10):\n",
    "    if len(matrix) != len(matrix[0]):\n",
    "        print(\"Não é possível verificar\")\n",
    "        return\n",
    "    \n",
    "    n = len(matrix)\n",
    "    \n",
    "    for i in range(n):\n",
    "        for j in range(n):\n",
    "            if ((i == j and not math.isclose(matrix[i][j], 1, abs_tol=tol)) or  (i != j and not math.isclose(matrix[i][j], 0, abs_tol=tol))):\n",
    "                print(\"A matriz não é identidade\")\n",
    "                return\n",
    "    \n",
    "    print(\"A matriz é identidade\")\n",
    "    return"
   ]
  },
  {
   "cell_type": "code",
   "execution_count": 103,
   "metadata": {},
   "outputs": [],
   "source": [
    "def euclidian_distance(x, y):\n",
    "    len_x = len(x)\n",
    "    len_y = len(y)\n",
    "    if (len_x < len_y):\n",
    "        x.resize(len_y, refcheck=False)\n",
    "        x[len_x:(len_y-1)] = 0\n",
    "    elif (len_y < len_x):\n",
    "        y.resize(len_x, refcheck=False)\n",
    "        y[len_y:(len_x-1)] = 0\n",
    "    if (len(x) == len(y)):\n",
    "        diff = 0\n",
    "        for index, value_x in enumerate(x):\n",
    "            diff+=(value_x-y[index])*(value_x-y[index])\n",
    "        return np.sqrt(diff)\n",
    "    else:\n",
    "        print(\"Não foi possível calcular a distância euclidiana\")\n",
    "        return\n",
    "\n",
    "\n",
    "def mahalanobis_distance(x, y, S):\n",
    "    diff = x - y\n",
    "\n",
    "    dist = np.sqrt(np.dot(np.dot(diff.T, S), diff))\n",
    "    \n",
    "    return dist\n",
    "\n",
    "\n",
    "def knn (x_train, x_test, y_train, S, type):\n",
    "    classes_prediction = []\n",
    "    for test_vector in x_test:\n",
    "        distances_classes = []\n",
    "        for index, train_vector in enumerate(x_train):\n",
    "            if (type == \"mahalanobis\"):\n",
    "                dist = mahalanobis_distance(train_vector, test_vector, S)\n",
    "            elif (type == \"euclidiana\"):\n",
    "                # essa distância euclidiana foi comparada com a do scipy\n",
    "                dist = euclidian_distance(train_vector, test_vector)\n",
    "            else:\n",
    "                raise TypeError(\"O argumento deve ser uma string de valor 'mahalanobis' ou 'euclidiana'\")\n",
    "            distances_classes.append((dist, y_train[index]))\n",
    "        distances_classes.sort()\n",
    "        classes_prediction.append(distances_classes[0][1])\n",
    "    print(classes_prediction)\n",
    "    return classes_prediction\n",
    "\n",
    "# Funcao para calcular a matriz S necessaria para o cálculo da distancia de mahalanobis\n",
    "def calculo_matriz_S (train, test):\n",
    "\n",
    "    # A matriz S é calculada a partir do banco de dados todo\n",
    "    dataset = np.concatenate((train, test), axis=0)\n",
    "    cov_X = np.cov(dataset, rowvar=False)\n",
    "    rank = np.linalg.matrix_rank(cov_X)\n",
    "    \n",
    "    # todas os vetores de imagens possuem 784 colunas, se o posto não for máximo não é possível inverter a matriz\n",
    "    if (rank != 784):\n",
    "        raise ValueError(\"Não é possível calcular a inversa desta matriz\")\n",
    "\n",
    "    else:\n",
    "        print(\"Foi possível calcular a matriz S\")\n",
    "        inv_X = np.linalg.inv(cov_X)\n",
    "        return inv_X"
   ]
  },
  {
   "cell_type": "markdown",
   "metadata": {},
   "source": [
    "### Visualização dos Dados\n",
    "#### Banco de Dados:  [Sign Language - Mnist](https://www.kaggle.com/datasets/datamunge/sign-language-mnist)\n",
    "Esse banco de dados consiste em vetores que representam imagens de 784 pixels cada que estão na escala RGB (ou seja, casa pixel possui um valor inteiro entre 0 e 255, onde 0 é um pixel branco e 255, um pixel preto), que formam uma imagem de formato 28 x 28\n",
    "\n",
    "Essas imagens foram retiradas de um banco de dados mais completo, cortadas para aparecerem apenas as mãos, reduzidas a escala de cinza e reformatadas. \n"
   ]
  },
  {
   "cell_type": "code",
   "execution_count": null,
   "metadata": {},
   "outputs": [],
   "source": [
    "df = get_total_df()\n",
    "\n",
    "df.head(15)"
   ]
  },
  {
   "cell_type": "code",
   "execution_count": null,
   "metadata": {},
   "outputs": [],
   "source": [
    "df.shape"
   ]
  },
  {
   "cell_type": "markdown",
   "metadata": {},
   "source": [
    "O conjunto de dados possui uma coluna de label que é a classificação da imagem. A classificação consiste em um número de 0 a 25 (sem '9': J e sem '25': Z, pois os gestos dessas letras requerem movimentação das mãos e não podem ser representados nas imagens), que idenfica aquela imagem como uma letra do alfabeto, sendo 1, a letra 'a', 2, a letra 'b', e assim sucessivamente."
   ]
  },
  {
   "cell_type": "code",
   "execution_count": null,
   "metadata": {},
   "outputs": [],
   "source": [
    "df['label'].head(20)"
   ]
  },
  {
   "cell_type": "markdown",
   "metadata": {},
   "source": [
    "Como a imagem é representada no dataset"
   ]
  },
  {
   "cell_type": "code",
   "execution_count": null,
   "metadata": {},
   "outputs": [],
   "source": [
    "df.head(1)"
   ]
  },
  {
   "cell_type": "markdown",
   "metadata": {},
   "source": [
    "Exemplo de imagem (no caso, um G)"
   ]
  },
  {
   "cell_type": "code",
   "execution_count": null,
   "metadata": {},
   "outputs": [],
   "source": [
    "get_img(1)"
   ]
  },
  {
   "cell_type": "markdown",
   "metadata": {},
   "source": [
    "#### Preprocessamento da imagem \n",
    "Os pixels da imagem, antes de 0 a 255 agora estão no intervalo de 0 e 1. Esse recurso foi utilizado afim de melhorar custo computacional do programa. É possível ver que a imagem ainda pode ser printada mesmo após esse tratamento:"
   ]
  },
  {
   "cell_type": "code",
   "execution_count": null,
   "metadata": {},
   "outputs": [],
   "source": [
    "img = converting_img(df.head(1))\n",
    "print_img(img)"
   ]
  },
  {
   "cell_type": "markdown",
   "metadata": {},
   "source": [
    "### KNN"
   ]
  },
  {
   "cell_type": "markdown",
   "metadata": {},
   "source": [
    "### Distância de Mahalanobis"
   ]
  },
  {
   "cell_type": "markdown",
   "metadata": {},
   "source": [
    "##### Cálculo da matriz S\n",
    "Para o cálculo da Distância de Mahalanobis, é necessário calcular a inversa da matriz S de covariância do banco de dados. O processo é descrito a seguir, com o dataset completo:"
   ]
  },
  {
   "cell_type": "markdown",
   "metadata": {},
   "source": [
    "Primeiramente o dataset tem suas imagens preprocessadas:"
   ]
  },
  {
   "cell_type": "code",
   "execution_count": 38,
   "metadata": {},
   "outputs": [
    {
     "ename": "KeyboardInterrupt",
     "evalue": "",
     "output_type": "error",
     "traceback": [
      "\u001b[1;31m---------------------------------------------------------------------------\u001b[0m",
      "\u001b[1;31mKeyboardInterrupt\u001b[0m                         Traceback (most recent call last)",
      "Cell \u001b[1;32mIn[38], line 2\u001b[0m\n\u001b[0;32m      1\u001b[0m df \u001b[38;5;241m=\u001b[39m get_total_df()\n\u001b[1;32m----> 2\u001b[0m converted_dataset \u001b[38;5;241m=\u001b[39m \u001b[43mconvert_dataset\u001b[49m\u001b[43m(\u001b[49m\u001b[43mdf\u001b[49m\u001b[43m)\u001b[49m\n\u001b[0;32m      3\u001b[0m \u001b[38;5;28mprint\u001b[39m(converted_dataset)\n",
      "Cell \u001b[1;32mIn[3], line 44\u001b[0m, in \u001b[0;36mconvert_dataset\u001b[1;34m(dataset, isDf)\u001b[0m\n\u001b[0;32m     41\u001b[0m     pixels \u001b[38;5;241m=\u001b[39m pixels\u001b[38;5;241m/\u001b[39m\u001b[38;5;241m255\u001b[39m\n\u001b[0;32m     43\u001b[0m     pixels \u001b[38;5;241m=\u001b[39m pixels\u001b[38;5;241m.\u001b[39mflatten() \n\u001b[1;32m---> 44\u001b[0m     processed_images \u001b[38;5;241m=\u001b[39m \u001b[43mnp\u001b[49m\u001b[38;5;241;43m.\u001b[39;49m\u001b[43mappend\u001b[49m\u001b[43m(\u001b[49m\u001b[43mprocessed_images\u001b[49m\u001b[43m,\u001b[49m\u001b[43m \u001b[49m\u001b[43m[\u001b[49m\u001b[43mpixels\u001b[49m\u001b[43m]\u001b[49m\u001b[43m,\u001b[49m\u001b[43m \u001b[49m\u001b[43maxis\u001b[49m\u001b[38;5;241;43m=\u001b[39;49m\u001b[38;5;241;43m0\u001b[39;49m\u001b[43m)\u001b[49m\n\u001b[0;32m     46\u001b[0m \u001b[38;5;28;01mreturn\u001b[39;00m processed_images\n",
      "File \u001b[1;32m~\\AppData\\Local\\Packages\\PythonSoftwareFoundation.Python.3.12_qbz5n2kfra8p0\\LocalCache\\local-packages\\Python312\\site-packages\\numpy\\lib\\function_base.py:5617\u001b[0m, in \u001b[0;36mappend\u001b[1;34m(arr, values, axis)\u001b[0m\n\u001b[0;32m   5615\u001b[0m     values \u001b[38;5;241m=\u001b[39m ravel(values)\n\u001b[0;32m   5616\u001b[0m     axis \u001b[38;5;241m=\u001b[39m arr\u001b[38;5;241m.\u001b[39mndim\u001b[38;5;241m-\u001b[39m\u001b[38;5;241m1\u001b[39m\n\u001b[1;32m-> 5617\u001b[0m \u001b[38;5;28;01mreturn\u001b[39;00m \u001b[43mconcatenate\u001b[49m\u001b[43m(\u001b[49m\u001b[43m(\u001b[49m\u001b[43marr\u001b[49m\u001b[43m,\u001b[49m\u001b[43m \u001b[49m\u001b[43mvalues\u001b[49m\u001b[43m)\u001b[49m\u001b[43m,\u001b[49m\u001b[43m \u001b[49m\u001b[43maxis\u001b[49m\u001b[38;5;241;43m=\u001b[39;49m\u001b[43maxis\u001b[49m\u001b[43m)\u001b[49m\n",
      "\u001b[1;31mKeyboardInterrupt\u001b[0m: "
     ]
    }
   ],
   "source": [
    "df = get_total_df()\n",
    "converted_dataset = convert_dataset(df)\n",
    "print(converted_dataset)\n"
   ]
  },
  {
   "cell_type": "markdown",
   "metadata": {},
   "source": [
    "Segundamente a matriz de covariância é calculada "
   ]
  },
  {
   "cell_type": "code",
   "execution_count": null,
   "metadata": {},
   "outputs": [],
   "source": [
    "# Calculando a matriz de covariância do dataset \n",
    "\n",
    "cov_X = np.cov(converted_dataset, rowvar=False)\n",
    "print(cov_X.shape)\n"
   ]
  },
  {
   "cell_type": "markdown",
   "metadata": {},
   "source": [
    "Depois disso é feito um processo de verificação da matriz de covariância (esse processo é feito também na função de cálculo de covariância dos testes):\n",
    "Verificando o posto da matriz. Ela precisa ser posto máximo (784, quantidade de colunas), para que possa ter determinante 0 e ser invertível para o cálculo da distância de Mahalanobis"
   ]
  },
  {
   "cell_type": "code",
   "execution_count": null,
   "metadata": {},
   "outputs": [],
   "source": [
    "rank = np.linalg.matrix_rank(cov_X)\n",
    "print(rank)"
   ]
  },
  {
   "cell_type": "markdown",
   "metadata": {},
   "source": [
    "Verificando o determinante da matriz de covariância com slogdet, indicada para matrizes de tamanho grande, pois utilizando a função det o resultado não era satisfatório (era sempre 0)"
   ]
  },
  {
   "cell_type": "code",
   "execution_count": null,
   "metadata": {},
   "outputs": [],
   "source": [
    "print(cov_X.shape)\n",
    "det_X = np.linalg.slogdet(cov_X)\n",
    "print(det_X)"
   ]
  },
  {
   "cell_type": "markdown",
   "metadata": {},
   "source": [
    "Aqui a inversa é calculada e também verificada com a função identidade que tem como objetivo retornar se p (o produto das matrizes de covariância com a sua respectiva inversa) é identidade"
   ]
  },
  {
   "cell_type": "code",
   "execution_count": null,
   "metadata": {},
   "outputs": [],
   "source": [
    "inv_X = np.linalg.inv(cov_X)\n",
    "\n",
    "p = np.dot(cov_X, inv_X)\n",
    "\n",
    "verificacao_identidade(p)"
   ]
  },
  {
   "cell_type": "markdown",
   "metadata": {},
   "source": [
    "#### Cálculo da Distância de Mahalanobis\n",
    "Nesta sessão serão feitos alguns testes com o KNN com a Distância de Mahalanobis, uma vez que não foi possível calcular o KNN do dataset total para essa distância em tempo hábil, por conta do tamanho do dataset e dos cálculos custosos entre matrizes "
   ]
  },
  {
   "cell_type": "markdown",
   "metadata": {},
   "source": [
    "Uma observação interessante foi possível de ser observada: foram feitos testes com amostras de quantidades 10, 30, 100 e 300, porém, não foi possível utilizar a distância de Mahalanobis em nenhum desses testes. Isso ocorreu porque as matrizes de covariâncias dessas matrizes de amostras não possuiam posto máximo, logo, possuiam colunas LD e não poderiam ser invertidas. "
   ]
  },
  {
   "cell_type": "code",
   "execution_count": 96,
   "metadata": {},
   "outputs": [
    {
     "name": "stdout",
     "output_type": "stream",
     "text": [
      "[[1603.77777778 1918.11111111 1757.22222222 ...   96.77777778\n",
      "   235.55555556 -123.66666667]\n",
      " [1918.11111111 2787.28888889 2405.04444444 ... -123.15555556\n",
      "    69.         -305.77777778]\n",
      " [1757.22222222 2405.04444444 2116.23333333 ...   15.15555556\n",
      "   181.27777778 -176.94444444]\n",
      " ...\n",
      " [  96.77777778 -123.15555556   15.15555556 ... 1805.95555556\n",
      "  1624.33333333 1251.22222222]\n",
      " [ 235.55555556   69.          181.27777778 ... 1624.33333333\n",
      "  1563.83333333 1224.05555556]\n",
      " [-123.66666667 -305.77777778 -176.94444444 ... 1251.22222222\n",
      "  1224.05555556 1399.16666667]]\n"
     ]
    },
    {
     "ename": "ValueError",
     "evalue": "Não é possível calcular a inversa desta matriz",
     "output_type": "error",
     "traceback": [
      "\u001b[1;31m---------------------------------------------------------------------------\u001b[0m",
      "\u001b[1;31mValueError\u001b[0m                                Traceback (most recent call last)",
      "Cell \u001b[1;32mIn[96], line 21\u001b[0m\n\u001b[0;32m     18\u001b[0m     \u001b[38;5;28mprint\u001b[39m(\u001b[38;5;124mf\u001b[39m\u001b[38;5;124m\"\u001b[39m\u001b[38;5;124mO valor do RMSE é: \u001b[39m\u001b[38;5;132;01m{\u001b[39;00mrmse\u001b[38;5;132;01m}\u001b[39;00m\u001b[38;5;124m.\u001b[39m\u001b[38;5;124m\"\u001b[39m)\n\u001b[0;32m     19\u001b[0m     \u001b[38;5;28;01mreturn\u001b[39;00m result, rmse\n\u001b[1;32m---> 21\u001b[0m result_10, rmse_10 \u001b[38;5;241m=\u001b[39m \u001b[43mknn_mahalanobis\u001b[49m\u001b[43m(\u001b[49m\u001b[38;5;241;43m10\u001b[39;49m\u001b[43m)\u001b[49m\n",
      "Cell \u001b[1;32mIn[96], line 13\u001b[0m, in \u001b[0;36mknn_mahalanobis\u001b[1;34m(tam_amostra)\u001b[0m\n\u001b[0;32m     11\u001b[0m start_time \u001b[38;5;241m=\u001b[39m time\u001b[38;5;241m.\u001b[39mtime()\n\u001b[0;32m     12\u001b[0m X_train, X_test, y_train, y_test \u001b[38;5;241m=\u001b[39m get_x_y(tam_amostra)\n\u001b[1;32m---> 13\u001b[0m S \u001b[38;5;241m=\u001b[39m \u001b[43mcalculo_matriz_S\u001b[49m\u001b[43m(\u001b[49m\u001b[43mX_train\u001b[49m\u001b[43m,\u001b[49m\u001b[43m \u001b[49m\u001b[43mX_test\u001b[49m\u001b[43m)\u001b[49m\n\u001b[0;32m     14\u001b[0m result \u001b[38;5;241m=\u001b[39m knn(X_train, X_test, y_train, S, \u001b[38;5;28mtype\u001b[39m\u001b[38;5;241m=\u001b[39m\u001b[38;5;124m\"\u001b[39m\u001b[38;5;124mmahalanobis\u001b[39m\u001b[38;5;124m\"\u001b[39m)\n\u001b[0;32m     15\u001b[0m end_time \u001b[38;5;241m=\u001b[39m time\u001b[38;5;241m.\u001b[39mtime()\n",
      "Cell \u001b[1;32mIn[88], line 56\u001b[0m, in \u001b[0;36mcalculo_matriz_S\u001b[1;34m(train, test)\u001b[0m\n\u001b[0;32m     54\u001b[0m \u001b[38;5;66;03m# todas os vetores de imagens possuem 784 colunas, se o posto não for máximo não é possível inverter a matriz\u001b[39;00m\n\u001b[0;32m     55\u001b[0m \u001b[38;5;28;01mif\u001b[39;00m (rank \u001b[38;5;241m!=\u001b[39m \u001b[38;5;241m784\u001b[39m):\n\u001b[1;32m---> 56\u001b[0m     \u001b[38;5;28;01mraise\u001b[39;00m \u001b[38;5;167;01mValueError\u001b[39;00m(\u001b[38;5;124m\"\u001b[39m\u001b[38;5;124mNão é possível calcular a inversa desta matriz\u001b[39m\u001b[38;5;124m\"\u001b[39m)\n\u001b[0;32m     58\u001b[0m \u001b[38;5;28;01melse\u001b[39;00m:\n\u001b[0;32m     59\u001b[0m     inv_X \u001b[38;5;241m=\u001b[39m np\u001b[38;5;241m.\u001b[39mlinalg\u001b[38;5;241m.\u001b[39minv(cov_X)\n",
      "\u001b[1;31mValueError\u001b[0m: Não é possível calcular a inversa desta matriz"
     ]
    }
   ],
   "source": [
    "def calculo_rmse(result, y_test):\n",
    "    diff = (np.array(result) - np.array(y_test)) ** 2\n",
    "\n",
    "    mean_diff = np.mean(diff)\n",
    "\n",
    "    rmse = np.sqrt(mean_diff)\n",
    "\n",
    "    return rmse\n",
    "\n",
    "def knn_mahalanobis(tam_amostra):\n",
    "    start_time = time.time()\n",
    "    X_train, X_test, y_train, y_test = get_x_y(tam_amostra)\n",
    "    S = calculo_matriz_S(X_train, X_test)\n",
    "    result = knn(X_train, X_test, y_train, S, type=\"mahalanobis\")\n",
    "    end_time = time.time()\n",
    "    print(f\"Tempo de execução: {end_time - start_time:.6f} segundos\")\n",
    "    rmse = calculo_rmse(result, y_test)\n",
    "    print(f\"O valor do RMSE é: {rmse}.\")\n",
    "    return result, rmse\n",
    "\n",
    "result_10, rmse_10 = knn_mahalanobis(10)"
   ]
  },
  {
   "cell_type": "code",
   "execution_count": 104,
   "metadata": {},
   "outputs": [
    {
     "name": "stdout",
     "output_type": "stream",
     "text": [
      "Foi possível calcular a matriz S\n",
      "[0, 0, 0, 0, 0, 0, 0, 16, 0, 0, 16, 0, 0, 0, 0, 0, 0, 0, 16, 0, 0, 0, 0, 0, 0, 0, 0, 0, 0, 0, 0, 0, 0, 0, 21, 0, 0, 0, 0, 0, 0, 0, 0, 21, 0, 21, 0, 0, 0, 0, 0, 0, 0, 0, 0, 0, 0, 0, 0, 0, 16, 0, 0, 0, 0, 0, 0, 0, 0, 0, 16, 0, 0, 0, 0, 0, 0, 0, 0, 0, 0, 0, 0, 0, 0, 0, 0, 0, 0, 0, 0, 0, 0, 0, 19, 20, 16, 0, 0, 0, 0, 0, 0, 0, 0, 0, 0, 0, 0, 0, 0, 0, 0, 0, 0, 0, 0, 0, 0, 16, 21, 0, 0, 0, 0, 0, 0, 16, 0, 0, 0, 0, 0, 0, 0, 0, 0, 0, 0, 21, 21, 0, 0, 0, 0, 16, 0, 0, 0, 0, 0, 16, 0, 0, 0, 0, 0, 0, 0, 0, 0, 0, 0, 21, 21, 0, 0, 0, 0, 0, 0, 0, 0, 0, 0, 0, 0, 0, 0, 16, 0, 0, 0, 0, 0, 0, 0, 0, 0, 16, 0, 0, 0, 0, 16, 0, 0, 0, 0, 0, 0, 0, 0, 0, 0, 0, 0, 0, 0, 0, 0, 0, 0, 0, 0, 0, 0, 0, 16, 0, 21, 0, 0, 0, 0, 0, 0, 0, 0, 0, 0, 0, 0, 0, 0, 0, 0, 0, 0, 16, 0, 0, 0, 0, 0, 0, 0, 0, 0, 0, 0, 0, 16, 16, 0, 0, 0, 0, 16, 16, 0, 0, 0, 0, 0, 21, 21, 0, 21, 0, 0, 0, 0, 0, 0, 0, 0, 0, 21, 0, 16, 0, 0, 0, 0, 16, 0, 0, 0, 13, 0, 0, 0, 0, 0, 0, 0, 0, 0, 0]\n",
      "Tempo de execução: 41.224112 segundos\n",
      "O valor do RMSE é: 13.214133847261172.\n"
     ]
    }
   ],
   "source": [
    "result_1000, rmse_1000 = knn_mahalanobis(1000)"
   ]
  },
  {
   "cell_type": "code",
   "execution_count": 105,
   "metadata": {},
   "outputs": [
    {
     "name": "stdout",
     "output_type": "stream",
     "text": [
      "Foi possível calcular a matriz S\n",
      "[21, 16, 6, 21, 16, 16, 23, 21, 21, 23, 21, 21, 16, 21, 23, 2, 20, 21, 21, 21, 21, 23, 21, 16, 23, 16, 23, 21, 21, 21, 21, 23, 21, 23, 21, 21, 3, 21, 20, 20, 21, 16, 21, 16, 21, 21, 21, 21, 23, 21, 23, 21, 21, 16, 21, 21, 21, 21, 23, 21, 23, 21, 23, 24, 21, 20, 23, 21, 10, 16, 23, 21, 21, 23, 21, 21, 21, 23, 21, 23, 20, 16, 16, 14, 23, 21, 21, 21, 21, 23, 14, 21, 24, 21, 21, 20, 20, 8, 23, 23, 21, 21, 21, 21, 19, 23, 23, 21, 23, 21, 23, 23, 16, 21, 21, 21, 21, 21, 21, 21, 16, 16, 21, 20, 21, 23, 16, 21, 23, 21, 23, 21, 21, 20, 21, 16, 16, 21, 16, 23, 21, 23, 21, 15, 21, 19, 21, 21, 16, 23, 21, 22, 21, 21, 21, 20, 16, 21, 24, 20, 21, 23, 21, 21, 21, 20, 16, 23, 21, 16, 21, 23, 21, 21, 23, 21, 23, 21, 14, 23, 21, 16, 16, 21, 21, 21, 21, 23, 21, 21, 16, 13, 21, 21, 23, 21, 21, 21, 21, 21, 21, 23, 21, 2, 21, 21, 23, 17, 20, 21, 23, 21, 23, 2, 21, 21, 23, 21, 21, 21, 23, 21, 21, 21, 23, 21, 16, 21, 23, 21, 20, 10, 23, 16, 21, 21, 21, 23, 21, 16, 21, 16, 21, 21, 20, 21, 23, 21, 21, 21, 21, 23, 21, 21, 14, 23, 21, 23, 21, 23, 21, 22, 23, 21, 21, 23, 21, 20, 21, 2, 16, 16, 21, 16, 10, 21, 21, 21, 21, 21, 21, 21, 21, 21, 23, 21, 21, 16, 17, 21, 14, 21, 21, 23, 21, 23, 21, 23, 21, 16, 21, 16, 23, 14, 23, 21, 20, 21, 20, 20, 23, 23, 21, 23, 16, 16, 21, 20, 20, 21, 16, 20, 16, 23, 21, 16, 20, 21, 21, 21, 21, 14, 21, 23, 21, 21, 21, 16, 21, 3, 16, 23, 21, 23, 21, 21, 21, 23, 23, 20, 21, 23, 16, 21, 16, 21, 21, 23, 21, 21, 16, 21, 21, 21, 20, 21, 21, 21, 21, 23, 21, 21, 16, 20, 20, 21, 21, 20, 23, 21, 23, 16, 21, 23, 20, 21, 23, 21, 21, 16, 22, 21, 21, 23, 20, 23, 16, 20, 21, 23, 21, 21, 3, 14, 23, 23, 16, 21, 16, 21, 23, 21, 21, 21, 21, 23, 19, 23, 23, 21, 14, 21, 16, 21, 21, 13, 21, 21, 23, 23, 16, 21, 21, 21, 23, 21, 21, 16, 21, 2, 23, 23, 20, 21, 21, 21, 5, 23, 21, 21, 12, 21, 16, 21, 21, 23, 16, 20, 16, 21, 23, 16, 21, 16, 16, 19, 23, 21, 21, 21, 21, 13, 21, 20, 21, 16, 21, 3, 23, 16, 21, 21, 3, 21, 13, 21, 16, 21, 21, 14, 21, 6, 16, 23, 21, 16, 23, 23, 17, 21, 21, 21, 21, 21, 21, 21, 14, 21, 23, 16, 21, 16, 23, 23, 21, 23, 21, 21, 23, 21, 23, 21, 21, 21, 16, 21, 21, 23, 23, 21, 21, 21, 23, 21, 21, 21, 21, 21, 22, 21, 16, 21, 21, 16, 21, 21, 21, 21, 20, 21, 3, 20, 16, 21, 21, 21, 15, 23, 20, 21, 20, 21, 21, 21, 21, 21, 21, 16, 21, 23, 21, 21, 23, 16, 16, 16, 16, 21, 21, 19, 21, 23, 21, 16, 21, 2, 21, 21, 21, 21, 20, 16, 21, 21, 21, 21, 19, 23, 13, 5, 21, 21, 21, 23, 21, 21, 21, 23, 14, 23, 15, 21, 16, 21, 21, 21, 21, 21, 16, 21, 23, 20, 23, 21, 21, 21, 21, 21, 23, 23, 19, 23, 23, 21, 21, 21, 23, 17, 23, 23, 23, 20, 23, 21, 21, 21, 21, 23, 21, 21, 15, 23, 21, 16, 23, 16, 20, 22, 21, 21, 16, 21, 23, 23, 21, 23, 21, 23, 16, 21, 16, 23, 23, 21, 21, 16, 21, 23, 23, 21, 21, 20, 21, 16, 21, 23, 20, 21, 21, 21, 20, 21, 21, 21, 21, 21, 21, 21, 23, 14, 21, 21, 21, 20, 21, 21, 21, 21, 21, 21, 21, 16, 21, 21, 21, 2, 21, 21, 5, 23, 23, 24, 21, 23, 21, 21, 23, 16, 21, 23, 21, 21, 23, 13, 21, 20, 24, 21, 21, 21, 23, 23, 16, 21, 16, 23, 23, 21, 21, 21, 20, 23, 21, 23, 16, 23, 23, 21, 21, 20, 21, 23, 21, 23, 21, 21, 24, 21, 23, 16, 23, 20, 21, 23, 21, 21, 23, 20, 21, 21, 23, 16, 0, 16, 21, 21, 23, 20, 23, 21, 16, 20, 21, 16, 21, 16, 17, 21, 21, 21, 23, 21, 21, 23, 21, 16, 21, 21, 14, 23, 20, 11, 23, 21, 21, 7, 21, 23, 20, 21, 16, 19, 16, 23, 23, 23, 21, 23, 14, 21, 6, 20, 21, 21, 20, 23, 23, 16, 16, 16, 21, 23, 21, 21, 21, 21, 5, 21, 21, 21, 21, 21, 21, 21, 21, 21, 23, 20, 20, 23, 21, 21, 21, 21, 16, 16, 2, 21, 23, 21, 21, 21, 21, 21, 21, 21, 21, 16, 16, 21, 21, 21, 21, 21, 21, 21, 21, 23, 15, 21, 21, 21, 21, 24, 16, 23, 23, 21, 21, 21]\n",
      "Tempo de execução: 350.701254 segundos\n",
      "O valor do RMSE é: 11.973814021531412.\n"
     ]
    }
   ],
   "source": [
    "result_3000, rmse_3000 = knn_mahalanobis(3000)"
   ]
  },
  {
   "cell_type": "code",
   "execution_count": null,
   "metadata": {},
   "outputs": [],
   "source": [
    "result_5000, rmse_5000 = knn_mahalanobis(5000)"
   ]
  },
  {
   "cell_type": "code",
   "execution_count": null,
   "metadata": {},
   "outputs": [],
   "source": [
    "result_10000, rmse_10000 = knn_mahalanobis(10000)"
   ]
  },
  {
   "cell_type": "code",
   "execution_count": null,
   "metadata": {},
   "outputs": [],
   "source": [
    "result_20000, rmse_20000 = knn_mahalanobis(20000)"
   ]
  },
  {
   "cell_type": "markdown",
   "metadata": {},
   "source": [
    "Como pudemos perceber, o crescimento do tempo de execução é exponencial. Logo, iremos parar os testes da distância de Mahalanobis por aqui."
   ]
  },
  {
   "cell_type": "code",
   "execution_count": 115,
   "metadata": {},
   "outputs": [],
   "source": [
    "def knn_euclidian(tam_amostra):\n",
    "    start_time = time.time()\n",
    "    X_train, X_test, y_train, y_test = get_x_y(tam_amostra)\n",
    "    result = knn(X_train, X_test, y_train, S = 0, type=\"euclidiana\")\n",
    "    end_time = time.time()\n",
    "    print(f\"Tempo de execução: {end_time - start_time:.6f} segundos\")\n",
    "    rmse = calculo_rmse(result, y_test)\n",
    "    print(f\"O valor do RMSE é: {rmse}.\")\n",
    "    return result, rmse"
   ]
  },
  {
   "cell_type": "code",
   "execution_count": 116,
   "metadata": {},
   "outputs": [
    {
     "name": "stdout",
     "output_type": "stream",
     "text": [
      "[11, 19, 6, 14, 22, 22, 19, 14, 8, 6, 11, 6, 11, 20, 15, 2, 2, 0, 19, 18, 7, 23, 21, 16, 5, 23, 20, 2, 20, 8, 11, 16, 21, 11, 14, 16, 3, 4, 19, 13, 7, 11, 1, 0, 6, 21, 15, 19, 4, 16, 8, 14, 21, 3, 11, 22, 14, 0, 0, 2, 4, 12, 23, 10, 11, 12, 3, 19, 15, 21, 10, 5, 24, 20, 21, 5, 12, 13, 3, 21, 5, 21, 16, 11, 19, 20, 19, 0, 11, 10, 20, 8, 20, 11, 14, 20, 20, 12, 23, 15, 15, 0, 23, 23, 10, 18, 20, 23, 10, 3, 22, 3, 20, 0, 19, 19, 4, 23, 10, 24, 17, 16, 13, 15, 11, 16, 16, 19, 8, 11, 15, 4, 4, 4, 23, 8, 22, 5, 23, 18, 19, 16, 10, 15, 15, 6, 15, 20, 24, 24, 20, 18, 0, 11, 14, 0, 16, 15, 11, 21, 14, 23, 16, 14, 4, 22, 7, 3, 6, 0, 18, 6, 24, 18, 0, 24, 15, 6, 18, 3, 7, 21, 7, 4, 0, 1, 21, 22, 21, 3, 20, 20, 8, 20, 1, 14, 13, 20, 1, 8, 0, 13, 15, 13, 6, 3, 21, 6, 21, 22, 7, 0, 12, 4, 10, 19, 1, 4, 14, 3, 20, 22, 0, 2, 14, 4, 18, 11, 14, 16, 11, 19, 4, 6, 14, 23, 21, 3, 8, 2, 13, 4, 16, 17, 15, 5, 15, 2, 23, 14, 14, 7, 18, 11, 18, 8, 12, 8, 2, 5, 20, 18, 14, 15, 6, 4, 21, 21, 10, 6, 16, 21, 22, 12, 4, 14, 2, 3, 18, 2, 18, 16, 3, 20, 5, 3, 16, 20, 10, 2, 18, 0, 6, 10, 23, 23, 18, 8, 10, 21]\n",
      "Tempo de execução: 43.460651 segundos\n",
      "O valor do RMSE é: 9.938980497683518.\n"
     ]
    }
   ],
   "source": [
    "result_1000_euclidian, rmse_1000_euclidian = knn_euclidian(1000)"
   ]
  },
  {
   "cell_type": "code",
   "execution_count": 120,
   "metadata": {},
   "outputs": [
    {
     "name": "stdout",
     "output_type": "stream",
     "text": [
      "[3, 7, 6, 18, 17, 17, 21, 18, 22, 5, 5, 10, 0, 12, 4, 5, 2, 0, 19, 24, 16, 12, 11, 16, 17, 23, 5, 20, 20, 8, 2, 16, 21, 11, 18, 16, 3, 15, 19, 13, 10, 5, 5, 21, 20, 21, 20, 0, 4, 16, 8, 7, 11, 11, 22, 17, 10, 15, 0, 19, 1, 12, 23, 22, 14, 13, 22, 22, 10, 21, 17, 7, 24, 14, 21, 5, 19, 2, 3, 21, 5, 14, 2, 14, 24, 15, 16, 18, 0, 22, 2, 17, 20, 15, 23, 20, 20, 6, 6, 11, 2, 0, 5, 10, 15, 16, 0, 12, 17, 21, 19, 4, 19, 0, 17, 6, 22, 8, 8, 2, 12, 22, 17, 15, 5, 16, 2, 24, 8, 11, 24, 10, 4, 15, 3, 11, 17, 15, 23, 16, 19, 19, 10, 15, 7, 6, 4, 11, 21, 24, 10, 18, 8, 1, 14, 0, 16, 10, 10, 21, 21, 23, 21, 14, 22, 18, 18, 12, 22, 19, 11, 6, 24, 18, 5, 24, 15, 10, 2, 18, 10, 23, 21, 15, 0, 23, 21, 17, 0, 3, 16, 20, 14, 20, 5, 1, 19, 23, 17, 22, 21, 12, 5, 19, 6, 18, 5, 18, 21, 0, 7, 0, 11, 14, 10, 5, 5, 4, 23, 2, 18, 2, 0, 1, 14, 23, 13, 13, 22, 3, 22, 10, 22, 20, 0, 5, 1, 11, 0, 6, 24, 4, 16, 8, 22, 17, 10, 5, 23, 22, 15, 15, 18, 20, 18, 8, 8, 11, 16, 5, 2, 22, 13, 3, 23, 8, 21, 21, 17, 21, 3, 7, 16, 23, 10, 23, 2, 4, 22, 12, 14, 1, 10, 20, 22, 21, 16, 16, 10, 2, 18, 23, 15, 10, 23, 1, 18, 8, 17, 21, 11, 2, 22, 14, 11, 2, 22, 17, 8, 20, 6, 0, 10, 16, 3, 18, 0, 8, 21, 8, 5, 5, 0, 19, 2, 16, 22, 13, 23, 16, 5, 4, 2, 23, 1, 21, 21, 20, 17, 19, 15, 13, 10, 23, 14, 15, 14, 2, 24, 6, 8, 3, 12, 7, 18, 7, 20, 6, 14, 20, 10, 15, 11, 17, 20, 13, 11, 22, 0, 20, 17, 18, 2, 6, 16, 22, 22, 12, 10, 14, 20, 23, 1, 11, 20, 2, 11, 20, 11, 2, 22, 21, 11, 17, 1, 16, 3, 10, 16, 15, 16, 16, 11, 14, 10, 18, 17, 22, 21, 19, 6, 14, 10, 0, 18, 21, 5, 16, 11, 1, 18, 17, 14, 0, 22, 13, 2, 11, 16, 19, 6, 0, 5, 17, 11, 16, 14, 24, 5, 2, 3, 7, 17, 20, 13, 20, 10, 22, 4, 16, 12, 2, 22, 11, 0, 20, 16, 24, 11, 14, 11, 14, 22, 3, 11, 11, 16, 17, 14, 24, 16, 13, 17, 17, 18, 15, 15, 3, 2, 5, 0, 19, 3, 20, 13, 8, 10, 13, 6, 22, 15, 6, 14, 22, 10, 20, 19, 17, 17, 0, 13, 20, 3, 20, 12, 19, 2, 16, 17, 20, 18, 17, 23, 17, 6, 5, 14, 18, 1, 15, 24, 14, 24, 14, 21, 0, 22, 20, 23, 0, 14, 18, 23, 21, 1, 14, 2, 23, 3, 0, 1, 18, 15, 13, 22, 4, 0, 18, 18, 22, 19, 7, 23, 8, 21, 24, 15, 5, 8, 2, 5, 14, 4, 3, 0, 7, 15, 24, 10, 13, 10, 5, 6, 4, 16, 15, 24, 2, 19, 6, 17, 8, 1, 17, 0, 14, 20, 23, 20, 20, 15, 10, 22, 8, 14, 22, 19, 20, 13, 22, 15, 3, 11, 17, 14, 24, 16, 7, 18, 18, 15, 20, 12, 18, 1, 23, 12, 18, 22, 0, 19, 8, 7, 7, 8, 16, 5, 23, 1, 15, 10, 8, 1, 5, 10, 2, 5, 6, 16, 11, 18, 2, 24, 18, 13, 23, 10, 23, 6, 0, 10, 19, 2, 16, 22, 5, 15, 3, 13, 15, 20, 4, 16, 14, 14, 18, 1, 24, 13, 2, 2, 1, 6, 17, 20, 18, 15, 4, 18, 11, 8, 2, 2, 22, 18, 8, 20, 24, 16, 6, 7, 8, 23, 6, 14, 10, 14, 19, 8, 16, 3, 11, 5, 5, 7, 1, 4, 5, 21, 8, 19, 16, 21, 1, 16, 8, 18, 11, 5, 22, 17, 4, 16, 11, 20, 11, 15, 20, 17, 22, 0, 22, 17, 21, 8, 2, 6, 13, 4, 19, 12, 23, 17, 2, 22, 19, 12, 10, 10, 11, 15, 12, 1, 11, 24, 2, 6, 13, 22, 15, 16, 5, 5, 0, 15, 22, 21, 24, 24, 4, 13, 18, 12, 23, 0, 17, 2, 6, 6, 19, 19, 7, 2, 17, 6, 14, 15, 10, 6, 12, 17, 8, 22, 5, 4, 23, 17, 10, 21, 21, 23, 7, 2, 13, 24, 13, 10, 3, 14, 1, 17, 11, 1, 10, 2, 7, 0, 7, 20, 24, 18, 21, 7, 15, 24, 24, 5, 20, 15, 22, 6, 14, 20, 19, 15, 8, 17, 16, 19, 11, 13, 15, 0, 19, 8, 14, 5, 2, 24, 22, 18, 1, 17, 22, 5, 0, 14, 2, 1, 16, 24, 23, 20, 1, 13, 21, 10, 16, 15, 20, 16, 19, 6, 22, 11, 1, 8, 16, 21, 20, 10, 24, 5, 0, 4, 16, 5, 15, 3, 8, 10, 7, 19, 24, 10, 4, 22, 5, 6, 2]\n",
      "Tempo de execução: 361.831469 segundos\n",
      "O valor do RMSE é: 10.384015493910715.\n"
     ]
    }
   ],
   "source": [
    "result_3000_euclidian, rmse_3000_euclidian = knn_euclidian(3000)"
   ]
  },
  {
   "cell_type": "code",
   "execution_count": 121,
   "metadata": {},
   "outputs": [
    {
     "name": "stdout",
     "output_type": "stream",
     "text": [
      "[3, 2, 6, 18, 17, 17, 21, 18, 22, 5, 20, 10, 8, 24, 4, 5, 2, 0, 12, 24, 16, 12, 3, 16, 17, 23, 10, 20, 3, 8, 2, 20, 1, 11, 18, 16, 3, 15, 19, 13, 10, 5, 10, 21, 20, 21, 10, 0, 2, 17, 6, 0, 17, 11, 22, 17, 21, 17, 3, 19, 2, 12, 3, 12, 14, 3, 22, 0, 10, 21, 7, 7, 24, 14, 12, 17, 0, 2, 3, 16, 5, 14, 11, 14, 24, 12, 16, 24, 0, 12, 2, 17, 3, 19, 8, 23, 23, 8, 6, 11, 1, 11, 1, 10, 15, 16, 0, 17, 7, 11, 19, 23, 16, 11, 17, 14, 3, 8, 18, 2, 13, 22, 3, 15, 5, 21, 11, 24, 8, 11, 24, 10, 4, 15, 3, 3, 17, 15, 18, 16, 19, 19, 19, 15, 7, 7, 24, 11, 21, 3, 1, 0, 8, 16, 14, 11, 16, 24, 10, 21, 8, 2, 20, 14, 22, 18, 18, 12, 11, 19, 11, 6, 24, 11, 18, 17, 15, 10, 2, 23, 10, 3, 21, 15, 0, 19, 21, 17, 0, 3, 16, 23, 10, 21, 5, 1, 17, 23, 17, 22, 19, 12, 5, 3, 4, 3, 5, 18, 21, 0, 7, 0, 11, 14, 10, 5, 5, 2, 23, 1, 11, 2, 0, 1, 12, 23, 13, 13, 22, 3, 22, 10, 22, 24, 0, 5, 1, 11, 0, 6, 3, 1, 16, 8, 13, 17, 10, 5, 3, 22, 13, 24, 18, 20, 18, 1, 16, 11, 18, 7, 2, 6, 13, 3, 23, 1, 21, 21, 7, 21, 3, 7, 16, 24, 10, 17, 18, 4, 11, 12, 2, 1, 10, 20, 22, 11, 16, 3, 10, 18, 18, 23, 15, 23, 23, 10, 18, 1, 17, 4, 11, 16, 22, 19, 19, 3, 22, 17, 8, 20, 4, 0, 10, 11, 3, 18, 17, 14, 20, 1, 14, 5, 0, 19, 11, 3, 22, 13, 23, 22, 5, 4, 2, 23, 19, 21, 21, 18, 13, 24, 4, 6, 18, 5, 11, 15, 14, 12, 24, 6, 8, 3, 12, 11, 0, 7, 3, 6, 14, 20, 18, 15, 11, 17, 20, 13, 11, 22, 0, 20, 17, 18, 12, 14, 16, 22, 22, 12, 10, 14, 20, 2, 1, 11, 20, 8, 16, 20, 11, 3, 22, 21, 17, 7, 1, 24, 3, 10, 18, 21, 16, 12, 5, 1, 10, 18, 17, 22, 21, 19, 6, 5, 10, 8, 18, 21, 16, 21, 18, 1, 18, 17, 14, 8, 1, 13, 2, 11, 16, 19, 22, 0, 5, 17, 16, 16, 21, 24, 18, 2, 12, 3, 2, 20, 13, 20, 10, 22, 1, 16, 12, 2, 22, 3, 12, 20, 3, 10, 11, 24, 11, 14, 7, 5, 11, 7, 21, 13, 1, 24, 18, 21, 17, 14, 18, 2, 15, 10, 2, 5, 0, 17, 17, 20, 21, 8, 3, 13, 1, 22, 23, 6, 17, 22, 10, 20, 19, 17, 17, 0, 13, 20, 24, 12, 12, 19, 8, 3, 17, 7, 21, 17, 23, 17, 6, 5, 14, 18, 1, 23, 24, 6, 24, 14, 21, 0, 22, 20, 10, 0, 14, 10, 7, 17, 1, 13, 3, 24, 7, 0, 1, 18, 23, 13, 22, 15, 0, 18, 12, 22, 19, 7, 23, 3, 21, 11, 15, 5, 8, 2, 15, 14, 4, 10, 0, 7, 2, 24, 10, 13, 10, 18, 4, 4, 3, 15, 2, 2, 11, 7, 7, 6, 1, 17, 20, 14, 20, 8, 11, 11, 15, 10, 0, 19, 14, 22, 19, 20, 21, 22, 23, 3, 3, 17, 14, 24, 16, 7, 18, 14, 15, 18, 8, 18, 0, 16, 16, 2, 0, 0, 1, 8, 7, 3, 8, 22, 5, 15, 1, 6, 3, 8, 1, 5, 10, 2, 5, 1, 16, 16, 18, 18, 24, 18, 1, 23, 10, 14, 15, 0, 15, 19, 11, 7, 12, 5, 20, 3, 13, 15, 6, 4, 16, 14, 14, 18, 1, 24, 5, 11, 2, 1, 6, 18, 20, 18, 15, 4, 18, 11, 8, 2, 2, 22, 18, 8, 20, 6, 16, 20, 7, 8, 17, 6, 21, 18, 14, 12, 22, 6, 3, 5, 5, 21, 7, 1, 4, 5, 21, 8, 19, 16, 23, 0, 16, 8, 18, 11, 5, 14, 17, 4, 16, 19, 11, 12, 14, 20, 17, 12, 0, 11, 17, 21, 18, 2, 7, 13, 4, 19, 12, 23, 17, 2, 16, 19, 12, 10, 10, 11, 15, 12, 11, 17, 24, 3, 6, 8, 2, 23, 16, 5, 3, 0, 2, 22, 21, 24, 24, 1, 13, 3, 12, 23, 20, 13, 2, 4, 15, 19, 19, 7, 16, 17, 20, 14, 15, 10, 6, 5, 17, 8, 22, 5, 4, 23, 17, 13, 17, 21, 23, 4, 2, 11, 7, 13, 10, 3, 14, 1, 22, 11, 1, 10, 2, 7, 23, 24, 23, 24, 23, 21, 12, 12, 24, 24, 2, 20, 15, 3, 6, 14, 16, 12, 15, 6, 17, 3, 19, 7, 13, 17, 0, 19, 8, 14, 5, 20, 24, 16, 11, 0, 17, 22, 5, 0, 14, 23, 17, 16, 6, 6, 6, 1, 13, 17, 10, 18, 20, 6, 16, 19, 6, 2, 11, 4, 8, 11, 21, 24, 10, 2, 16, 0, 2, 16, 5, 15, 3, 8, 6, 7, 11, 2, 10, 4, 22, 21, 22, 11, 1, 12, 19, 16, 12, 17, 22, 17, 6, 23, 24, 16, 18, 16, 8, 10, 23, 16, 2, 1, 7, 1, 1, 21, 7, 0, 0, 3, 2, 8, 2, 6, 11, 23, 12, 15, 2, 18, 12, 20, 18, 11, 24, 17, 6, 8, 0, 24, 12, 1, 18, 8, 13, 12, 22, 7, 19, 0, 15, 20, 20, 10, 8, 23, 1, 17, 2, 5, 8, 13, 7, 3, 1, 1, 6, 19, 21, 8, 17, 6, 6, 0, 1, 18, 0, 11, 8, 14, 21, 23, 15, 11, 23, 12, 0, 20, 19, 14, 15, 22, 14, 7, 21, 2, 8, 14, 8, 24, 24, 11, 17, 11, 1, 10, 13, 19, 3, 20, 21, 10, 11, 14, 8, 5, 7, 12, 24, 3, 23, 14, 7, 0, 8, 12, 6, 20, 23, 15, 24, 1, 1, 5, 8, 20, 6, 24, 11, 16, 16, 16, 8, 21, 16, 7, 16, 21, 17, 4, 23, 13, 24, 20, 2, 11, 3, 24, 16, 5, 5, 6, 24, 12, 3, 0, 10, 10, 8, 11, 23, 14, 1, 0, 1, 14, 4, 23, 18, 16, 14, 11, 22, 15, 21, 17, 15, 21, 1, 3, 24, 5, 24, 20, 2, 12, 14, 23, 8, 24, 8, 5, 7, 14, 23, 2, 17, 5, 5, 14, 23, 2, 18, 10, 3, 0, 11, 20, 6, 7, 15, 22, 11, 2, 1, 13, 14, 2, 13, 19, 22, 24, 17, 19, 21, 20, 13, 16, 8, 2, 6, 5, 15, 14, 23, 2, 4, 17, 15, 17, 21, 14, 12, 18, 4, 18, 23, 2, 10, 13, 15, 24, 24, 7, 17, 22, 3, 2, 21, 14, 10, 20, 14, 17, 20, 16, 0, 14, 13, 2, 5, 14, 14, 12, 23, 15, 6, 12, 20, 4, 0, 22, 17, 20, 13, 8, 7, 20, 1, 11, 13, 17, 14, 2, 22, 12, 16, 22, 15, 12, 24, 13, 17, 14, 17, 15, 21, 6, 12, 17, 5, 18, 11, 5, 21, 3, 1, 13, 13, 10, 14, 6, 6, 19, 20, 17, 17, 22, 7, 3, 22, 16, 21, 17, 13, 2, 18, 21, 14, 3, 4, 23, 3, 0, 8, 1, 5, 0, 5, 10, 5, 21, 1, 0, 10, 21, 23, 20, 20, 11, 16, 14, 24, 17, 11, 2, 11, 5, 1, 2, 18, 14, 5, 14, 12, 23, 1, 22, 15, 22, 5, 13, 2, 14, 22, 14, 5, 11, 3, 22, 1, 5, 7, 11, 23, 18, 21, 0, 23, 19, 4, 22, 4, 16, 5, 22, 14, 24, 20, 1, 0, 6, 8, 11, 11, 11, 24, 6, 6, 11, 1, 16, 14, 21, 3, 20, 7, 16, 14, 15, 11, 16, 16, 0, 2, 17, 5, 12, 11, 4, 7, 3, 18, 14, 10, 20, 10, 20, 1, 5, 18, 4, 6, 23, 8, 24, 7, 1, 0, 24, 18, 3, 23, 8, 21, 2, 16, 12, 6, 6, 20, 16, 2, 12, 24, 0, 2, 6, 3, 19, 12, 7, 19, 19, 14, 14, 5, 5, 13, 18, 23, 14, 24, 17, 14, 12, 3, 3, 11, 5, 3, 22, 8, 16, 5, 17, 8, 6, 21, 23, 7, 16, 15, 13, 18, 5, 5, 14, 3, 3, 17, 1, 0, 3, 12, 4, 24, 21, 12, 1, 5, 19, 7, 15, 18, 22, 10, 14, 3, 13, 17, 3, 3, 16, 15, 8, 1, 17, 23, 23, 24, 3, 13, 18, 16, 20, 23, 0, 11, 13, 4, 17, 18, 0, 17, 14, 10, 3, 8, 23, 18, 23, 21, 0, 3, 4, 21, 24, 20, 12, 17, 10]\n",
      "Tempo de execução: 957.715764 segundos\n",
      "O valor do RMSE é: 10.384700284553233.\n"
     ]
    }
   ],
   "source": [
    "result_5000_euclidian, rmse_5000_euclidian = knn_euclidian(5000)"
   ]
  },
  {
   "cell_type": "code",
   "execution_count": 122,
   "metadata": {},
   "outputs": [
    {
     "ename": "KeyboardInterrupt",
     "evalue": "",
     "output_type": "error",
     "traceback": [
      "\u001b[1;31m---------------------------------------------------------------------------\u001b[0m",
      "\u001b[1;31mKeyboardInterrupt\u001b[0m                         Traceback (most recent call last)",
      "Cell \u001b[1;32mIn[122], line 3\u001b[0m\n\u001b[0;32m      1\u001b[0m total \u001b[38;5;241m=\u001b[39m get_total_df()\n\u001b[0;32m      2\u001b[0m tam \u001b[38;5;241m=\u001b[39m \u001b[38;5;28mlen\u001b[39m(np\u001b[38;5;241m.\u001b[39masarray(total))\n\u001b[1;32m----> 3\u001b[0m result_total_euclidian, rmse_total_euclidian \u001b[38;5;241m=\u001b[39m \u001b[43mknn_euclidian\u001b[49m\u001b[43m(\u001b[49m\u001b[43mtam\u001b[49m\u001b[43m)\u001b[49m\n",
      "Cell \u001b[1;32mIn[115], line 4\u001b[0m, in \u001b[0;36mknn_euclidian\u001b[1;34m(tam_amostra)\u001b[0m\n\u001b[0;32m      2\u001b[0m start_time \u001b[38;5;241m=\u001b[39m time\u001b[38;5;241m.\u001b[39mtime()\n\u001b[0;32m      3\u001b[0m X_train, X_test, y_train, y_test \u001b[38;5;241m=\u001b[39m get_x_y(tam_amostra)\n\u001b[1;32m----> 4\u001b[0m result \u001b[38;5;241m=\u001b[39m \u001b[43mknn\u001b[49m\u001b[43m(\u001b[49m\u001b[43mX_train\u001b[49m\u001b[43m,\u001b[49m\u001b[43m \u001b[49m\u001b[43mX_test\u001b[49m\u001b[43m,\u001b[49m\u001b[43m \u001b[49m\u001b[43my_train\u001b[49m\u001b[43m,\u001b[49m\u001b[43m \u001b[49m\u001b[43mS\u001b[49m\u001b[43m \u001b[49m\u001b[38;5;241;43m=\u001b[39;49m\u001b[43m \u001b[49m\u001b[38;5;241;43m0\u001b[39;49m\u001b[43m,\u001b[49m\u001b[43m \u001b[49m\u001b[38;5;28;43mtype\u001b[39;49m\u001b[38;5;241;43m=\u001b[39;49m\u001b[38;5;124;43m\"\u001b[39;49m\u001b[38;5;124;43meuclidiana\u001b[39;49m\u001b[38;5;124;43m\"\u001b[39;49m\u001b[43m)\u001b[49m\n\u001b[0;32m      5\u001b[0m end_time \u001b[38;5;241m=\u001b[39m time\u001b[38;5;241m.\u001b[39mtime()\n\u001b[0;32m      6\u001b[0m \u001b[38;5;28mprint\u001b[39m(\u001b[38;5;124mf\u001b[39m\u001b[38;5;124m\"\u001b[39m\u001b[38;5;124mTempo de execução: \u001b[39m\u001b[38;5;132;01m{\u001b[39;00mend_time\u001b[38;5;250m \u001b[39m\u001b[38;5;241m-\u001b[39m\u001b[38;5;250m \u001b[39mstart_time\u001b[38;5;132;01m:\u001b[39;00m\u001b[38;5;124m.6f\u001b[39m\u001b[38;5;132;01m}\u001b[39;00m\u001b[38;5;124m segundos\u001b[39m\u001b[38;5;124m\"\u001b[39m)\n",
      "Cell \u001b[1;32mIn[103], line 37\u001b[0m, in \u001b[0;36mknn\u001b[1;34m(x_train, x_test, y_train, S, type)\u001b[0m\n\u001b[0;32m     34\u001b[0m     dist \u001b[38;5;241m=\u001b[39m mahalanobis_distance(train_vector, test_vector, S)\n\u001b[0;32m     35\u001b[0m \u001b[38;5;28;01melif\u001b[39;00m (\u001b[38;5;28mtype\u001b[39m \u001b[38;5;241m==\u001b[39m \u001b[38;5;124m\"\u001b[39m\u001b[38;5;124meuclidiana\u001b[39m\u001b[38;5;124m\"\u001b[39m):\n\u001b[0;32m     36\u001b[0m     \u001b[38;5;66;03m# essa distância euclidiana foi comparada com a do scipy\u001b[39;00m\n\u001b[1;32m---> 37\u001b[0m     dist \u001b[38;5;241m=\u001b[39m \u001b[43meuclidian_distance\u001b[49m\u001b[43m(\u001b[49m\u001b[43mtrain_vector\u001b[49m\u001b[43m,\u001b[49m\u001b[43m \u001b[49m\u001b[43mtest_vector\u001b[49m\u001b[43m)\u001b[49m\n\u001b[0;32m     38\u001b[0m \u001b[38;5;28;01melse\u001b[39;00m:\n\u001b[0;32m     39\u001b[0m     \u001b[38;5;28;01mraise\u001b[39;00m \u001b[38;5;167;01mTypeError\u001b[39;00m(\u001b[38;5;124m\"\u001b[39m\u001b[38;5;124mO argumento deve ser uma string de valor \u001b[39m\u001b[38;5;124m'\u001b[39m\u001b[38;5;124mmahalanobis\u001b[39m\u001b[38;5;124m'\u001b[39m\u001b[38;5;124m ou \u001b[39m\u001b[38;5;124m'\u001b[39m\u001b[38;5;124meuclidiana\u001b[39m\u001b[38;5;124m'\u001b[39m\u001b[38;5;124m\"\u001b[39m)\n",
      "Cell \u001b[1;32mIn[103], line 13\u001b[0m, in \u001b[0;36meuclidian_distance\u001b[1;34m(x, y)\u001b[0m\n\u001b[0;32m     11\u001b[0m     diff \u001b[38;5;241m=\u001b[39m \u001b[38;5;241m0\u001b[39m\n\u001b[0;32m     12\u001b[0m     \u001b[38;5;28;01mfor\u001b[39;00m index, value_x \u001b[38;5;129;01min\u001b[39;00m \u001b[38;5;28menumerate\u001b[39m(x):\n\u001b[1;32m---> 13\u001b[0m         diff\u001b[38;5;241m+\u001b[39m\u001b[38;5;241m=\u001b[39m(value_x\u001b[38;5;241m-\u001b[39my[index])\u001b[38;5;241m*\u001b[39m(value_x\u001b[38;5;241m-\u001b[39my[index])\n\u001b[0;32m     14\u001b[0m     \u001b[38;5;28;01mreturn\u001b[39;00m np\u001b[38;5;241m.\u001b[39msqrt(diff)\n\u001b[0;32m     15\u001b[0m \u001b[38;5;28;01melse\u001b[39;00m:\n",
      "\u001b[1;31mKeyboardInterrupt\u001b[0m: "
     ]
    }
   ],
   "source": [
    "total = get_total_df()\n",
    "tam = len(np.asarray(total))\n",
    "result_total_euclidian, rmse_total_euclidian = knn_euclidian(tam)"
   ]
  }
 ],
 "metadata": {
  "kernelspec": {
   "display_name": "Python 3 (ipykernel)",
   "language": "python",
   "name": "python3"
  },
  "language_info": {
   "codemirror_mode": {
    "name": "ipython",
    "version": 3
   },
   "file_extension": ".py",
   "mimetype": "text/x-python",
   "name": "python",
   "nbconvert_exporter": "python",
   "pygments_lexer": "ipython3",
   "version": "3.12.3"
  }
 },
 "nbformat": 4,
 "nbformat_minor": 4
}
