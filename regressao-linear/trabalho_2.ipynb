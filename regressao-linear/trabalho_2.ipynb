{
 "cells": [
  {
   "cell_type": "code",
   "execution_count": 1,
   "metadata": {
    "metadata": {}
   },
   "outputs": [],
   "source": [
    "import pandas as pd\n",
    "import numpy as np\n",
    "import scipy\n",
    "import matplotlib.pyplot as plt"
   ]
  },
  {
   "cell_type": "markdown",
   "metadata": {},
   "source": [
    "#### Armazenando dataset em um array"
   ]
  },
  {
   "cell_type": "code",
   "execution_count": 2,
   "metadata": {
    "metadata": {}
   },
   "outputs": [],
   "source": [
    "concrete_data = pd.read_excel(\"./Concrete_Data.xls\")\n",
    "concrete_data.drop(\"Water  (component 4)(kg in a m^3 mixture)\", axis=1, inplace=True)\n"
   ]
  },
  {
   "cell_type": "markdown",
   "metadata": {},
   "source": [
    "#### Mostrando os nomes das características"
   ]
  },
  {
   "cell_type": "code",
   "execution_count": 3,
   "metadata": {
    "metadata": {}
   },
   "outputs": [
    {
     "name": "stdout",
     "output_type": "stream",
     "text": [
      "Cement (component 1)(kg in a m^3 mixture)\n",
      "Blast Furnace Slag (component 2)(kg in a m^3 mixture)\n",
      "Fly Ash (component 3)(kg in a m^3 mixture)\n",
      "Superplasticizer (component 5)(kg in a m^3 mixture)\n",
      "Coarse Aggregate  (component 6)(kg in a m^3 mixture)\n",
      "Fine Aggregate (component 7)(kg in a m^3 mixture)\n",
      "Age (day)\n",
      "Concrete compressive strength(MPa, megapascals) \n"
     ]
    }
   ],
   "source": [
    "for col in concrete_data.columns:\n",
    "    print(col)"
   ]
  },
  {
   "cell_type": "markdown",
   "metadata": {},
   "source": [
    "#### Mostrando as (15) primeiras linhas do banco de dados"
   ]
  },
  {
   "cell_type": "code",
   "execution_count": 4,
   "metadata": {
    "metadata": {}
   },
   "outputs": [
    {
     "data": {
      "text/html": [
       "<div>\n",
       "<style scoped>\n",
       "    .dataframe tbody tr th:only-of-type {\n",
       "        vertical-align: middle;\n",
       "    }\n",
       "\n",
       "    .dataframe tbody tr th {\n",
       "        vertical-align: top;\n",
       "    }\n",
       "\n",
       "    .dataframe thead th {\n",
       "        text-align: right;\n",
       "    }\n",
       "</style>\n",
       "<table border=\"1\" class=\"dataframe\">\n",
       "  <thead>\n",
       "    <tr style=\"text-align: right;\">\n",
       "      <th></th>\n",
       "      <th>Cement (component 1)(kg in a m^3 mixture)</th>\n",
       "      <th>Blast Furnace Slag (component 2)(kg in a m^3 mixture)</th>\n",
       "      <th>Fly Ash (component 3)(kg in a m^3 mixture)</th>\n",
       "      <th>Superplasticizer (component 5)(kg in a m^3 mixture)</th>\n",
       "      <th>Coarse Aggregate  (component 6)(kg in a m^3 mixture)</th>\n",
       "      <th>Fine Aggregate (component 7)(kg in a m^3 mixture)</th>\n",
       "      <th>Age (day)</th>\n",
       "      <th>Concrete compressive strength(MPa, megapascals)</th>\n",
       "    </tr>\n",
       "  </thead>\n",
       "  <tbody>\n",
       "    <tr>\n",
       "      <th>0</th>\n",
       "      <td>540.0</td>\n",
       "      <td>0.0</td>\n",
       "      <td>0.0</td>\n",
       "      <td>2.5</td>\n",
       "      <td>1040.0</td>\n",
       "      <td>676.0</td>\n",
       "      <td>28</td>\n",
       "      <td>79.986111</td>\n",
       "    </tr>\n",
       "    <tr>\n",
       "      <th>1</th>\n",
       "      <td>540.0</td>\n",
       "      <td>0.0</td>\n",
       "      <td>0.0</td>\n",
       "      <td>2.5</td>\n",
       "      <td>1055.0</td>\n",
       "      <td>676.0</td>\n",
       "      <td>28</td>\n",
       "      <td>61.887366</td>\n",
       "    </tr>\n",
       "    <tr>\n",
       "      <th>2</th>\n",
       "      <td>332.5</td>\n",
       "      <td>142.5</td>\n",
       "      <td>0.0</td>\n",
       "      <td>0.0</td>\n",
       "      <td>932.0</td>\n",
       "      <td>594.0</td>\n",
       "      <td>270</td>\n",
       "      <td>40.269535</td>\n",
       "    </tr>\n",
       "    <tr>\n",
       "      <th>3</th>\n",
       "      <td>332.5</td>\n",
       "      <td>142.5</td>\n",
       "      <td>0.0</td>\n",
       "      <td>0.0</td>\n",
       "      <td>932.0</td>\n",
       "      <td>594.0</td>\n",
       "      <td>365</td>\n",
       "      <td>41.052780</td>\n",
       "    </tr>\n",
       "    <tr>\n",
       "      <th>4</th>\n",
       "      <td>198.6</td>\n",
       "      <td>132.4</td>\n",
       "      <td>0.0</td>\n",
       "      <td>0.0</td>\n",
       "      <td>978.4</td>\n",
       "      <td>825.5</td>\n",
       "      <td>360</td>\n",
       "      <td>44.296075</td>\n",
       "    </tr>\n",
       "    <tr>\n",
       "      <th>5</th>\n",
       "      <td>266.0</td>\n",
       "      <td>114.0</td>\n",
       "      <td>0.0</td>\n",
       "      <td>0.0</td>\n",
       "      <td>932.0</td>\n",
       "      <td>670.0</td>\n",
       "      <td>90</td>\n",
       "      <td>47.029847</td>\n",
       "    </tr>\n",
       "    <tr>\n",
       "      <th>6</th>\n",
       "      <td>380.0</td>\n",
       "      <td>95.0</td>\n",
       "      <td>0.0</td>\n",
       "      <td>0.0</td>\n",
       "      <td>932.0</td>\n",
       "      <td>594.0</td>\n",
       "      <td>365</td>\n",
       "      <td>43.698299</td>\n",
       "    </tr>\n",
       "    <tr>\n",
       "      <th>7</th>\n",
       "      <td>380.0</td>\n",
       "      <td>95.0</td>\n",
       "      <td>0.0</td>\n",
       "      <td>0.0</td>\n",
       "      <td>932.0</td>\n",
       "      <td>594.0</td>\n",
       "      <td>28</td>\n",
       "      <td>36.447770</td>\n",
       "    </tr>\n",
       "    <tr>\n",
       "      <th>8</th>\n",
       "      <td>266.0</td>\n",
       "      <td>114.0</td>\n",
       "      <td>0.0</td>\n",
       "      <td>0.0</td>\n",
       "      <td>932.0</td>\n",
       "      <td>670.0</td>\n",
       "      <td>28</td>\n",
       "      <td>45.854291</td>\n",
       "    </tr>\n",
       "    <tr>\n",
       "      <th>9</th>\n",
       "      <td>475.0</td>\n",
       "      <td>0.0</td>\n",
       "      <td>0.0</td>\n",
       "      <td>0.0</td>\n",
       "      <td>932.0</td>\n",
       "      <td>594.0</td>\n",
       "      <td>28</td>\n",
       "      <td>39.289790</td>\n",
       "    </tr>\n",
       "    <tr>\n",
       "      <th>10</th>\n",
       "      <td>198.6</td>\n",
       "      <td>132.4</td>\n",
       "      <td>0.0</td>\n",
       "      <td>0.0</td>\n",
       "      <td>978.4</td>\n",
       "      <td>825.5</td>\n",
       "      <td>90</td>\n",
       "      <td>38.074244</td>\n",
       "    </tr>\n",
       "    <tr>\n",
       "      <th>11</th>\n",
       "      <td>198.6</td>\n",
       "      <td>132.4</td>\n",
       "      <td>0.0</td>\n",
       "      <td>0.0</td>\n",
       "      <td>978.4</td>\n",
       "      <td>825.5</td>\n",
       "      <td>28</td>\n",
       "      <td>28.021684</td>\n",
       "    </tr>\n",
       "    <tr>\n",
       "      <th>12</th>\n",
       "      <td>427.5</td>\n",
       "      <td>47.5</td>\n",
       "      <td>0.0</td>\n",
       "      <td>0.0</td>\n",
       "      <td>932.0</td>\n",
       "      <td>594.0</td>\n",
       "      <td>270</td>\n",
       "      <td>43.012960</td>\n",
       "    </tr>\n",
       "    <tr>\n",
       "      <th>13</th>\n",
       "      <td>190.0</td>\n",
       "      <td>190.0</td>\n",
       "      <td>0.0</td>\n",
       "      <td>0.0</td>\n",
       "      <td>932.0</td>\n",
       "      <td>670.0</td>\n",
       "      <td>90</td>\n",
       "      <td>42.326932</td>\n",
       "    </tr>\n",
       "    <tr>\n",
       "      <th>14</th>\n",
       "      <td>304.0</td>\n",
       "      <td>76.0</td>\n",
       "      <td>0.0</td>\n",
       "      <td>0.0</td>\n",
       "      <td>932.0</td>\n",
       "      <td>670.0</td>\n",
       "      <td>28</td>\n",
       "      <td>47.813782</td>\n",
       "    </tr>\n",
       "  </tbody>\n",
       "</table>\n",
       "</div>"
      ],
      "text/plain": [
       "    Cement (component 1)(kg in a m^3 mixture)  \\\n",
       "0                                       540.0   \n",
       "1                                       540.0   \n",
       "2                                       332.5   \n",
       "3                                       332.5   \n",
       "4                                       198.6   \n",
       "5                                       266.0   \n",
       "6                                       380.0   \n",
       "7                                       380.0   \n",
       "8                                       266.0   \n",
       "9                                       475.0   \n",
       "10                                      198.6   \n",
       "11                                      198.6   \n",
       "12                                      427.5   \n",
       "13                                      190.0   \n",
       "14                                      304.0   \n",
       "\n",
       "    Blast Furnace Slag (component 2)(kg in a m^3 mixture)  \\\n",
       "0                                                 0.0       \n",
       "1                                                 0.0       \n",
       "2                                               142.5       \n",
       "3                                               142.5       \n",
       "4                                               132.4       \n",
       "5                                               114.0       \n",
       "6                                                95.0       \n",
       "7                                                95.0       \n",
       "8                                               114.0       \n",
       "9                                                 0.0       \n",
       "10                                              132.4       \n",
       "11                                              132.4       \n",
       "12                                               47.5       \n",
       "13                                              190.0       \n",
       "14                                               76.0       \n",
       "\n",
       "    Fly Ash (component 3)(kg in a m^3 mixture)  \\\n",
       "0                                          0.0   \n",
       "1                                          0.0   \n",
       "2                                          0.0   \n",
       "3                                          0.0   \n",
       "4                                          0.0   \n",
       "5                                          0.0   \n",
       "6                                          0.0   \n",
       "7                                          0.0   \n",
       "8                                          0.0   \n",
       "9                                          0.0   \n",
       "10                                         0.0   \n",
       "11                                         0.0   \n",
       "12                                         0.0   \n",
       "13                                         0.0   \n",
       "14                                         0.0   \n",
       "\n",
       "    Superplasticizer (component 5)(kg in a m^3 mixture)  \\\n",
       "0                                                 2.5     \n",
       "1                                                 2.5     \n",
       "2                                                 0.0     \n",
       "3                                                 0.0     \n",
       "4                                                 0.0     \n",
       "5                                                 0.0     \n",
       "6                                                 0.0     \n",
       "7                                                 0.0     \n",
       "8                                                 0.0     \n",
       "9                                                 0.0     \n",
       "10                                                0.0     \n",
       "11                                                0.0     \n",
       "12                                                0.0     \n",
       "13                                                0.0     \n",
       "14                                                0.0     \n",
       "\n",
       "    Coarse Aggregate  (component 6)(kg in a m^3 mixture)  \\\n",
       "0                                              1040.0      \n",
       "1                                              1055.0      \n",
       "2                                               932.0      \n",
       "3                                               932.0      \n",
       "4                                               978.4      \n",
       "5                                               932.0      \n",
       "6                                               932.0      \n",
       "7                                               932.0      \n",
       "8                                               932.0      \n",
       "9                                               932.0      \n",
       "10                                              978.4      \n",
       "11                                              978.4      \n",
       "12                                              932.0      \n",
       "13                                              932.0      \n",
       "14                                              932.0      \n",
       "\n",
       "    Fine Aggregate (component 7)(kg in a m^3 mixture)  Age (day)  \\\n",
       "0                                               676.0         28   \n",
       "1                                               676.0         28   \n",
       "2                                               594.0        270   \n",
       "3                                               594.0        365   \n",
       "4                                               825.5        360   \n",
       "5                                               670.0         90   \n",
       "6                                               594.0        365   \n",
       "7                                               594.0         28   \n",
       "8                                               670.0         28   \n",
       "9                                               594.0         28   \n",
       "10                                              825.5         90   \n",
       "11                                              825.5         28   \n",
       "12                                              594.0        270   \n",
       "13                                              670.0         90   \n",
       "14                                              670.0         28   \n",
       "\n",
       "    Concrete compressive strength(MPa, megapascals)   \n",
       "0                                          79.986111  \n",
       "1                                          61.887366  \n",
       "2                                          40.269535  \n",
       "3                                          41.052780  \n",
       "4                                          44.296075  \n",
       "5                                          47.029847  \n",
       "6                                          43.698299  \n",
       "7                                          36.447770  \n",
       "8                                          45.854291  \n",
       "9                                          39.289790  \n",
       "10                                         38.074244  \n",
       "11                                         28.021684  \n",
       "12                                         43.012960  \n",
       "13                                         42.326932  \n",
       "14                                         47.813782  "
      ]
     },
     "execution_count": 4,
     "metadata": {},
     "output_type": "execute_result"
    }
   ],
   "source": [
    "concrete_data.head(15)"
   ]
  },
  {
   "cell_type": "markdown",
   "metadata": {},
   "source": [
    "#### Adicionando análise de matriz de correlação entre as colunas\n",
    "Pode-se perceber que algumas características, como Fly Ash, possuem correlação negativa com relação a coluna de saída, o que pode nos ajudar a ajustar o modelo. \n",
    "Obs: com a remoção de alguma dessas características, mesmo as com correlação negativa, o RMSE geralmente aumenta uma casa decimal."
   ]
  },
  {
   "cell_type": "code",
   "execution_count": 5,
   "metadata": {},
   "outputs": [
    {
     "data": {
      "text/html": [
       "<div>\n",
       "<style scoped>\n",
       "    .dataframe tbody tr th:only-of-type {\n",
       "        vertical-align: middle;\n",
       "    }\n",
       "\n",
       "    .dataframe tbody tr th {\n",
       "        vertical-align: top;\n",
       "    }\n",
       "\n",
       "    .dataframe thead th {\n",
       "        text-align: right;\n",
       "    }\n",
       "</style>\n",
       "<table border=\"1\" class=\"dataframe\">\n",
       "  <thead>\n",
       "    <tr style=\"text-align: right;\">\n",
       "      <th></th>\n",
       "      <th>Cement (component 1)(kg in a m^3 mixture)</th>\n",
       "      <th>Blast Furnace Slag (component 2)(kg in a m^3 mixture)</th>\n",
       "      <th>Fly Ash (component 3)(kg in a m^3 mixture)</th>\n",
       "      <th>Superplasticizer (component 5)(kg in a m^3 mixture)</th>\n",
       "      <th>Coarse Aggregate  (component 6)(kg in a m^3 mixture)</th>\n",
       "      <th>Fine Aggregate (component 7)(kg in a m^3 mixture)</th>\n",
       "      <th>Age (day)</th>\n",
       "      <th>Concrete compressive strength(MPa, megapascals)</th>\n",
       "    </tr>\n",
       "  </thead>\n",
       "  <tbody>\n",
       "    <tr>\n",
       "      <th>Cement (component 1)(kg in a m^3 mixture)</th>\n",
       "      <td>1.00</td>\n",
       "      <td>-0.28</td>\n",
       "      <td>-0.40</td>\n",
       "      <td>0.09</td>\n",
       "      <td>-0.11</td>\n",
       "      <td>-0.22</td>\n",
       "      <td>0.08</td>\n",
       "      <td>0.50</td>\n",
       "    </tr>\n",
       "    <tr>\n",
       "      <th>Blast Furnace Slag (component 2)(kg in a m^3 mixture)</th>\n",
       "      <td>-0.28</td>\n",
       "      <td>1.00</td>\n",
       "      <td>-0.32</td>\n",
       "      <td>0.04</td>\n",
       "      <td>-0.28</td>\n",
       "      <td>-0.28</td>\n",
       "      <td>-0.04</td>\n",
       "      <td>0.13</td>\n",
       "    </tr>\n",
       "    <tr>\n",
       "      <th>Fly Ash (component 3)(kg in a m^3 mixture)</th>\n",
       "      <td>-0.40</td>\n",
       "      <td>-0.32</td>\n",
       "      <td>1.00</td>\n",
       "      <td>0.38</td>\n",
       "      <td>-0.01</td>\n",
       "      <td>0.08</td>\n",
       "      <td>-0.15</td>\n",
       "      <td>-0.11</td>\n",
       "    </tr>\n",
       "    <tr>\n",
       "      <th>Superplasticizer (component 5)(kg in a m^3 mixture)</th>\n",
       "      <td>0.09</td>\n",
       "      <td>0.04</td>\n",
       "      <td>0.38</td>\n",
       "      <td>1.00</td>\n",
       "      <td>-0.27</td>\n",
       "      <td>0.22</td>\n",
       "      <td>-0.19</td>\n",
       "      <td>0.37</td>\n",
       "    </tr>\n",
       "    <tr>\n",
       "      <th>Coarse Aggregate  (component 6)(kg in a m^3 mixture)</th>\n",
       "      <td>-0.11</td>\n",
       "      <td>-0.28</td>\n",
       "      <td>-0.01</td>\n",
       "      <td>-0.27</td>\n",
       "      <td>1.00</td>\n",
       "      <td>-0.18</td>\n",
       "      <td>-0.00</td>\n",
       "      <td>-0.16</td>\n",
       "    </tr>\n",
       "    <tr>\n",
       "      <th>Fine Aggregate (component 7)(kg in a m^3 mixture)</th>\n",
       "      <td>-0.22</td>\n",
       "      <td>-0.28</td>\n",
       "      <td>0.08</td>\n",
       "      <td>0.22</td>\n",
       "      <td>-0.18</td>\n",
       "      <td>1.00</td>\n",
       "      <td>-0.16</td>\n",
       "      <td>-0.17</td>\n",
       "    </tr>\n",
       "    <tr>\n",
       "      <th>Age (day)</th>\n",
       "      <td>0.08</td>\n",
       "      <td>-0.04</td>\n",
       "      <td>-0.15</td>\n",
       "      <td>-0.19</td>\n",
       "      <td>-0.00</td>\n",
       "      <td>-0.16</td>\n",
       "      <td>1.00</td>\n",
       "      <td>0.33</td>\n",
       "    </tr>\n",
       "    <tr>\n",
       "      <th>Concrete compressive strength(MPa, megapascals)</th>\n",
       "      <td>0.50</td>\n",
       "      <td>0.13</td>\n",
       "      <td>-0.11</td>\n",
       "      <td>0.37</td>\n",
       "      <td>-0.16</td>\n",
       "      <td>-0.17</td>\n",
       "      <td>0.33</td>\n",
       "      <td>1.00</td>\n",
       "    </tr>\n",
       "  </tbody>\n",
       "</table>\n",
       "</div>"
      ],
      "text/plain": [
       "                                                    Cement (component 1)(kg in a m^3 mixture)  \\\n",
       "Cement (component 1)(kg in a m^3 mixture)                                                1.00   \n",
       "Blast Furnace Slag (component 2)(kg in a m^3 mi...                                      -0.28   \n",
       "Fly Ash (component 3)(kg in a m^3 mixture)                                              -0.40   \n",
       "Superplasticizer (component 5)(kg in a m^3 mixt...                                       0.09   \n",
       "Coarse Aggregate  (component 6)(kg in a m^3 mix...                                      -0.11   \n",
       "Fine Aggregate (component 7)(kg in a m^3 mixture)                                       -0.22   \n",
       "Age (day)                                                                                0.08   \n",
       "Concrete compressive strength(MPa, megapascals)                                          0.50   \n",
       "\n",
       "                                                    Blast Furnace Slag (component 2)(kg in a m^3 mixture)  \\\n",
       "Cement (component 1)(kg in a m^3 mixture)                                                       -0.28       \n",
       "Blast Furnace Slag (component 2)(kg in a m^3 mi...                                               1.00       \n",
       "Fly Ash (component 3)(kg in a m^3 mixture)                                                      -0.32       \n",
       "Superplasticizer (component 5)(kg in a m^3 mixt...                                               0.04       \n",
       "Coarse Aggregate  (component 6)(kg in a m^3 mix...                                              -0.28       \n",
       "Fine Aggregate (component 7)(kg in a m^3 mixture)                                               -0.28       \n",
       "Age (day)                                                                                       -0.04       \n",
       "Concrete compressive strength(MPa, megapascals)                                                  0.13       \n",
       "\n",
       "                                                    Fly Ash (component 3)(kg in a m^3 mixture)  \\\n",
       "Cement (component 1)(kg in a m^3 mixture)                                                -0.40   \n",
       "Blast Furnace Slag (component 2)(kg in a m^3 mi...                                       -0.32   \n",
       "Fly Ash (component 3)(kg in a m^3 mixture)                                                1.00   \n",
       "Superplasticizer (component 5)(kg in a m^3 mixt...                                        0.38   \n",
       "Coarse Aggregate  (component 6)(kg in a m^3 mix...                                       -0.01   \n",
       "Fine Aggregate (component 7)(kg in a m^3 mixture)                                         0.08   \n",
       "Age (day)                                                                                -0.15   \n",
       "Concrete compressive strength(MPa, megapascals)                                          -0.11   \n",
       "\n",
       "                                                    Superplasticizer (component 5)(kg in a m^3 mixture)  \\\n",
       "Cement (component 1)(kg in a m^3 mixture)                                                        0.09     \n",
       "Blast Furnace Slag (component 2)(kg in a m^3 mi...                                               0.04     \n",
       "Fly Ash (component 3)(kg in a m^3 mixture)                                                       0.38     \n",
       "Superplasticizer (component 5)(kg in a m^3 mixt...                                               1.00     \n",
       "Coarse Aggregate  (component 6)(kg in a m^3 mix...                                              -0.27     \n",
       "Fine Aggregate (component 7)(kg in a m^3 mixture)                                                0.22     \n",
       "Age (day)                                                                                       -0.19     \n",
       "Concrete compressive strength(MPa, megapascals)                                                  0.37     \n",
       "\n",
       "                                                    Coarse Aggregate  (component 6)(kg in a m^3 mixture)  \\\n",
       "Cement (component 1)(kg in a m^3 mixture)                                                       -0.11      \n",
       "Blast Furnace Slag (component 2)(kg in a m^3 mi...                                              -0.28      \n",
       "Fly Ash (component 3)(kg in a m^3 mixture)                                                      -0.01      \n",
       "Superplasticizer (component 5)(kg in a m^3 mixt...                                              -0.27      \n",
       "Coarse Aggregate  (component 6)(kg in a m^3 mix...                                               1.00      \n",
       "Fine Aggregate (component 7)(kg in a m^3 mixture)                                               -0.18      \n",
       "Age (day)                                                                                       -0.00      \n",
       "Concrete compressive strength(MPa, megapascals)                                                 -0.16      \n",
       "\n",
       "                                                    Fine Aggregate (component 7)(kg in a m^3 mixture)  \\\n",
       "Cement (component 1)(kg in a m^3 mixture)                                                       -0.22   \n",
       "Blast Furnace Slag (component 2)(kg in a m^3 mi...                                              -0.28   \n",
       "Fly Ash (component 3)(kg in a m^3 mixture)                                                       0.08   \n",
       "Superplasticizer (component 5)(kg in a m^3 mixt...                                               0.22   \n",
       "Coarse Aggregate  (component 6)(kg in a m^3 mix...                                              -0.18   \n",
       "Fine Aggregate (component 7)(kg in a m^3 mixture)                                                1.00   \n",
       "Age (day)                                                                                       -0.16   \n",
       "Concrete compressive strength(MPa, megapascals)                                                 -0.17   \n",
       "\n",
       "                                                    Age (day)  \\\n",
       "Cement (component 1)(kg in a m^3 mixture)                0.08   \n",
       "Blast Furnace Slag (component 2)(kg in a m^3 mi...      -0.04   \n",
       "Fly Ash (component 3)(kg in a m^3 mixture)              -0.15   \n",
       "Superplasticizer (component 5)(kg in a m^3 mixt...      -0.19   \n",
       "Coarse Aggregate  (component 6)(kg in a m^3 mix...      -0.00   \n",
       "Fine Aggregate (component 7)(kg in a m^3 mixture)       -0.16   \n",
       "Age (day)                                                1.00   \n",
       "Concrete compressive strength(MPa, megapascals)          0.33   \n",
       "\n",
       "                                                    Concrete compressive strength(MPa, megapascals)   \n",
       "Cement (component 1)(kg in a m^3 mixture)                                                       0.50  \n",
       "Blast Furnace Slag (component 2)(kg in a m^3 mi...                                              0.13  \n",
       "Fly Ash (component 3)(kg in a m^3 mixture)                                                     -0.11  \n",
       "Superplasticizer (component 5)(kg in a m^3 mixt...                                              0.37  \n",
       "Coarse Aggregate  (component 6)(kg in a m^3 mix...                                             -0.16  \n",
       "Fine Aggregate (component 7)(kg in a m^3 mixture)                                              -0.17  \n",
       "Age (day)                                                                                       0.33  \n",
       "Concrete compressive strength(MPa, megapascals)                                                 1.00  "
      ]
     },
     "execution_count": 5,
     "metadata": {},
     "output_type": "execute_result"
    }
   ],
   "source": [
    "concrete_data.corr().round(2)"
   ]
  },
  {
   "cell_type": "markdown",
   "metadata": {},
   "source": [
    "#### Dividindo o dataset em conjunto de treinamento e conjunto de teste\n",
    "\n",
    "Variáveis finais:\n",
    "- `label_train`, `label_test` : array de label ('Concrete compressive strength(MPa, megapascals)) de treino e teste, respectivamente\n",
    "- `X_train`, `X_test`: matriz de treino e teste, respectivamente, sem o Y"
   ]
  },
  {
   "cell_type": "code",
   "execution_count": 6,
   "metadata": {
    "metadata": {}
   },
   "outputs": [
    {
     "name": "stdout",
     "output_type": "stream",
     "text": [
      "O dataset original tem 1030 linhas. O de treino, com 70%, tem 721 e o de teste, com 30%, tem 309.\n"
     ]
    }
   ],
   "source": [
    "tam = concrete_data.shape[0]\n",
    "tam_train = int(0.7 * tam)\n",
    "tam_test = int(0.3 * tam)\n",
    "\n",
    "print(f\"O dataset original tem {tam} linhas. O de treino, com 70%, tem {tam_train} e o de teste, com 30%, tem {tam_test}.\")"
   ]
  },
  {
   "cell_type": "code",
   "execution_count": 7,
   "metadata": {
    "metadata": {}
   },
   "outputs": [
    {
     "name": "stdout",
     "output_type": "stream",
     "text": [
      "Y treino:\n",
      " [79.98611076 61.88736576 40.26953526 ... 10.35455057 43.56523054\n",
      " 51.86376367]. \n",
      "\n",
      " Y teste:\n",
      " [11.85209244 17.24379476 27.82725136 ... 23.69660064 32.76803638\n",
      " 32.40123514].\n"
     ]
    }
   ],
   "source": [
    "labels = concrete_data['Concrete compressive strength(MPa, megapascals) ']\n",
    "labels_arr = np.asarray(labels)\n",
    "label_train, label_test = labels_arr[:tam_train, ...], labels_arr[tam_train:, ...]\n",
    "\n",
    "\n",
    "np.set_printoptions(threshold=10)\n",
    "print(f\"Y treino:\\n {label_train}. \\n\\n Y teste:\\n {label_test}.\")\n"
   ]
  },
  {
   "cell_type": "code",
   "execution_count": 8,
   "metadata": {
    "metadata": {}
   },
   "outputs": [
    {
     "name": "stdout",
     "output_type": "stream",
     "text": [
      "721\n"
     ]
    }
   ],
   "source": [
    "concrete_data_train = concrete_data.drop(columns=['Concrete compressive strength(MPa, megapascals) '])\n",
    "concrete_data_train_arr = np.asarray(concrete_data_train)\n",
    "X_train = concrete_data_train_arr[:tam_train]\n",
    "print(len(X_train))"
   ]
  },
  {
   "cell_type": "code",
   "execution_count": 9,
   "metadata": {
    "metadata": {}
   },
   "outputs": [
    {
     "name": "stdout",
     "output_type": "stream",
     "text": [
      "309\n"
     ]
    }
   ],
   "source": [
    "concrete_data_train_arr = np.asarray(concrete_data_train)\n",
    "X_test = concrete_data_train_arr[tam_train:]\n",
    "print(len(X_test))"
   ]
  },
  {
   "cell_type": "markdown",
   "metadata": {},
   "source": [
    "#### Construindo a matriz A"
   ]
  },
  {
   "cell_type": "code",
   "execution_count": 10,
   "metadata": {
    "metadata": {}
   },
   "outputs": [
    {
     "name": "stdout",
     "output_type": "stream",
     "text": [
      "Matriz A com viés:\n",
      " [[540.    0.    0.  ... 676.   28.    1. ]\n",
      " [540.    0.    0.  ... 676.   28.    1. ]\n",
      " [332.5 142.5   0.  ... 594.  270.    1. ]\n",
      " ...\n",
      " [122.6 183.9   0.  ... 800.1   7.    1. ]\n",
      " [166.8 250.2   0.  ... 692.6  90.    1. ]\n",
      " [203.5 305.3   0.  ... 630.   90.    1. ]]\n"
     ]
    }
   ],
   "source": [
    "ones = np.ones((tam_train, 1))  \n",
    "A = np.hstack((X_train, ones))\n",
    "\n",
    "print(f\"Matriz A com viés:\\n {A}\")"
   ]
  },
  {
   "cell_type": "markdown",
   "metadata": {},
   "source": [
    "#### Verificando se há colunas LD\n",
    "Calculando se o posto é máximo"
   ]
  },
  {
   "cell_type": "code",
   "execution_count": 11,
   "metadata": {},
   "outputs": [
    {
     "name": "stdout",
     "output_type": "stream",
     "text": [
      "Quantidade de colunas linearmente dependentes: 0\n"
     ]
    }
   ],
   "source": [
    "rank = np.linalg.matrix_rank(A)\n",
    "print(f\"Quantidade de colunas linearmente dependentes: {len(A[0])-rank}\")"
   ]
  },
  {
   "cell_type": "markdown",
   "metadata": {},
   "source": [
    "#### Fazendo o cálculo dos coeficientes\n",
    "\n",
    "Sobre a técnica de mínimos quadrados: ela é utilizada implícitamente no processo de decomposição QR e na resolução do sistema linear que determina os coeficientes do modelo de regressão linear.\n",
    "\n",
    "A equação normal da regressão linear, que é derivada do método dos mínimos quadrados, é:\n",
    "\n",
    "**A.T · A · x_  = A.T · b** \n",
    "\n",
    "Onde A é a matriz de design (matriz de características com a coluna de viés) e b é o vetor de saída (target). O vetor x_ são os coeficientes do modelo que queremos encontrar.\n",
    "\n",
    "**(QR).T · QR · x_ = (QR).T · b = R.T · R · x_ = Q.T · b**\n",
    "\n",
    "Isso reduz o problema a resolver **R · x_ = Q.T · b**, após simplificar o problema com a propriedade de Q ser ortogonal. Essa simplificação elimina a necessidade de calcular **A.T · A e A.T · b** diretamente, o que pode ser numéricamente instável e computacionalmente custoso especialmente para matrizes grandes.\n",
    "\n",
    "Quando utilizamos a função solve_triangular para resolver **R · x_ = Q.T · b**, estamos diretamente aplicando a solução dos mínimos quadrados através de uma abordagem mais estável numericamente. Este método é particularmente útil para evitar problemas como a multicolinearidade, que pode causar instabilidade na inversão de **A.T · A** diretamente.\n"
   ]
  },
  {
   "cell_type": "code",
   "execution_count": 12,
   "metadata": {},
   "outputs": [
    {
     "name": "stdout",
     "output_type": "stream",
     "text": [
      "[ 1.37561646e-01  1.20922873e-01  1.18628902e-01  5.55121739e-01\n",
      "  5.59995070e-02  4.75698500e-02  1.22813650e-01 -1.18635790e+02]\n"
     ]
    }
   ],
   "source": [
    "Q, R = scipy.linalg.qr(A, mode='economic')\n",
    "\n",
    "x_ = scipy.linalg.solve_triangular(R, np.dot(np.transpose(Q), label_train))\n",
    "\n",
    "print(x_)"
   ]
  },
  {
   "cell_type": "markdown",
   "metadata": {},
   "source": [
    "#### Fazendo a estimativa dos dados de teste a partir dos coeficientes x_"
   ]
  },
  {
   "cell_type": "code",
   "execution_count": 13,
   "metadata": {},
   "outputs": [],
   "source": [
    "ones = np.ones((tam_test, 1))  \n",
    "X_test = np.hstack((X_test, ones))"
   ]
  },
  {
   "cell_type": "code",
   "execution_count": 14,
   "metadata": {},
   "outputs": [
    {
     "name": "stdout",
     "output_type": "stream",
     "text": [
      "CPU times: user 12 µs, sys: 14 µs, total: 26 µs\n",
      "Wall time: 4.29 µs\n"
     ]
    }
   ],
   "source": [
    "%time\n",
    "predicted_y = np.dot(X_test, x_)"
   ]
  },
  {
   "cell_type": "code",
   "execution_count": 15,
   "metadata": {},
   "outputs": [
    {
     "name": "stdout",
     "output_type": "stream",
     "text": [
      "Predição de 'Concrete compressive strength':\n",
      " [20.5312373  21.0224919  23.60157854 31.21602481 34.90043429 23.7198968\n",
      " 24.2111514  26.79023804 34.40468431 38.08909379 27.36115294 27.85240754\n",
      " 30.43149418 38.04594045 41.73034993 15.1596368  17.73872344 20.56282955\n",
      " 23.14191619 16.2354711  37.54598213 45.1604284  32.57072231 19.52124721\n",
      " 22.10033385 42.42760953 42.67323683 43.16449143 44.02418698 45.74357807\n",
      " 48.66695726 49.52665281 51.2460439  58.86049017 69.91371863 80.96694708\n",
      " 21.78063471 22.64033026 24.35972135 27.79850354 31.97416762 43.02739608\n",
      " 24.83957616 25.08520346 25.57645806 26.4361536  28.1555447  43.01621534\n",
      " 65.12267225 26.71444783 21.27819937 28.55805679 31.13714343 34.28266848\n",
      " 22.10033385 24.58844292 27.16752956 19.24927826 21.8283649  17.68272393\n",
      " 20.09255262 22.67163926 30.28608553 15.73424818 21.76945397 24.34854061\n",
      " 31.96298688 27.20570243 29.78478907 37.39923534 48.45246379 70.5589207\n",
      " 18.03530496 38.42237078 67.85029394 53.35802434 64.4112528  75.46448125\n",
      " 48.17570266 16.39965454 18.97874118 26.663534   24.49186019 27.56220143\n",
      " 35.1766477  28.55805679 31.13714343 16.39965454 18.97874118 19.6219096\n",
      " 22.20099624 29.81544251 40.86867097 62.97512788 46.11227798 46.60353257\n",
      " 47.46322812 49.18261921 56.79706548 78.9035224  19.97785043 21.69724152\n",
      " 40.36491625 19.75469606 32.57072231 34.4756409  46.82922809 49.40831473\n",
      " 32.74894064 40.34456046 25.22653957 22.07973367 39.64282232 52.27108089\n",
      " 28.32060635 31.34665521 31.59039054 34.39840238 26.73050408 39.71999899\n",
      " 31.41367274 26.28341468 32.84885854 38.71263762 37.10587493 43.80295377\n",
      " 40.27161155 30.46925082 23.92237574 32.18845725 33.1706988  29.81337952\n",
      " 30.10012213 38.79423407 41.68912754 38.59152923 33.43000776 38.53887851\n",
      " 26.09313915 36.00036833 36.07517268 22.27759638 33.22122357 29.26752837\n",
      " 32.43985361 35.17657387 33.73859704 37.72297196 32.89189646 25.4252803\n",
      " 28.36633342 31.6322485  21.11201381 34.59295935 25.03769756 22.15711957\n",
      " 27.19381005 21.11942211 37.58370637 17.80828136 30.11691262 23.3646388\n",
      " 30.96551612 29.65658903 28.97890893 25.8907042  34.65614215 22.92663778\n",
      " 32.23253492 19.98156708 28.79892372 27.52402805 24.8403003  31.05411632\n",
      " 36.29783567 40.33665092 34.3570788  26.76915131 20.2022779  32.73054215\n",
      " 29.26470296 38.90037873 19.87274472 23.65222573 20.72668448 37.20877278\n",
      " 44.86397301 44.9365011  21.55209566 27.03249523 24.1147353  36.39367974\n",
      " 36.36852986 38.72171006 32.8657754  31.98933329 22.82120441 17.90677113\n",
      " 27.4026845  31.63025039 18.48727288 31.41109631 34.45556063 26.84739649\n",
      " 31.00680338 36.23892422 34.65812432 33.25141299 26.92376187 34.24509084\n",
      " 23.7915984  29.29259572 37.94883375 27.70748492 30.88780357 21.13472322\n",
      " 34.61435694 25.12219541 22.41635956 26.91088835 21.24954578 37.63617476\n",
      " 17.68112465 30.11079788 23.57917879 30.78677739 29.5420107  29.003865\n",
      " 25.90607806 34.63142061 22.84180654 32.16235217 20.00317201 28.59919495\n",
      " 27.22581696 24.84852542 31.33513023 36.48365377 40.04176974 34.46374006\n",
      " 27.03926696 20.18704102 32.65813129 29.49759925 38.85301188 19.88514763\n",
      " 23.72552367 20.64507033 37.51334034 44.93908957 44.85166986 21.66379284\n",
      " 27.38481712 24.14902535 36.37846697 36.34177602 38.74310765 32.96976084\n",
      " 31.68585249 22.94059364 17.82463759 27.35413013 31.83185695 18.4884759\n",
      " 31.72001206 32.69552387 40.28211918 25.29324325 21.91093294 39.73932219\n",
      " 52.31629212 28.2051917  31.44234729 31.49535036 34.33381433 26.7897822\n",
      " 39.71261427 31.25959827 26.0564608  32.68750354 38.73411773 36.9492793\n",
      " 43.59294794 40.55786233 30.66121193 23.76030899 32.01308655 33.3811284\n",
      " 29.89216182 29.93211621 38.89184541 41.60456006 38.57174924 33.61061641\n",
      " 38.86063598 25.92726552 35.99295949 36.38722432 22.03619484 33.2944332\n",
      " 29.33766704 32.3715032  35.28639971 33.51506978 37.77794402 33.10743391\n",
      " 25.43532904 28.48319246 31.54427842]\n"
     ]
    }
   ],
   "source": [
    "np.set_printoptions(threshold=np.inf)\n",
    "print(f\"Predição de 'Concrete compressive strength':\\n {predicted_y}\")"
   ]
  },
  {
   "cell_type": "markdown",
   "metadata": {},
   "source": [
    "#### Calculando o RMSE\n",
    "Foram calculados tanto o rmse dos dados de treino quanto dos dados de teste, para avaliação"
   ]
  },
  {
   "cell_type": "code",
   "execution_count": 16,
   "metadata": {},
   "outputs": [
    {
     "name": "stdout",
     "output_type": "stream",
     "text": [
      "RMSE entre os arrays: 8.671712453707286\n"
     ]
    }
   ],
   "source": [
    "def rmse(array1, array2):\n",
    "\n",
    "    diff = (np.array(array1) - np.array(array2)) ** 2\n",
    "\n",
    "    mean_diff = np.mean(diff)\n",
    "\n",
    "    rmse = np.sqrt(mean_diff)\n",
    "\n",
    "    return rmse\n",
    "\n",
    "rmse_teste = rmse(predicted_y, label_test)\n",
    "\n",
    "print(\"RMSE entre os arrays:\", rmse_teste)\n"
   ]
  },
  {
   "cell_type": "markdown",
   "metadata": {},
   "source": [
    "#### Desenhando o gráco valores reais (no eixo x) por valores estimados (eixo y), com a reta pontilhada representando a bissetriz do primeiro quadrante"
   ]
  },
  {
   "cell_type": "code",
   "execution_count": 17,
   "metadata": {},
   "outputs": [
    {
     "data": {
      "image/png": "[encoded data removed]",
      "text/plain": [
       "<Figure size 800x800 with 1 Axes>"
      ]
     },
     "metadata": {},
     "output_type": "display_data"
    }
   ],
   "source": [
    "def plot_valores_reais(real_y, y_predicted, title):\n",
    "    plt.figure(figsize=(8, 8))\n",
    "    \n",
    "    plt.scatter(real_y, y_predicted, color='teal', label='Valores Estimados', s=10)\n",
    "    \n",
    "    # Adicionando a reta pontilhada representando a bissetriz do primeiro quadrante\n",
    "    max_val = max(real_y.max(), y_predicted.max())\n",
    "    min_val = min(real_y.min(), y_predicted.min())\n",
    "    plt.plot([min_val, max_val], [min_val, max_val], color='deeppink', linestyle='--', label='Bissetriz')\n",
    "    \n",
    "    plt.xlabel('Valores Reais')\n",
    "    plt.ylabel('Valores Estimados')\n",
    "    plt.title(f'Valores Reais vs. Valores Estimados Conjunto de {title}')\n",
    "    plt.legend()\n",
    "    plt.show()\n",
    "\n",
    "predicted_y_train = np.dot(A, x_)\n",
    "plot_valores_reais(label_train, predicted_y_train, \"Treino\")\n"
   ]
  },
  {
   "cell_type": "code",
   "execution_count": 18,
   "metadata": {},
   "outputs": [
    {
     "data": {
      "image/png": "[encoded data removed]",
      "text/plain": [
       "<Figure size 800x800 with 1 Axes>"
      ]
     },
     "metadata": {},
     "output_type": "display_data"
    }
   ],
   "source": [
    "plot_valores_reais(label_test, predicted_y, \"Teste\")"
   ]
  }
 ],
 "metadata": {
  "kernelspec": {
   "display_name": "Python 3",
   "language": "python",
   "name": "python3"
  },
  "language_info": {
   "codemirror_mode": {
    "name": "ipython",
    "version": 3
   },
   "file_extension": ".py",
   "mimetype": "text/x-python",
   "name": "python",
   "nbconvert_exporter": "python",
   "pygments_lexer": "ipython3",
   "version": "3.10.12"
  }
 },
 "nbformat": 4,
 "nbformat_minor": 2
}
